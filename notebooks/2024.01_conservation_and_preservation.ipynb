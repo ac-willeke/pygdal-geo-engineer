{
 "cells": [
  {
   "cell_type": "markdown",
   "metadata": {},
   "source": [
    "# Area statistics for protected areas in mainland Norway\n",
    "\n",
    "[![colab](https://colab.research.google.com/assets/colab-badge.svg)](https://colab.research.google.com/github/ac-willeke/pygdal-geo-engineer/blob/main/notebooks/2024.01_conservation_and_preservation.ipynb) [![github](https://img.shields.io/badge/GitHub-View%20on%20GitHub-blue?logo=github)](https://github.com/ac-willeke/pygdal-geo-engineer/blob/main/notebooks/2024.01_conservation_and_preservation.ipynb)\n",
    "\n",
    "**Author**: Willeke A'Campo\n",
    "\n",
    "**Description:** This notebook calculates area statistics for protected areas in mainland Norway. Area statistics are calculated for the datasetes **Verneområder** og **Foreslatte verneområder** from the Norwegian Environment Agency. \n",
    "\n",
    "The area statistics can be divided in three groups:\n",
    "\n",
    "1. Area variables for the protected areas:\n",
    "    - Area (terrestrial and marine)\n",
    "    - Perimeter (terrestrial and marine)\n",
    "    - Land area (terrestrial)\n",
    "    - Perimeter land area (terrestrial)\n",
    "\n",
    "2. Overlay statistics for the protected area and the following datasets:\n",
    "    - AR50 - Bonitet\n",
    "        - Area proportion of land cover quality classes \n",
    "    - Bioklimatiske soner\n",
    "        - Area proportion of bioclimatic zone classes\n",
    "    - Infrastrukturindeks: \n",
    "        - Mean value of infrastructure index per protected area \n",
    "        - Area proportion of infrastructure index classes\n",
    "    - Høydelag\n",
    "        - Area proportion of elevation classes \n",
    "\n",
    "3. Spatial indices for the protected areas:\n",
    "    - Density of protected area per 10x10km (SSB grid)\n",
    "    - Shape Index for each protected area (land + marine)\n",
    "    - Shape index for each protected area (land)\n",
    "\n",
    "\n",
    "\n",
    "\n"
   ]
  },
  {
   "cell_type": "code",
   "execution_count": 1,
   "metadata": {},
   "outputs": [],
   "source": [
    "import os \n",
    "from osgeo import gdal\n",
    "from pathlib import Path\n",
    "\n",
    "from shapely.geometry import box\n",
    "import geopandas as gpd\n",
    "\n",
    "# mapping libraries\n",
    "# https://leafmap.org/faq/#how-to-use-a-specific-plotting-backend\n",
    "import leafmap.foliumap as leafmap"
   ]
  },
  {
   "cell_type": "code",
   "execution_count": 2,
   "metadata": {},
   "outputs": [
    {
     "name": "stdout",
     "output_type": "stream",
     "text": [
      "Gdal Version: 3.6.3 \n",
      "Project Path: /workspaces/pygdal-geo-engineer\n",
      "Path to shell scripts: /workspaces/pygdal-geo-engineer/src/shell\n",
      "Path to python scripts: /workspaces/pygdal-geo-engineer/src/python\n"
     ]
    }
   ],
   "source": [
    "project_path= Path.cwd().parents[0]\n",
    "shell_path= os.path.join(project_path, \"src\", \"shell\")\n",
    "python_path= os.path.join(project_path, \"src\", \"python\")\n",
    "\n",
    "print(f\"Gdal Version: {gdal.__version__} \")\n",
    "print(f\"Project Path: {project_path}\")\n",
    "print(f\"Path to shell scripts: {shell_path}\")\n",
    "print(f\"Path to python scripts: {python_path}\")"
   ]
  },
  {
   "cell_type": "code",
   "execution_count": 3,
   "metadata": {},
   "outputs": [],
   "source": [
    "# import local scripts\n",
    "import sys \n",
    "sys.path.append(python_path)\n",
    "\n",
    "from ogr_utils import import_gpkg, print_layer_schema"
   ]
  },
  {
   "cell_type": "markdown",
   "metadata": {},
   "source": [
    "## Import Data\n",
    "\n",
    "Download datasets and import data into `vern_25833.gpkg` and `bevaring_25833.gpkg` using gdal.\n",
    "\n",
    "\n",
    "\n",
    "**vern_25833.gpkg** contains the following layers:\n",
    "| Layer | Dataset Name | Description | Year | Source |\n",
    "|-------| ------------ | ----------- | ---- | ------ |\n",
    "| naturvernomrade | Naturvernområder| Nature protected areas | 2024 | [Miljødirektoratet](https://kartkatalog.miljodirektoratet.no/Dataset/Details/0) |\n",
    "| foreslatt_vern | Foreslåtte naturvernområder | Planned nature protected areas | 2024 | [Miljødirektoratet](https://kartkatalog.miljodirektoratet.no/Dataset/Details/1)| \n",
    "\n",
    "**bevaring_25833.gpkg** contains the following layers:\n",
    "|Layer| Dataset Name | Description | Year | Source |\n",
    "|-----| ------------ | ----------- | ---- | ------ |\n",
    "| ar50_2022 | AR50 | Land cover classes | 2022 | [NIBIO](https://kart8.nibio.no/nedlasting/dashboard) |\n",
    "| bioklima_soner_2017 | Bioklimatiske soner | Bioclimatic zones | 2017 | [Artsdatabanken](https://data.artsdatabanken.no/Natur_i_Norge/Natursystem/Beskrivelsessystem/Regional_naturvariasjon/Bioklimatisk_sone) |\n",
    "\n",
    "**other data**\n",
    "\n",
    "| Filename | Dataset Name | Description | Year | Source |\n",
    "|----------| ------------ | ----------- | ---- | ------ |\n",
    "| ssb_grid_5km.geojson | SSB rutenett (5x5 km)| Grid for Norway | 2024 | [SSB](https://kart.ssb.no/) |\n",
    "| fylker_2024.geojson | Fylker, 2024 | Provincial Boundaries | 2024 | [SSB](https://www.ssb.no/en/kart/griddata) |\n",
    "| Infra25m.tif | Infrastrukturindeks | Infrastructure index (25m)| 2024 | Internal NINA datasett |\n"
   ]
  },
  {
   "cell_type": "code",
   "execution_count": 29,
   "metadata": {},
   "outputs": [
    {
     "name": "stdout",
     "output_type": "stream",
     "text": [
      "/workspaces/pygdal-geo-engineer/data\n",
      "GDAL 3.6.3, released 2023/03/07\n"
     ]
    },
    {
     "name": "stdout",
     "output_type": "stream",
     "text": [
      "Input: vern_25833.gpkg\n",
      "Process: logging info and writing metadata\n",
      "Logfile: reproject.log\n",
      "Metadata: metadata.txt\n"
     ]
    }
   ],
   "source": [
    "# run shell scripts from /src/shell\n",
    "os.chdir(shell_path)\n",
    "\n",
    "data_path = str(os.path.join(project_path, \"data\"))\n",
    "input_file = \"vern_25833.gpkg\"\n",
    "print(data_path)\n",
    "\n",
    "! gdalinfo --version\n",
    "! chmod +x gdal_gpkg-info.sh\n",
    "! ./gdal_gpkg-info.sh {data_path} {input_file}"
   ]
  },
  {
   "cell_type": "markdown",
   "metadata": {},
   "source": [
    "## Data Preparation\n",
    "\n",
    "### Protected Areas\n",
    "\n",
    "Divide the protected areas into terrestrial and marine areas\n",
    "\n",
    "Bonitet = 17 (Hav) are considered as marine areas, all other areas are considered as terrestrial areas.\n"
   ]
  },
  {
   "cell_type": "code",
   "execution_count": null,
   "metadata": {},
   "outputs": [],
   "source": []
  },
  {
   "cell_type": "code",
   "execution_count": null,
   "metadata": {},
   "outputs": [],
   "source": []
  },
  {
   "cell_type": "markdown",
   "metadata": {},
   "source": [
    "### Dovrefjell Example\n",
    "\n",
    "https://ipyleaflet.readthedocs.io/en/latest/installation/index.html#using-pip \n"
   ]
  },
  {
   "cell_type": "code",
   "execution_count": null,
   "metadata": {},
   "outputs": [],
   "source": [
    "# Create a bounding box\n",
    "dovreBB = box(minx=210000.00, miny=6920000.00, maxx=240000.00, maxy=6950000.00)\n",
    "#trondheimBB = box(minx=260520.12, miny=7032142.5, maxx=278587.56, maxy=7045245.27)\n",
    "\n",
    "crs = 'EPSG:25833'\n",
    "\n",
    "gdf_BB = gpd.GeoDataFrame(geometry=[dovreBB])\n",
    "gdf_BB['name'] = 'Dovre_BB'\n",
    "gdf_BB.crs = crs\n",
    "bounds = gdf_BB.bounds.to_numpy().tolist()[0]\n",
    "\n",
    "# Display data on map using leafmap\n",
    "init_location = [62.223207, 9.550195]  # Hjerkinn\n",
    "zoom_start = 13  \n",
    "min_zoom = 8  # keeps user from zooming out too far\n",
    "basemap = leafmap.Map(\n",
    "    location=init_location, \n",
    "    zoom=zoom_start, \n",
    "    min_zoom=min_zoom, \n",
    "    max_bounds=True\n",
    "    )\n",
    "\n",
    "# add bounding box\n",
    "basemap.add_gdf(gdf_BB, layer_name=\"Dovre_BB\", fill_color=\"blue\", fill_opacity=0.2, weight=2)\n",
    "\n",
    "basemap"
   ]
  },
  {
   "cell_type": "markdown",
   "metadata": {},
   "source": [
    "### AR50 - Bonitet\n",
    "\n",
    "Translate the Bonitet classes using a lookup table.\n",
    " \n",
    "&emsp; $Bonitet = (artype, artreslag, arskogbon, arjordbr, ardyrkning, arveget)$ "
   ]
  },
  {
   "cell_type": "code",
   "execution_count": null,
   "metadata": {},
   "outputs": [],
   "source": []
  },
  {
   "cell_type": "code",
   "execution_count": null,
   "metadata": {},
   "outputs": [],
   "source": [
    "os.chdir(python_path)\n",
    "\n",
    "from ogr_utils import import_gpkg, print_layer_schema\n",
    "\n",
    "in_gpkg = os.path.join(root, \"bevaring_25833.gpkg\")\n",
    "layer_name = \"org_ar_ar50_flate\"\n",
    "lookup_csv = os.path.join(root, \"AR50_bonitet_lookup.csv\")\n",
    "\n",
    "new_field_name = \"ar50_bonitet\"\n",
    "\n",
    "\n",
    "\n",
    "ds, lyr = import_gpkg(in_gpkg, layer_name, new_field_name)\n",
    "    print_layer_schema(lyr)\n",
    "    lookup_dict = create_lookup_dict(lookup_csv)\n",
    "    reclassify_attribute_values(lyr, lookup_dict)\n",
    "    ds = None\n",
    "    print(\"Done\")"
   ]
  },
  {
   "cell_type": "markdown",
   "metadata": {},
   "source": [
    "### Infrastructure index\n",
    "\n",
    "- Calculate and display the distribution of the infrastructure index for the whole of norway \n",
    "- Calculate and display the distribution of the infrastructure index per region\n",
    "- Calculate and display the distribution of the infrastructure index per protected area\n",
    "- Define the infrastructure index classes\n"
   ]
  },
  {
   "cell_type": "code",
   "execution_count": null,
   "metadata": {},
   "outputs": [],
   "source": []
  },
  {
   "cell_type": "markdown",
   "metadata": {},
   "source": [
    "### Topographic height\n",
    "\n",
    "Classify the topographic height into 4 classes:\n",
    "- 0-300m\n",
    "- 301-600m\n",
    "- 601-900m\n",
    "- over 900m"
   ]
  },
  {
   "cell_type": "markdown",
   "metadata": {},
   "source": [
    "## Methods\n",
    "### 1. Area variables for protected areas\n",
    "\n",
    "| Protected area | Total area (km2) | Perimeter (km) | Land area (km2) | Perimeter land area (km) |\n",
    "|----------------|------------|----------------|-----------------|-------------------------|\n",
    "| area A         |    *        |                |                 |                         |"
   ]
  },
  {
   "cell_type": "code",
   "execution_count": null,
   "metadata": {},
   "outputs": [],
   "source": []
  },
  {
   "cell_type": "markdown",
   "metadata": {},
   "source": [
    "### 2. Overlay statistics for the protected area and the following datasets:\n",
    "\n",
    "Administrative regions:\n",
    "- Municipalities\n",
    "- Counties\n",
    "- Regions \n",
    "    - **Nord**: Finnmark, Troms, Nordland\n",
    "    - **Midt**: Trøndelag, Møre og Romsdal\n",
    "    - **Sør**: Agder, Vestfold, Telemark\n",
    "    - **Øst**: Østfold, Akershus, Oslo, Innlandet, Buskerud\n",
    "    - **Vest**: Vestland, Rogaland\n",
    "\n",
    "\n",
    "| Protected area | Municipality | County | Region |\n",
    "|----------------|---------|-------|--------|\n",
    "| *NaturvernId*  |*kommune*|*fylke*|*region*|\n",
    "| area A         |         |       |        |"
   ]
  },
  {
   "cell_type": "code",
   "execution_count": null,
   "metadata": {},
   "outputs": [],
   "source": []
  },
  {
   "cell_type": "markdown",
   "metadata": {},
   "source": [
    "\n",
    "\n",
    "**AR50 - Bonitet**\n",
    "\n",
    "| Protected area | Fulldyrka og overflatedyrka jord (%) | Innmarksbeite (%) | Skog, høg og særs høg bonitet (%) | ... |\n",
    "|----------------|--------------------------------------|-------------------|-----------------------------------|-----|\n",
    "| *NaturvernId*  |*AR50_bon_1*|*AR50_bon_2*|*AR50_bon_3*|...|\n",
    "| area A         |                                      |                   |                                   |     |\n"
   ]
  },
  {
   "cell_type": "code",
   "execution_count": null,
   "metadata": {},
   "outputs": [],
   "source": []
  },
  {
   "cell_type": "markdown",
   "metadata": {},
   "source": [
    "**Bioklimatiske soner**\n",
    "\n",
    "| Protected area | Sone 1 (%) | Sone 2 (%) | Sone 3 (%) | ... |\n",
    "|----------------|------------|------------|------------|-----|\n",
    "| *NaturvernId*  |*bioklima_1*|*bioklima_2*|*bioklima_3*|...  |\n",
    "| area A         |            |            |            |     |"
   ]
  },
  {
   "cell_type": "code",
   "execution_count": null,
   "metadata": {},
   "outputs": [],
   "source": []
  },
  {
   "cell_type": "markdown",
   "metadata": {},
   "source": [
    "**Infrastrukturindeks**\n",
    "\n",
    "| Protected area | Mean value | Lav (%) | Middels (%) | Høy (%) | ... |\n",
    "|----------------|------------|---------|-------------|---------|-----|\n",
    "| area A         |            |         |             |         |     |\n"
   ]
  },
  {
   "cell_type": "code",
   "execution_count": null,
   "metadata": {},
   "outputs": [],
   "source": []
  },
  {
   "cell_type": "markdown",
   "metadata": {},
   "source": [
    "**Høydelag**\n",
    "\n",
    "| Protected area | 0-300 m (%) | 301-600 m (%) | 601-900 m (%) | over 900 m (%) |\n",
    "|----------------|-------------|---------------|---------------|----------------|\n",
    "| area A         |             |               |               |                |\n"
   ]
  },
  {
   "cell_type": "code",
   "execution_count": null,
   "metadata": {},
   "outputs": [],
   "source": []
  },
  {
   "cell_type": "markdown",
   "metadata": {},
   "source": [
    "###  3. Spatial indices for the protected areas\n",
    "\n",
    "| Protected area | Density (land + marine) | Density (land) | SI (land + marine) | SI (land) |\n",
    "|----------------|--------------------------|----------------|--------------------|-----------|\n",
    "| area A         |                          |                |                    |           |\n",
    "\n",
    "\n",
    "\n"
   ]
  },
  {
   "cell_type": "code",
   "execution_count": null,
   "metadata": {},
   "outputs": [],
   "source": [
    "# prepare"
   ]
  },
  {
   "cell_type": "markdown",
   "metadata": {},
   "source": [
    "***\n",
    "$\\mathbf{\\text{Density}}$<br>\n",
    "***\n",
    "The density of protected area per 10x10km (SSB grid) is calculated by dividing the area of the protected area by 100 km^2.\n",
    "\n",
    "**Density:**&emsp;      $Density = \\frac{A}{100 km^2}$\n",
    "\n"
   ]
  },
  {
   "cell_type": "code",
   "execution_count": null,
   "metadata": {},
   "outputs": [],
   "source": [
    "# code for density calculation here"
   ]
  },
  {
   "cell_type": "markdown",
   "metadata": {},
   "source": [
    "***\n",
    "$\\mathbf{\\text{Shape Index}}$<br>\n",
    "***\n",
    "The shape index is a measure of how compact the shape is compared to a circle with the same area. The shape index is calculated for the entire protected area and the land area. The shape index is a value between 0 and 1, where 0 is a perfect circle and 1 is a long and narrow shape.\n",
    "\n",
    "- $P$ = perimeter\n",
    "- $r$ = radius\n",
    "- $A$ = area\n",
    "\n",
    "\n",
    "**Shape Index:**&emsp;      $SI = \\frac{P}{2\\pi r}$\n",
    "\n",
    "**Radius:**&emsp; $r = \\sqrt{\\frac{A}{\\pi}}$"
   ]
  },
  {
   "cell_type": "code",
   "execution_count": null,
   "metadata": {},
   "outputs": [],
   "source": [
    "# code for shape index calculation here"
   ]
  }
 ],
 "metadata": {
  "kernelspec": {
   "display_name": "Python 3 (ipykernel)",
   "language": "python",
   "name": "python3"
  },
  "language_info": {
   "codemirror_mode": {
    "name": "ipython",
    "version": 3
   },
   "file_extension": ".py",
   "mimetype": "text/x-python",
   "name": "python",
   "nbconvert_exporter": "python",
   "pygments_lexer": "ipython3",
   "version": "3.10.12"
  }
 },
 "nbformat": 4,
 "nbformat_minor": 2
}
