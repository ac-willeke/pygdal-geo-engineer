{
 "cells": [
  {
   "cell_type": "markdown",
   "metadata": {},
   "source": [
    "# Area statistics for protected areas in mainland Norway\n",
    "\n",
    "[![colab](https://colab.research.google.com/assets/colab-badge.svg)](https://colab.research.google.com/github/ac-willeke/pygdal-geo-engineer/blob/main/notebooks/2024.01_conservation_and_preservation.ipynb) [![github](https://img.shields.io/badge/GitHub-View%20on%20GitHub-blue?logo=github)](https://github.com/ac-willeke/pygdal-geo-engineer/blob/main/notebooks/2024.01_conservation_and_preservation.ipynb)\n",
    "\n",
    "**Author**: Willeke A'Campo\n",
    "\n",
    "**Description:** This notebook calculates area statistics for protected areas in mainland Norway. Area statistics are calculated for the datasetes **Verneområder** og **Foreslatte verneområder** from the Norwegian Environment Agency. \n",
    "\n",
    "The area statistics can be divided in three groups:\n",
    "\n",
    "1. Area variables for the protected areas:\n",
    "    - Area (terrestrial and marine)\n",
    "    - Perimeter (terrestrial and marine)\n",
    "    - Land area (terrestrial)\n",
    "    - Perimeter land area (terrestrial)\n",
    "\n",
    "2. Overlay statistics for the protected area and the following datasets:\n",
    "    - AR50 - Bonitet\n",
    "        - Area proportion of land cover quality classes \n",
    "    - Bioklimatiske soner\n",
    "        - Area proportion of bioclimatic zone classes\n",
    "    - Infrastrukturindeks: \n",
    "        - Mean value of infrastructure index per protected area \n",
    "        - Area proportion of infrastructure index classes\n",
    "    - Høydelag\n",
    "        - Area proportion of elevation classes \n",
    "\n",
    "3. Spatial indices for the protected areas:\n",
    "    - Density of protected area per 10x10km (SSB grid)\n",
    "    - Shape Index for each protected area (land + marine)\n",
    "    - Shape index for each protected area (land)\n",
    "\n",
    "\n",
    "\n",
    "\n"
   ]
  },
  {
   "cell_type": "markdown",
   "metadata": {},
   "source": [
    "## Configure Workflow"
   ]
  },
  {
   "cell_type": "code",
   "execution_count": null,
   "metadata": {},
   "outputs": [],
   "source": [
    "# Variables to control the execution of the workflow\n",
    "gis_server = True # True = use GIS server, False = use local files\n",
    "load_data = False # True = load data from source, False = data is already loaded\n",
    "test_area = False # True = test area, False = full area\n",
    "prepare_duckdb = False # True = prepare duckdb, False = duckdb is already prepared\n",
    "run_ar50 = False # True = run AR50 area calc , False = AR50 is already run\n",
    "\n",
    "# protected area\n",
    "protected_area = "
   ]
  },
  {
   "cell_type": "code",
   "execution_count": null,
   "metadata": {},
   "outputs": [],
   "source": [
    "import os \n",
    "from osgeo import gdal\n",
    "from pathlib import Path\n",
    "from itertools import islice\n",
    "\n",
    "import pandas as pd\n",
    "import geopandas as gpd\n",
    "from shapely import wkt\n",
    "from shapely.geometry import box\n",
    "\n",
    "# mapping libraries\n",
    "# https://leafmap.org/faq/#how-to-use-a-specific-plotting-backend\n",
    "import leafmap.foliumap as leafmap"
   ]
  },
  {
   "cell_type": "code",
   "execution_count": null,
   "metadata": {},
   "outputs": [],
   "source": [
    "project_path= Path.cwd().parents[0]\n",
    "shell_path= os.path.join(project_path, \"src\", \"shell\")\n",
    "python_path= os.path.join(project_path, \"src\", \"python\")\n",
    "\n",
    "if gis_server:\n",
    "    user = \"willeke.acampo\" #input(\"Username: firstname.lastname\")\n",
    "    data_path = f\"/home/NINA.NO/{user}/Mounts/scratch/wilaca/vern_og_bevaring/data\"\n",
    "else:\n",
    "    data_path = os.path.join(project_path, \"data\")\n",
    "\n",
    "print(f\"Gdal Version: {gdal.__version__} \")\n",
    "print(f\"Project Path: {project_path}\")\n",
    "print(f\"Path to shell scripts: {shell_path}\")\n",
    "print(f\"Path to python scripts: {python_path}\")\n",
    "print(f\"Path to data: {data_path}\")"
   ]
  },
  {
   "cell_type": "code",
   "execution_count": null,
   "metadata": {},
   "outputs": [],
   "source": [
    "# import local scripts\n",
    "import sys \n",
    "sys.path.append(python_path)\n",
    "\n",
    "from ogr_utils import import_gpkg, print_layer_schema\n",
    "from lookup import create_lookup_dict, lookup_value\n",
    "from duckdb_utils import *"
   ]
  },
  {
   "cell_type": "markdown",
   "metadata": {},
   "source": [
    "## Download and Import Data"
   ]
  },
  {
   "cell_type": "markdown",
   "metadata": {},
   "source": [
    "Get the data and import into geopackages `vern_25833.gpkg` and `bevaring_25833.gpkg` using ogr2ogr.\n",
    "\n",
    "```python\n",
    "# change path to data folder\n",
    "os.chdir(os.path.join(data_path, \"raw\"))\n",
    "print(f\"Download data to: {os.getcwd()}\")\n",
    "```\n",
    "\n",
    "```bash\n",
    "# ArcGIS REST: Naturvern (02.2024)\n",
    "ogr2ogr -f \"GPKG\" -t_srs EPSG:25833 -nln naturvernomrade -nlt MULTIPOLYGON vern_25833.gpkg \"https://kart.miljodirektoratet.no/arcgis/rest/services/vern/mapserver/0/query?where=1%3D1&outfields=*&f=json&resultRecordCount=1\"\n",
    "\n",
    "# ArcGIS REST: Foreslåtte verneområder (02.2024)\n",
    "ogr2ogr -f \"GPKG\" -t_srs EPSG:25833 -nln foreslatt_vern -nlt MULTIPOLYGON vern_25833.gpkg \"https://kart.miljodirektoratet.no/arcgis/rest/services/vern/mapserver/4/query?where=1%3D1&outfields=*&f=json&resultRecordCount=1\"\n",
    "\n",
    "# AR50 - 2022 \n",
    "# Stored on NINA's server /GeoSpatialData\n",
    "\n",
    "# Bioklima\n",
    "# Received from V. Bakkestuen (NINA)\n",
    "\n",
    "# SSB grid\n",
    "curl -o Ruter_10KM_norge.zip \"https://www.ssb.no/natur-og-miljo/_attachment/375082?_ts=1685c0e69b8\"\n",
    "unzip Ruter_10KM_norge.zip\n",
    "\n",
    "# Fylkerområder\n",
    "# Stored on NINA's server /GeoSpatialData\n",
    "\n",
    "# Infrastruktur\n",
    "# Received from V. Bakkestuen (NINA)\n",
    "```"
   ]
  },
  {
   "cell_type": "markdown",
   "metadata": {},
   "source": [
    "Downloaded datasets are stored in the `/data` folder:\n",
    "\n",
    "**vern_25833.gpkg** contains the following layers:\n",
    "| Layer | Dataset Name | Description | Year | Source |\n",
    "|-------| ------------ | ----------- | ---- | ------ |\n",
    "| naturvernomrade | Naturvernområder| Nature protected areas | 2024 | [Miljødirektoratet](https://kartkatalog.miljodirektoratet.no/Dataset/Details/0) |\n",
    "| foreslatt_vern | Foreslåtte naturvernområder | Planned nature protected areas | 2024 | [Miljødirektoratet](https://kartkatalog.miljodirektoratet.no/Dataset/Details/1)| \n",
    "\n",
    "**bevaring_25833.gpkg** contains the following layers:\n",
    "|Layer| Dataset Name | Description | Year | Source |\n",
    "|-----| ------------ | ----------- | ---- | ------ |\n",
    "| ar50_2022 | AR50 | Land cover classes | 2022 | [NIBIO](https://kart8.nibio.no/nedlasting/dashboard) |\n",
    "| bioklima_soner_2017 | Bioklimatiske soner | Bioclimatic zones | 2017 | [Artsdatabanken](https://data.artsdatabanken.no/Natur_i_Norge/Natursystem/Beskrivelsessystem/Regional_naturvariasjon/Bioklimatisk_sone) |\n",
    "\n",
    "**other files**\n",
    "\n",
    "| Filename | Dataset Name | Description | Year | Source |\n",
    "|----------| ------------ | ----------- | ---- | ------ |\n",
    "| ssb_grid_5km.geojson | SSB rutenett (5x5 km)| Grid for Norway | 2024 | [SSB](https://kart.ssb.no/) |\n",
    "| fylker_2024.geojson | Fylker, 2024 | Provincial Boundaries | 2024 | [SSB](https://www.ssb.no/en/kart/griddata) |\n",
    "| Infra25m.tif | Infrastrukturindeks | Infrastructure index (25m)| 2024 | Internal NINA datasett |"
   ]
  },
  {
   "cell_type": "code",
   "execution_count": null,
   "metadata": {},
   "outputs": [],
   "source": [
    "if load_data: \n",
    "    # run shell scripts from /src/shell\n",
    "    os.chdir(shell_path)\n",
    "\n",
    "    input_file = \"vern_25833.gpkg\"\n",
    "    path = os.path.join(data_path, \"interim\")\n",
    "\n",
    "    ! gdalinfo --version\n",
    "    ! chmod +x gdal_gpkg-info.sh\n",
    "    ! ./gdal_gpkg-info.sh {path} {input_file}"
   ]
  },
  {
   "cell_type": "markdown",
   "metadata": {},
   "source": [
    "## Data Preparation"
   ]
  },
  {
   "cell_type": "markdown",
   "metadata": {},
   "source": [
    "### Sudy Area | Norway Mainland\n",
    "\n",
    "This workflow is created and run for Norway mainland. If you like to test or use the workflow we recommend running it first on a study area. Below are bounding box coordinates provided for Dovrefjell, Fosen or Trondheim area. \n",
    "\n",
    "**Create Bounding Box** "
   ]
  },
  {
   "cell_type": "code",
   "execution_count": null,
   "metadata": {},
   "outputs": [],
   "source": [
    "# bounding box Dovrefjell\n",
    "bounding_box = \"fosen\"  # \"dovrefjell\" or \"trondheim\"\n",
    "\n",
    "if bounding_box == \"dovrefjell\":\n",
    "    xmin, ymin, xmax, ymax = 160000.00, 6900000.00, 260000.00, 6950000.00\n",
    "if bounding_box == \"fosen\":\n",
    "    xmin, ymin, xmax, ymax = 180000.00, 7010000.00, 290000.00, 7150000.00\n",
    "if bounding_box == \"trondheim\":\n",
    "    xmin, ymin, xmax, ymax = 260520.12, 7032142.5, 278587.56, 7045245.27\n",
    "\n",
    "# Create a bounding box\n",
    "boxBB =  box(xmin, ymin, xmax, ymax)\n",
    "crs = 'EPSG:25833'\n",
    "\n",
    "gdf_BB = gpd.GeoDataFrame(geometry=[boxBB])\n",
    "gdf_BB['name'] = 'Dovre_BB'\n",
    "gdf_BB.crs = crs\n",
    "bounds = gdf_BB.bounds.to_numpy().tolist()[0]"
   ]
  },
  {
   "cell_type": "code",
   "execution_count": null,
   "metadata": {},
   "outputs": [],
   "source": [
    "if load_data: \n",
    "    # run shell scripts from /src/shell\n",
    "    os.chdir(shell_path)\n",
    "    for file in [\"vern\", \"bevaring\", \"admin\"]:\n",
    "        input_file = os.path.join(data_path, \"interim\", f\"{file}_25833.gpkg\")\n",
    "        output_file = os.path.join(data_path, \"tmp\", f\"{file}_25833_bbox.gpkg\")\n",
    "        \n",
    "        #for layer_name in layer_names:\n",
    "        ! chmod +x gdal_copy-file-bbox.sh\n",
    "        ! ./gdal_copy-file-bbox.sh {input_file} {output_file} {xmin} {ymin} {xmax} {ymax}"
   ]
  },
  {
   "cell_type": "markdown",
   "metadata": {},
   "source": [
    "### AR50 - Bonitet\n",
    "\n",
    "Translate the Bonitet classes using a lookup table.\n",
    " \n",
    "&emsp; $Bonitet = (artype, artreslag, arskogbon, arjordbr, ardyrkning, arveget)$ "
   ]
  },
  {
   "cell_type": "code",
   "execution_count": null,
   "metadata": {},
   "outputs": [],
   "source": [
    "if load_data: \n",
    "    # create a temporary test gpkg\n",
    "    tmp_gpkg = os.path.join(data_path, \"tmp\", \"tmp.gpkg\")\n",
    "    in_gpkg = os.path.join(data_path, \"interim\", \"bevaring_25833.gpkg\")\n",
    "    print(tmp_gpkg)\n",
    "\n",
    "    sql_query = f'SELECT * FROM \"ar50_flate\" LIMIT 5'\n",
    "    path = os.path.join(data_path, \"tmp\")\n",
    "    ! ogr2ogr -f \"GPKG\" -nln \"ar50_flate\" -sql \"$sql_query\" {tmp_gpkg} {in_gpkg}"
   ]
  },
  {
   "cell_type": "code",
   "execution_count": null,
   "metadata": {},
   "outputs": [],
   "source": [
    "# ar50 layer\n",
    "layer_name, new_field_name = \"ar50_flate\", \"ar50_bonitet\"\n",
    "\n",
    "if test_area:\n",
    "    # import gpkg into ogr object \n",
    "    # add field name if it does not exist\n",
    "    tmp_gpkg = os.path.join(data_path, \"tmp\", \"bevaring_25833_bbox.gpkg\")\n",
    "    ds, lyr = import_gpkg(tmp_gpkg, layer_name, new_field_name)\n",
    "    #print_layer_schema(lyr)\n",
    "else:\n",
    "    # import gpkg into ogr object \n",
    "    # add field name if it does not exist\n",
    "    in_gpkg = os.path.join(data_path, \"interim\", \"bevaring_25833.gpkg\")\n",
    "    ds, lyr = import_gpkg(in_gpkg, layer_name, new_field_name)\n",
    "    #print_layer_schema(lyr)\n",
    "\n",
    "# Convert the first 5 features of the layer to a DataFrame\n",
    "# use islice to limit the number of features to 5, to reduce computation time\n",
    "df_AR50 = pd.DataFrame(feature.items() for feature in islice(lyr, 5))\n",
    "\n",
    "# Print the DataFrame\n",
    "df_AR50"
   ]
  },
  {
   "cell_type": "code",
   "execution_count": null,
   "metadata": {},
   "outputs": [],
   "source": [
    "# lookup table \n",
    "lookup_csv = os.path.join(data_path, \"AR50_bonitet_lookup.csv\")\n",
    "lookup_df = pd.read_csv(lookup_csv)\n",
    "\n",
    "# rename cols to correspond with AR50 lyr\n",
    "lookup_df.rename(\n",
    "    columns={\n",
    "        \"ARTYPE kode\": \"artype\",\n",
    "        \"ARTRESLAG kode\": \"artreslag\",\n",
    "        \"ARSKOGBON kode\": \"arskogbon\",\n",
    "        \"ARJORDBR kode\": \"arjordbr\",\n",
    "        \"ARDYRKING kode\": \"ardyrking\",\n",
    "        \"ARVEGET kode\": \"arveget\",\n",
    "        \"Bonitet kode\": \"ar50_bonitet\",\n",
    "    },\n",
    "    inplace=True,\n",
    ")\n",
    "\n",
    "# reorder cols to correspond with AR50 lyr\n",
    "lookup_df = lookup_df[\n",
    "    [\n",
    "        \"artype\",\n",
    "        \"arskogbon\",\n",
    "        \"artreslag\",\n",
    "        \"arveget\",\n",
    "        \"arjordbr\",\n",
    "        \"ardyrking\",\n",
    "        \"Beskrivelse\",\n",
    "        \"ar50_bonitet\",\n",
    "    ]\n",
    "]\n",
    "\n",
    "display(lookup_df.head(11))"
   ]
  },
  {
   "cell_type": "code",
   "execution_count": null,
   "metadata": {},
   "outputs": [],
   "source": [
    "# create lookup dict\n",
    "# keys must be in same order as gpkg lyr fields\n",
    "keys = (\n",
    "    \"artype\",\n",
    "    \"arskogbon\",\n",
    "    \"artreslag\",\n",
    "    \"arveget\",\n",
    "    \"arjordbr\",\n",
    "    \"ardyrking\",\n",
    "    )\n",
    "\n",
    "value= \"ar50_bonitet\"\n",
    "\n",
    "lookup_dict = create_lookup_dict(\n",
    "    lookup_df,\n",
    "    keys=keys,\n",
    "    value=value\n",
    ")\n",
    "\n",
    "# print first two entries of dict\n",
    "print({k: lookup_dict[k] for k in list(lookup_dict)[:11]})"
   ]
  },
  {
   "cell_type": "code",
   "execution_count": null,
   "metadata": {},
   "outputs": [],
   "source": [
    "if load_data:\n",
    "    # loop through the features and reclassify the attribute value \"ar50_bonitet\"\n",
    "    features_to_update = []\n",
    "\n",
    "    for feature in lyr:\n",
    "        # get the attribute values\n",
    "        artype = feature.GetField(\"artype\")\n",
    "        arskogbon = feature.GetField(\"arskogbon\")\n",
    "        artreslag = feature.GetField(\"artreslag\")\n",
    "        arveget = feature.GetField(\"arveget\")\n",
    "        arjordbr = feature.GetField(\"arjordbr\")\n",
    "        ardyrking = feature.GetField(\"ardyrking\")\n",
    "\n",
    "        key = (int(artype), int(arskogbon), int(artreslag), int(arveget), int(arjordbr), int(ardyrking))\n",
    "        if key in lookup_dict:\n",
    "            new_value = lookup_dict[key]\n",
    "            feature.SetField(\"ar50_bonitet\", new_value)\n",
    "            features_to_update.append(feature)\n",
    "\n",
    "    print(f\"Number of features to update: {len(features_to_update)}\")\n",
    "    # Batch update features\n",
    "    for feature in features_to_update:\n",
    "        lyr.SetFeature(feature)\n",
    "\n",
    "    print(\"Finished updating Bonitet.\")\n",
    "\n",
    "    df_AR50_bon = pd.DataFrame(feature.items() for feature in islice(lyr, 5))\n",
    "    display(df_AR50_bon.head())\n",
    "\n",
    "# close OGR object\n",
    "ds = None"
   ]
  },
  {
   "cell_type": "code",
   "execution_count": null,
   "metadata": {},
   "outputs": [],
   "source": [
    "if load_data:\n",
    "    # Define the SQL queries\n",
    "    sql_marine = f\"SELECT * FROM ar50_flate WHERE ar50_bonitet = 17\"\n",
    "    sql_terrestisk = f\"SELECT * FROM ar50_flate WHERE ar50_bonitet != 17\"\n",
    "\n",
    "    if test_area:\n",
    "        # import gpkg into ogr object \n",
    "        # add field name if it does not exist\n",
    "        in_gpkg = os.path.join(data_path, \"tmp\", \"bevaring_25833_bbox.gpkg\")\n",
    "        out_gpkg = os.path.join(data_path, \"tmp\", \"interim_25833_bbox.gpkg\")\n",
    "    else:\n",
    "        # import gpkg into ogr object \n",
    "        # add field name if it does not exist\n",
    "        in_gpkg = os.path.join(data_path, \"interim\", \"bevaring_25833.gpkg\")\n",
    "        out_gpkg = os.path.join(data_path, \"interim\", \"interim_25833.gpkg\")\n",
    "\n",
    "    print(out_gpkg)\n",
    "\n",
    "    # Create the ar50_marine layer\n",
    "    ! ogr2ogr -f \"GPKG\" -nln \"ar50_marine\" -sql \"$sql_marine\" -append {out_gpkg} {in_gpkg}\n",
    "    # Create the ar50_terrestisk layer\n",
    "    ! ogr2ogr -f \"GPKG\" -nln \"ar50_terrestisk\" -sql \"$sql_terrestisk\" -append {out_gpkg} {in_gpkg}"
   ]
  },
  {
   "cell_type": "markdown",
   "metadata": {},
   "source": [
    "### Infrastructure index\n",
    "\n",
    "- Calculate and display the distribution of the infrastructure index for the whole of norway \n",
    "- Calculate and display the distribution of the infrastructure index per region\n",
    "- Calculate and display the distribution of the infrastructure index per protected area\n",
    "- Define the infrastructure index classes\n"
   ]
  },
  {
   "cell_type": "markdown",
   "metadata": {},
   "source": [
    "### Topographic height\n",
    "\n",
    "Classify the topographic height into 4 classes:\n",
    "- 0-300m\n",
    "- 301-600m\n",
    "- 601-900m\n",
    "- over 900m"
   ]
  },
  {
   "cell_type": "markdown",
   "metadata": {},
   "source": [
    "## Load data into Spatial Database (DuckDB)\n"
   ]
  },
  {
   "cell_type": "markdown",
   "metadata": {},
   "source": [
    "### Load data into DuckDB"
   ]
  },
  {
   "cell_type": "code",
   "execution_count": null,
   "metadata": {},
   "outputs": [],
   "source": [
    "if test_area:\n",
    "    db_path = os.path.join(data_path, \"tmp\", \"verg_og_bevaring_tmp.db\")\n",
    "else:\n",
    "    db_path = os.path.join(data_path, \"interim\", \"verg_og_bevaring.db\")"
   ]
  },
  {
   "cell_type": "markdown",
   "metadata": {},
   "source": [
    "**Load Bioklima soner into DuckDB**"
   ]
  },
  {
   "cell_type": "code",
   "execution_count": null,
   "metadata": {},
   "outputs": [],
   "source": [
    "if prepare_duckdb:\n",
    "    # AR50 into duckdb\n",
    "    if test_area:\n",
    "        in_gpkg = os.path.join(data_path, \"tmp\", \"bevaring_25833_bbox.gpkg\")\n",
    "        db_path = os.path.join(data_path, \"tmp\", \"verg_og_bevaring_tmp.db\")\n",
    "        load_gpkg_layers(db_path, in_gpkg, \"bioklima_2017\")\n",
    "        load_gpkg_layers(db_path, in_gpkg, \"soner_2017_1km\")\n",
    "    else:\n",
    "        in_gpkg = os.path.join(data_path, \"interim\", \"bevaring_25833.gpkg\")\n",
    "        db_path = os.path.join(data_path, \"interim\", \"verg_og_bevaring.db\")\n",
    "        load_gpkg_layers(db_path, in_gpkg, \"bioklima_2017\")\n",
    "        load_gpkg_layers(db_path, in_gpkg, \"soner_2017_1km\")"
   ]
  },
  {
   "cell_type": "markdown",
   "metadata": {},
   "source": [
    "**Load AR50 into DuckDB**"
   ]
  },
  {
   "cell_type": "code",
   "execution_count": null,
   "metadata": {},
   "outputs": [],
   "source": [
    "prepare_duckdb_ar50 = False\n",
    "if prepare_duckdb_ar50:\n",
    "    # AR50 into duckdb\n",
    "    if test_area:\n",
    "        in_gpkg = os.path.join(data_path, \"tmp\", \"bevaring_25833_bbox.gpkg\")\n",
    "        db_path = os.path.join(data_path, \"tmp\", \"verg_og_bevaring_tmp.db\")\n",
    "        load_gpkg_layers(db_path, in_gpkg, \"ar50_flate\")\n",
    "        load_gpkg_layers(db_path, in_gpkg, \"ar50_flate_msk\")\n",
    "    else:\n",
    "        in_gpkg = os.path.join(data_path, \"interim\", \"bevaring_25833.gpkg\")\n",
    "        db_path = os.path.join(data_path, \"interim\", \"verg_og_bevaring.db\")\n",
    "        load_gpkg_layers(db_path, in_gpkg, \"ar50_flate\")"
   ]
  },
  {
   "cell_type": "markdown",
   "metadata": {},
   "source": [
    "**Load Protected Areas into DuckDB**"
   ]
  },
  {
   "cell_type": "code",
   "execution_count": null,
   "metadata": {},
   "outputs": [],
   "source": [
    "# import protected areas into DuckDB\n",
    "\n",
    "# if Test is True, import test gpkg otherwise import the original gpkg\n",
    "if prepare_duckdb:\n",
    "    if test_area:\n",
    "        in_gpkg = os.path.join(data_path, \"tmp\", \"vern_25833_bbox.gpkg\")\n",
    "        db_path = os.path.join(data_path, \"tmp\", \"verg_og_bevaring_tmp.db\")\n",
    "        load_gpkg_layers(db_path, in_gpkg, \"naturvernomrade\")\n",
    "        load_gpkg_layers(db_path, in_gpkg, \"foreslatt_vern\")\n",
    "    else:\n",
    "        in_gpkg = os.path.join(data_path, \"interim\", \"vern_25833.gpkg\")\n",
    "        db_path = os.path.join(data_path, \"interim\", \"verg_og_bevaring.db\")\n",
    "        load_gpkg_layers(db_path, in_gpkg, \"naturvernomrade\")\n",
    "        load_gpkg_layers(db_path, in_gpkg, \"foreslatt_vern\")"
   ]
  },
  {
   "cell_type": "markdown",
   "metadata": {},
   "source": [
    "### Preprocess DuckDB Tables "
   ]
  },
  {
   "cell_type": "markdown",
   "metadata": {},
   "source": [
    "**Convert BLOB columns to GEOM columns**"
   ]
  },
  {
   "cell_type": "code",
   "execution_count": null,
   "metadata": {},
   "outputs": [],
   "source": [
    "if prepare_duckdb:\n",
    "    # cast BLOB (Binary Large OBject) to geometry for spatial operations\n",
    "    \n",
    "    import duckdb\n",
    "\n",
    "    con = duckdb.connect(db_path)\n",
    "    con.install_extension('spatial')\n",
    "    con.load_extension('spatial')\n",
    "    \n",
    "    # duckdb tables names to list\n",
    "    tables = con.execute(\"SHOW TABLES;\").fetchdf()\n",
    "    tables = tables[\"name\"].to_list()\n",
    "    print(tables)\n",
    "    \n",
    "    for table in tables:\n",
    "        \n",
    "        # TODO add check if geom field exists\n",
    "        \n",
    "        blob_to_geom(\n",
    "            db_path=db_path,\n",
    "            tbl_name=table,\n",
    "            blob_field=\"geometry\",\n",
    "            geom_field=\"geom\",   \n",
    "        )"
   ]
  },
  {
   "cell_type": "markdown",
   "metadata": {},
   "source": [
    "### Display DuckDB tables "
   ]
  },
  {
   "cell_type": "code",
   "execution_count": null,
   "metadata": {},
   "outputs": [],
   "source": [
    "import duckdb\n",
    "\n",
    "con = duckdb.connect(db_path)\n",
    "con.install_extension('spatial')\n",
    "con.load_extension('spatial')"
   ]
  },
  {
   "cell_type": "code",
   "execution_count": null,
   "metadata": {},
   "outputs": [],
   "source": [
    "# print tables\n",
    "con.sql(\"SHOW TABLES;\")"
   ]
  },
  {
   "cell_type": "code",
   "execution_count": null,
   "metadata": {},
   "outputs": [],
   "source": [
    "# display first 5 rows of the table\n",
    "table = \"foreslatt_vern\"\n",
    "con.sql(f\"SELECT * FROM {table} LIMIT 5\")"
   ]
  },
  {
   "cell_type": "code",
   "execution_count": null,
   "metadata": {},
   "outputs": [],
   "source": [
    "# close\n",
    "con.close()"
   ]
  },
  {
   "cell_type": "markdown",
   "metadata": {},
   "source": [
    "## Display Data on the Map\n",
    "\n",
    "https://ipyleaflet.readthedocs.io/en/latest/installation/index.html#using-pip \n"
   ]
  },
  {
   "cell_type": "code",
   "execution_count": null,
   "metadata": {},
   "outputs": [],
   "source": [
    "# Display data on map using leafmap\n",
    "# TODO display duckdb tables as well, not only WMS\n",
    "\n",
    "init_location = [62.223207, 9.550195]  # Hjerkinn\n",
    "zoom_start = 13  \n",
    "min_zoom = 8  # keeps user from zooming out too far\n",
    "basemap = leafmap.Map(\n",
    "    location=init_location, \n",
    "    zoom=zoom_start, \n",
    "    min_zoom=min_zoom, \n",
    "    max_bounds=True\n",
    "    )\n",
    "\n",
    "# set background\n",
    "basemap.add_basemap(\"SATELLITE\", opacity=0.7)\n",
    "\n",
    "# add WMS verneområder\n",
    "wms_url =\"https://kart.miljodirektoratet.no/arcgis/services/vern/mapserver/WMSServer\"\n",
    "wms_layer = \"naturvern_klasser_omrade\"\n",
    "wms_name = \"Protected Areas\"\n",
    "basemap.add_wms_layer(\n",
    "    url=wms_url, \n",
    "    layers=wms_layer, \n",
    "    name=wms_name, \n",
    "    wms_format=\"image/png\",\n",
    "    )\n",
    "\n",
    "if test_area:\n",
    "    # add bounding box - Hjerkinn\n",
    "    basemap.add_gdf(gdf_BB, layer_name=\"Test Area\", fill_color=\"blue\", fill_opacity=0.2, weight=2)\n",
    "\n",
    "basemap"
   ]
  },
  {
   "cell_type": "markdown",
   "metadata": {},
   "source": [
    "## Methods"
   ]
  },
  {
   "cell_type": "markdown",
   "metadata": {},
   "source": [
    "**Bioklimatiske soner**\n",
    "\n",
    "| Protected area | Sone 1 (%) | Sone 2 (%) | Sone 3 (%) | ... |\n",
    "|----------------|------------|------------|------------|-----|\n",
    "| *NaturvernId*  |*bioklima_1*|*bioklima_2*|*bioklima_3*|...  |\n",
    "| area A         |            |            |            |     |"
   ]
  },
  {
   "cell_type": "code",
   "execution_count": null,
   "metadata": {},
   "outputs": [],
   "source": [
    "# TODO\n",
    "run_bioklima = True\n",
    "if run_bioklima:\n",
    "    tbl_study_area = \"foreslatt_vern\"\n",
    "    id = \"identifikasjon_lokalId\"\n",
    "    tbl_bioklima = \"soner_2017_1km\"\n",
    "    bioklima_field = \"Sone_Kode\"\n",
    "    bioklima_zones = [\"6SO-1\", \"6SO-2\", \"6SO-3\", \"6SO-4\", \"6SO-5\"]\n",
    "    for area_class in bioklima_zones: # 1-18\n",
    "        print(f\"Calculating Bioklima class {area_class}\")\n",
    "        new_field = f\"s_{area_class}\" # ar50_bon1\n",
    "        new_field = new_field.replace(\"-\", \"_\")\n",
    "        remove_field(db_path, tbl_study_area, new_field)\n",
    "        bioklima_area_class(db_path, tbl_study_area, id, tbl_bioklima, bioklima_field, area_class, new_field)\n",
    "    \n",
    "    for area_class in bioklima_zones: # 1-18\n",
    "        new_field = f\"s_{area_class}\" # ar50_bon1\n",
    "        new_field = new_field.replace(\"-\", \"_\")\n",
    "        con = duckdb.connect(db_path)\n",
    "        con.install_extension('spatial')\n",
    "        con.load_extension('spatial')\n",
    "        con.sql(f\"UPDATE foreslatt_vern SET {new_field} = 0 WHERE {new_field} IS NULL\")\n",
    "        con.close()"
   ]
  },
  {
   "cell_type": "code",
   "execution_count": null,
   "metadata": {},
   "outputs": [],
   "source": [
    "con = duckdb.connect(db_path)\n",
    "con.sql(f\"SELECT * FROM foreslatt_vern LIMIT 5\")"
   ]
  },
  {
   "cell_type": "markdown",
   "metadata": {},
   "source": [
    "### 1. Overlap protected areas and AR50 (land cover)\n",
    "\n",
    "**Divide the protected areas into terrestrial and marine areas**\n",
    "\n",
    "AR50 polygons with classified as \"Hav\" are considered marine areas, all other areas are considered terrestrial.\n",
    "- Bonitet = 17 (Hav) \n",
    "- Arealtype = 82 (Hav)\n",
    "\n",
    "<br>\n",
    "\n",
    "**AR50 - Bonitet**\n",
    "Calculated area overlap with AR50 Bonitet classes. \n",
    "\n",
    "| Protected area | Fulldyrka og overflatedyrka jord (m2) | Innmarksbeite (m2) | Skog, høg og særs høg bonitet (m2) | ... |\n",
    "|----------------|--------------------------------------|-------------------|-----------------------------------|-----|\n",
    "| *NaturvernId*  |*AR50_bon_1*|*AR50_bon2*|*AR50_bon3*|...|\n",
    "| area A         |                                      |                   |                                   |     |\n"
   ]
  },
  {
   "cell_type": "code",
   "execution_count": null,
   "metadata": {},
   "outputs": [],
   "source": [
    "# calculate ar50 area overlapp with protected areas\n",
    "tbl_study_area = \"foreslatt_vern\"\n",
    "id = \"identifikasjon_lokalId\"\n",
    "tbl_ar50 = \"ar50_flate\"\n",
    "ar50_field = \"ar50_bonitet\"\n",
    "\n",
    "if run_ar50:\n",
    "    for area_class in range(1, 19): # 1-18\n",
    "        print(f\"Calculating Bonitet class {area_class}\")\n",
    "        new_field = f\"ar50_bon{area_class}\" # ar50_bon1\n",
    "        remove_field(db_path, tbl_study_area, new_field)\n",
    "        ar50_area_class(db_path, tbl_study_area, id, tbl_ar50, ar50_field, area_class, new_field)\n",
    "\n",
    "    # if ar50_bonx is null, set to 0\n",
    "    for area_class in range(1, 19): # 1-18\n",
    "        new_field = f\"ar50_bon{area_class}\" # ar50_bon1\n",
    "        con = duckdb.connect(db_path)\n",
    "        con.install_extension('spatial')\n",
    "        con.load_extension('spatial')\n",
    "        con.sql(f\"UPDATE foreslatt_vern SET {new_field} = 0 WHERE {new_field} IS NULL\")\n",
    "        con.close()"
   ]
  },
  {
   "cell_type": "code",
   "execution_count": null,
   "metadata": {},
   "outputs": [],
   "source": [
    "# print first 5 rows of the table \"foreslatt_vern\"\n",
    "con = duckdb.connect(db_path)\n",
    "con.sql(f\"SELECT * FROM foreslatt_vern LIMIT 5\")\n",
    "\n",
    "# print as dataframe\n",
    "df = con.execute(f\"SELECT * FROM foreslatt_vern LIMIT 5\").fetchdf()\n",
    "\n",
    "# display columns: identfifikasjon_lokalId, ar50_bonx\n",
    "col_id= [id]\n",
    "cols_ar50 = [col for col in df.columns if \"ar50_bon\" in col and col != \"sum_ar50_bon_m2\"]\n",
    "cols = col_id + cols_ar50\n",
    "df_ar50 = df[cols]\n",
    "display(df)\n",
    "\n",
    "# close\n",
    "con.close()"
   ]
  },
  {
   "cell_type": "markdown",
   "metadata": {},
   "source": [
    "**Check if sum of all AR50 classes correspons with the total area**"
   ]
  },
  {
   "cell_type": "code",
   "execution_count": null,
   "metadata": {},
   "outputs": [],
   "source": [
    "# Calculating sum of all bonitet classes\n",
    "remove_field(db_path, tbl_study_area, \"sum_ar50_bon_m2\")\n",
    "sum_area_cols(db_path, tbl_study_area, id, cols_ar50, \"sum_ar50_bon_m2\")\n",
    "\n",
    "# Calculating area of each polygon in the study area\n",
    "remove_field(db_path, tbl_study_area, \"areal_m2\")\n",
    "geom_area(db_path, tbl_study_area, \"geom\", \"areal_m2\")\n",
    "\n",
    "# Calculateing the difference between the sum of all bonitet classes and the area of each polygon\n",
    "remove_field(db_path, tbl_study_area, \"area_diff_m2\")\n",
    "area_difference(db_path, tbl_study_area, \"sum_ar50_bon_m2\", \"areal_m2\", \"area_diff_m2\")"
   ]
  },
  {
   "cell_type": "code",
   "execution_count": null,
   "metadata": {},
   "outputs": [],
   "source": [
    "# print first 5 rows of the table \"foreslatt_vern\"\n",
    "con = duckdb.connect(db_path)\n",
    "\n",
    "# print as dataframe\n",
    "df = con.execute(f\"SELECT * FROM foreslatt_vern\").fetchdf()\n",
    "\n",
    "# display columns: identfifikasjon_lokalId, ar50_bonx\n",
    "col_id= [id]\n",
    "cols = col_id + [\"navn\", \"sum_ar50_bon_m2\", \"areal_m2\", \"area_diff_m2\"]\n",
    "df_ar50 = df[cols]\n",
    "\n",
    "# sort by area_diff_m2\n",
    "df_ar50 = df_ar50.sort_values(by=\"area_diff_m2\", ascending=True)\n",
    "display(df_ar50)\n",
    "\n",
    "# close\n",
    "con.close()"
   ]
  },
  {
   "cell_type": "code",
   "execution_count": null,
   "metadata": {},
   "outputs": [],
   "source": [
    "# print number of rows \n",
    "print(f\"Number of rows: {df.shape[0]}\")\n",
    "\n",
    "# print number of unique ids \"identifikasjon_lokalId\"\n",
    "print(f\"Number of unique ids: {df['identifikasjon_lokalId'].nunique()}\")\n",
    "\n",
    "# print number of rows with value in \"ar50_bon17\"\n",
    "print(f\"Number of areas with Marine area: {df['ar50_bon17'].count()}\")"
   ]
  },
  {
   "cell_type": "markdown",
   "metadata": {},
   "source": [
    "### 2. Geometry variables for protected areas\n",
    "\n",
    "| Protected area | Total area (km2) | Perimeter (km) | Land area (km2) | Perimeter land area (km) |\n",
    "|----------------|------------|----------------|-----------------|-------------------------|\n",
    "| *NaturvernId* | *areal_m2* | *omkrets_m* | *landareal_m2* | *landomkrets_m2*|\n",
    "| area A         |    *        |                |                 |                         |"
   ]
  },
  {
   "cell_type": "markdown",
   "metadata": {},
   "source": [
    "***\n",
    "$\\mathbf{\\text{Shape Index}}$<br>\n",
    "***\n",
    "The shape index is a measure of how compact the shape is compared to a circle with the same area. The shape index is calculated for the entire protected area and the land area.\n",
    "\n",
    "- $P$ = perimeter\n",
    "- $r$ = radius\n",
    "- $A$ = area\n",
    "\n",
    "\n",
    "**Shape Index:**&emsp;      $SI = \\frac{P}{2\\pi r}$\n",
    "\n",
    "**Radius:**&emsp; $r = \\sqrt{\\frac{A}{\\pi}}$\n",
    "\n",
    "- SI = 1, shape is a perfect circle\n",
    "- SI > 1, shape is less compact than a circle\n",
    "- SI < 1, is not possible "
   ]
  },
  {
   "cell_type": "code",
   "execution_count": null,
   "metadata": {},
   "outputs": [],
   "source": [
    "# create new table with only terrestrial part of the protected areas\n",
    "remove_table(db_path, \"f_vern_land\")\n",
    "remove_table(db_path, \"f_vern_sjo\")\n",
    "split_by_polygon(\n",
    "    db_path, tbl_study_area, id, tbl_ar50, \"ar50_bonitet\", 17, \"f_vern_sjo\", \"f_vern_land\"\n",
    ")"
   ]
  },
  {
   "cell_type": "code",
   "execution_count": null,
   "metadata": {},
   "outputs": [],
   "source": [
    "dict_geom = {\n",
    "    \"foreslatt_vern\": (\"areal_m2\", \"omkrets_m\", \"formindeks\"),\n",
    "    \"f_vern_land\": (\"landareal_m2\", \"landomkrets_m\", \"land_formindeks\"),\n",
    "    \"f_vern_sjo\": (\"sjoareal_m2\", \"sjoomkrets_m\", \"sjo_formindeks\"),\n",
    "}\n",
    "\n",
    "for key, value in dict_geom.items():\n",
    "    \n",
    "    # areal\n",
    "    remove_field(db_path, key, \"areal_not_grouped\")\n",
    "    #geom_area(db_path, key, \"geom\", \"areal_not_grouped\")\n",
    "    \n",
    "    # areal by ID\n",
    "    remove_field(db_path, key, value[0])\n",
    "    geom_area_byID(db_path, key, \"identifikasjon_lokalId\", \"geom\", value[0])\n",
    "    \n",
    "    # omkrets\n",
    "    remove_field(db_path, key, \"omkrets_not_grouped\")\n",
    "    #geom_peri(db_path, key, \"geom\", \"omkrets_not_grouped\")\n",
    "    \n",
    "    # omkrets by ID\n",
    "    remove_field(db_path, key, value[1])\n",
    "    geom_peri_byID(db_path, key, \"identifikasjon_lokalId\", \"geom\", value[1])\n",
    "    \n",
    "    # formindeks\n",
    "    remove_field(db_path, key, \"formindeks_not_grouped\")\n",
    "    #geom_index(db_path, key, \"geom\", \"formindeks_not_grouped\")\n",
    "    \n",
    "    # formindeks by ID\n",
    "    remove_field(db_path, key, value[2])\n",
    "    geom_index_byID(db_path, key, \"identifikasjon_lokalId\", \"geom\", value[2])\n"
   ]
  },
  {
   "cell_type": "code",
   "execution_count": null,
   "metadata": {},
   "outputs": [],
   "source": [
    "# print first 5 rows of the table \"foreslatt_vern\"\n",
    "con = duckdb.connect(db_path)\n",
    "\n",
    "con.install_extension('spatial')\n",
    "con.load_extension('spatial')"
   ]
  },
  {
   "cell_type": "code",
   "execution_count": null,
   "metadata": {},
   "outputs": [],
   "source": [
    "con.sql(\"SHOW TABLES;\")"
   ]
  },
  {
   "cell_type": "code",
   "execution_count": null,
   "metadata": {},
   "outputs": [],
   "source": [
    "con.sql(f\"SELECT * FROM f_vern_land LIMIT 5\")"
   ]
  },
  {
   "cell_type": "code",
   "execution_count": null,
   "metadata": {},
   "outputs": [],
   "source": [
    "con.sql(f\"SELECT * FROM f_vern_sjo LIMIT 5\")"
   ]
  },
  {
   "cell_type": "markdown",
   "metadata": {},
   "source": [
    "**Export to GDF and GPKG-layer <>"
   ]
  },
  {
   "cell_type": "code",
   "execution_count": null,
   "metadata": {},
   "outputs": [],
   "source": [
    "# to dataframe\n",
    "df_land = con.execute(f\"SELECT ST_AsText(geom) as geometry, * FROM f_vern_land\").fetchdf()\n",
    "\n",
    "# drop \"geom\"\n",
    "df_land = df_land.drop(columns=[\"geom\"])\n",
    "\n",
    "# Convert the geom column to gpd GeoDataFrame\n",
    "df_land['geometry'] = df_land['geometry'].apply(wkt.loads)\n",
    "\n",
    "# to gpd\n",
    "gdf_land = gpd.GeoDataFrame(df_land, geometry='geometry')\n",
    "print(f\"Number of unique ids: {df_land['identifikasjon_lokalId'].nunique()}\")\n",
    "\n",
    "display(gdf_land.head())\n",
    "\n",
    "# Export GDF to file \n",
    "filepath = os.path.join(data_path, \"processed\", \"vern_og_bevaring\")\n",
    "gdf_land.crs = \"EPSG:25833\"\n",
    "# Write to existing .geopackage\n",
    "gdf_land.to_file(os.path.join(filepath + '.gpkg'), driver='GPKG', layer='f_vern_land', mode='w')\n"
   ]
  },
  {
   "cell_type": "code",
   "execution_count": null,
   "metadata": {},
   "outputs": [],
   "source": [
    "# to dataframe\n",
    "df_sjo = con.execute(f\"\"\"\n",
    "    SELECT ST_AsText(geom) as geometry, * \n",
    "    FROM f_vern_sjo\n",
    "    WHERE ST_GeometryType(geom) IN ('POLYGON', 'MULTIPOLYGON')\n",
    "\"\"\").fetchdf()\n",
    "\n",
    "# delete POLYGON EMPTY\n",
    "df_sjo = df_sjo[df_sjo['geometry'] != \"POLYGON EMPTY\"]\n",
    "\n",
    "# drop \"geom\"\n",
    "df_sjo = df_sjo.drop(columns=[\"geom\"])\n",
    "\n",
    "# Convert the geom column to gpd GeoDataFrame\n",
    "df_sjo['geometry'] = df_sjo['geometry'].apply(wkt.loads)\n",
    "\n",
    "# to gpd\n",
    "gdf_sjo = gpd.GeoDataFrame(df_sjo, geometry='geometry')\n",
    "print(f\"Number of unique ids: {gdf_sjo['identifikasjon_lokalId'].nunique()}\")\n",
    "\n",
    "display(gdf_sjo)\n",
    "\n",
    "# Export GDF to file \n",
    "filepath = os.path.join(data_path, \"processed\", \"vern_og_bevaring\")\n",
    "gdf_sjo.crs = \"EPSG:25833\"\n",
    "# Write to existing .geopackage\n",
    "gdf_sjo.to_file(os.path.join(filepath + '.gpkg'), driver='GPKG', layer='f_vern_sjo', mode='w')"
   ]
  },
  {
   "cell_type": "code",
   "execution_count": null,
   "metadata": {},
   "outputs": [],
   "source": []
  },
  {
   "cell_type": "code",
   "execution_count": null,
   "metadata": {},
   "outputs": [],
   "source": [
    "# drop geometry column in duckdb and keep only unique ids in table\n",
    "\n",
    "# drop geom column\n",
    "remove_field(db_path, \"f_vern_land\", \"geom\")\n",
    "remove_field(db_path, \"f_vern_sjo\", \"geom\")\n",
    "\n",
    "# drop duplicates \n",
    "remove_duplicates(db_path, \"f_vern_land\", \"identifikasjon_lokalId\")\n",
    "remove_duplicates(db_path, \"f_vern_sjo\", \"identifikasjon_lokalId\")"
   ]
  },
  {
   "cell_type": "code",
   "execution_count": null,
   "metadata": {},
   "outputs": [],
   "source": [
    "# number of rows in the new table\n",
    "con.sql(f\"SELECT COUNT(*) FROM f_vern_land\")"
   ]
  },
  {
   "cell_type": "code",
   "execution_count": null,
   "metadata": {},
   "outputs": [],
   "source": [
    "# number of unique ids in the new table\n",
    "con.sql(f\"SELECT COUNT(DISTINCT identifikasjon_lokalId) FROM f_vern_land\")"
   ]
  },
  {
   "cell_type": "code",
   "execution_count": null,
   "metadata": {},
   "outputs": [],
   "source": [
    "remove_table(db_path, \"f_vern_land_sjo\")\n",
    "join_tables_create_new(\n",
    "    db_path, \n",
    "    tbl1=\"f_vern_land\",\n",
    "    tbl2=\"f_vern_sjo\",\n",
    "    id_field=\"identifikasjon_lokalId\",\n",
    "    new_tbl=\"f_vern_land_sjo\"\n",
    ")\n",
    "\n",
    "remove_field(db_path, \"f_vern_land_sjo\", \"identifikasjon_lokalId_1\") \n",
    "con.sql(\"SHOW TABLES;\")"
   ]
  },
  {
   "cell_type": "code",
   "execution_count": null,
   "metadata": {},
   "outputs": [],
   "source": [
    "con.sql(f\"SELECT * FROM f_vern_land_sjo LIMIT 5\")"
   ]
  },
  {
   "cell_type": "code",
   "execution_count": null,
   "metadata": {},
   "outputs": [],
   "source": [
    "# number of rows in the new table\n",
    "con.sql(f\"SELECT COUNT(*) FROM f_vern_land_sjo\")"
   ]
  },
  {
   "cell_type": "code",
   "execution_count": null,
   "metadata": {},
   "outputs": [],
   "source": [
    "# number of unique ids in the new table\n",
    "con.sql(f\"SELECT COUNT(DISTINCT identifikasjon_lokalId) FROM f_vern_land_sjo\")"
   ]
  },
  {
   "cell_type": "code",
   "execution_count": null,
   "metadata": {},
   "outputs": [],
   "source": [
    "remove_table(db_path, \"f_vern_geovar\")\n",
    "join_tables_create_new(\n",
    "    db_path, \n",
    "    tbl1=\"foreslatt_vern\",\n",
    "    tbl2=\"f_vern_land_sjo\",\n",
    "    id_field=\"identifikasjon_lokalId\",\n",
    "    new_tbl=\"f_vern_geovar\"\n",
    ")"
   ]
  },
  {
   "cell_type": "code",
   "execution_count": null,
   "metadata": {},
   "outputs": [],
   "source": [
    "con.sql(\"SHOW TABLES;\")"
   ]
  },
  {
   "cell_type": "code",
   "execution_count": null,
   "metadata": {},
   "outputs": [],
   "source": [
    "con.sql(f\"SELECT COUNT(DISTINCT identifikasjon_lokalId) FROM f_vern_geovar\")"
   ]
  },
  {
   "cell_type": "markdown",
   "metadata": {},
   "source": [
    "**Clean table**"
   ]
  },
  {
   "cell_type": "code",
   "execution_count": null,
   "metadata": {},
   "outputs": [],
   "source": [
    "# if sjoareal is 95% of the total area, then it is a marine area\n",
    "# set sjoareal, omkrets and index to 0 if it is less than 5% of the total area or where sjoareal is NULL\n",
    "# set landareal, omkrets and index  to 0 if it is less than 5% of the total area\n",
    "\n",
    "# update table \n",
    "con.sql(f\"\"\"\n",
    "    UPDATE f_vern_geovar\n",
    "    SET sjoareal_m2 = 0, sjoomkrets_m = 0\n",
    "    WHERE sjoareal_m2 < 0.05 * areal_m2\n",
    "\"\"\")\n",
    "\n",
    "# update table\n",
    "con.sql(f\"\"\"\n",
    "    UPDATE f_vern_geovar\n",
    "    SET landareal_m2 = 0, landomkrets_m = 0\n",
    "    WHERE landareal_m2 < 0.05 * areal_m2\n",
    "\"\"\")\n",
    "\n",
    "# if null set to 0\n",
    "con.sql(f\"\"\"\n",
    "    UPDATE f_vern_geovar\n",
    "    SET sjoareal_m2 = 0, sjoomkrets_m = 0\n",
    "    WHERE sjoareal_m2 IS NULL\n",
    "\"\"\")\n",
    "\n",
    "# if null set to 0\n",
    "con.sql(f\"\"\"\n",
    "    UPDATE f_vern_geovar\n",
    "    SET landareal_m2 = 0, landomkrets_m = 0\n",
    "    WHERE landareal_m2 IS NULL\n",
    "\"\"\")\n",
    "\n",
    "# remove cols\n",
    "remove_field(db_path, \"f_vern_geovar\", \"area_m2\")\n",
    "remove_field(db_path, \"f_vern_geovar\", \"identifikasjon_lokalId_1\")\n",
    "\n",
    "\n",
    "# print first 5 rows of the table \"f_vern_geovar\"\n",
    "con.sql(f\"SELECT * FROM f_vern_geovar LIMIT 5\")"
   ]
  },
  {
   "cell_type": "code",
   "execution_count": null,
   "metadata": {},
   "outputs": [],
   "source": [
    "# to dataframe\n",
    "df = con.execute(f\"SELECT ST_AsText(geom) as geometry, * FROM f_vern_geovar\").fetchdf()\n",
    "\n",
    "# drop \"geom\"\n",
    "df = df.drop(columns=[\"geom\"])\n",
    "\n",
    "# Convert the geom column to gpd GeoDataFrame\n",
    "df['geometry'] = df['geometry'].apply(wkt.loads)\n",
    "\n",
    "# to gpd\n",
    "gdf = gpd.GeoDataFrame(df, geometry='geometry')\n",
    "print(f\"Number of unique ids: {gdf['identifikasjon_lokalId'].nunique()}\")\n",
    "\n",
    "\n",
    "display(gdf)"
   ]
  },
  {
   "cell_type": "code",
   "execution_count": null,
   "metadata": {},
   "outputs": [],
   "source": [
    "# Export GDF to file \n",
    "filepath = os.path.join(data_path, \"processed\", \"vern_og_bevaring\")\n",
    "gdf.crs = \"EPSG:25833\"\n",
    "# Write to existing .geopackage\n",
    "gdf.to_file(os.path.join(filepath + '.gpkg'), driver='GPKG', layer='f_vern_geovar', mode='w')\n",
    "\n",
    "# Write to .csv\n",
    "gdf.to_csv(os.path.join(filepath + '.csv'))"
   ]
  },
  {
   "cell_type": "markdown",
   "metadata": {},
   "source": [
    "**Infrastrukturindeks**\n",
    "\n",
    "| Protected area | Mean value | Lav (%) | Middels (%) | Høy (%) | ... |\n",
    "|----------------|------------|---------|-------------|---------|-----|\n",
    "| area A         |            |         |             |         |     |\n"
   ]
  },
  {
   "cell_type": "code",
   "execution_count": null,
   "metadata": {},
   "outputs": [],
   "source": []
  },
  {
   "cell_type": "markdown",
   "metadata": {},
   "source": [
    "**Høydelag**\n",
    "\n",
    "| Protected area | 0-300 m (%) | 301-600 m (%) | 601-900 m (%) | over 900 m (%) |\n",
    "|----------------|-------------|---------------|---------------|----------------|\n",
    "| area A         |             |               |               |                |\n"
   ]
  },
  {
   "cell_type": "code",
   "execution_count": null,
   "metadata": {},
   "outputs": [],
   "source": []
  },
  {
   "cell_type": "markdown",
   "metadata": {},
   "source": [
    "### 3. Regional Statistics\n"
   ]
  },
  {
   "cell_type": "markdown",
   "metadata": {},
   "source": [
    "Administrative regions:\n",
    "- Municipalities\n",
    "- Counties\n",
    "- Regions \n",
    "    - **Nord**: Finnmark, Troms, Nordland\n",
    "    - **Midt**: Trøndelag, Møre og Romsdal\n",
    "    - **Sør**: Agder, Vestfold, Telemark\n",
    "    - **Øst**: Østfold, Akershus, Oslo, Innlandet, Buskerud\n",
    "    - **Vest**: Vestland, Rogaland\n",
    "\n",
    "\n",
    "| Protected area | Municipality | County | Region |\n",
    "|----------------|---------|-------|--------|\n",
    "| *NaturvernId*  |*kommune*|*fylke*|*region*|\n",
    "| area A         |         |       |        |\n",
    "\n",
    "*Regional datasett*:\n",
    "\n",
    "| Region | Area | Protected Area | Land Protected Area | Marine Protected Area |\n",
    "|--------|------|----------------|---------------------|-----------------------|\n",
    "| *Region* | *areal* | *a_vern* | *a_landvern* | *a_marinvern* |\n",
    "| Nord ||||||\n"
   ]
  },
  {
   "cell_type": "code",
   "execution_count": null,
   "metadata": {},
   "outputs": [],
   "source": []
  },
  {
   "cell_type": "markdown",
   "metadata": {},
   "source": [
    "###  4. Grid Statistics (10x10 km2)\n",
    "\n",
    "**Rutenettstatistikk:**\n",
    "\n",
    "| SSB grid cell | area | Density (land + marine) | Density (land) | \n",
    "| --------------|------|-------------------------|----------------|\n",
    "| *grid_ID* | *grid_areal* | *tetthet_tot_vern* | *tetthet_landvern* | \n",
    "| cell 1| 100 km2 | ||\n",
    "\n",
    "\n",
    "\n"
   ]
  },
  {
   "cell_type": "markdown",
   "metadata": {},
   "source": [
    "***\n",
    "$\\mathbf{\\text{Density}}$<br>\n",
    "***\n",
    "The density of protected area per 10x10km (SSB grid) is calculated by dividing the area of the protected area by 100 km^2.\n",
    "\n",
    "**Density:**&emsp;      $Density = \\frac{A}{100 km^2}$\n",
    "\n"
   ]
  },
  {
   "cell_type": "code",
   "execution_count": null,
   "metadata": {},
   "outputs": [],
   "source": [
    "# code for density calculation here\n",
    "# check land cover fraction notebook\n",
    "\n",
    "\n",
    "# Load admin \n",
    "# group by region\n",
    "\n",
    "# calc region area\n",
    "geom_area()\n",
    "# Select by region\n",
    "# SUM protected area in region \n",
    "# Area % = SUM(protected_area_m2)/(areal_m2) * 100\n",
    "\n"
   ]
  }
 ],
 "metadata": {
  "kernelspec": {
   "display_name": "Python 3 (ipykernel)",
   "language": "python",
   "name": "python3"
  },
  "language_info": {
   "codemirror_mode": {
    "name": "ipython",
    "version": 3
   },
   "file_extension": ".py",
   "mimetype": "text/x-python",
   "name": "python",
   "nbconvert_exporter": "python",
   "pygments_lexer": "ipython3",
   "version": "3.10.12"
  }
 },
 "nbformat": 4,
 "nbformat_minor": 2
}
