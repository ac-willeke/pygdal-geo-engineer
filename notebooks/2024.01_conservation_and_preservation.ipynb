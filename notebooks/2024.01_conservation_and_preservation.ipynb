{
 "cells": [
  {
   "cell_type": "markdown",
   "metadata": {},
   "source": [
    "# Area statistics for protected areas in mainland Norway\n",
    "\n",
    "[![colab](https://colab.research.google.com/assets/colab-badge.svg)](https://colab.research.google.com/github/ac-willeke/pygdal-geo-engineer/blob/main/notebooks/2024.01_conservation_and_preservation.ipynb) [![github](https://img.shields.io/badge/GitHub-View%20on%20GitHub-blue?logo=github)](https://github.com/ac-willeke/pygdal-geo-engineer/blob/main/notebooks/2024.01_conservation_and_preservation.ipynb)\n",
    "\n",
    "**Author**: Willeke A'Campo\n",
    "\n",
    "**Description:** This notebook is designed to compute area statistics for protected regions within mainland Norway. It specifically targets two datasets: **Verneområder** og **Foreslatte verneområder**, both provided by the Norwegian Environment Agency. In addition area statistics are calcualted for the whole of norway and for each regional zone. This allows for a comparative analysis beteween the protected areas and the overal Norwegian Territory. \n",
    "\n",
    "The attributes calculated can be divided into three groups:\n",
    "\n",
    "1. Area variables for the protected areas:\n",
    "    - Area (terrestrial and marine)\n",
    "    - Perimeter (terrestrial and marine)\n",
    "    - Land area (terrestrial)\n",
    "    - Perimeter land area (terrestrial)\n",
    "\n",
    "2. Overlay statistics for the protected area and the following datasets:\n",
    "    - Infrastrukturindeks (raster overlay)\n",
    "        - Mean value of infrastructure index per protected area \n",
    "    - AR50 - Bonitet (vector overlay)\n",
    "        - Area proportion of land cover quality classes \n",
    "    - Bioklimatiske soner (vector overlay)\n",
    "        - Area proportion of bioclimatic zone classes\n",
    "\n",
    "3. Spatial indices for the protected areas:\n",
    "    - Shape Index for each protected area (land + marine)\n",
    "    - Shape index for each protected area (land)\n",
    "    - Density of protected area per 10x10km (SSB grid)\n",
    "\n",
    "\n",
    "\n",
    "\n"
   ]
  },
  {
   "cell_type": "markdown",
   "metadata": {},
   "source": [
    "# 0. Configure Notebook"
   ]
  },
  {
   "cell_type": "code",
   "execution_count": 1,
   "metadata": {},
   "outputs": [],
   "source": [
    "# Variables to control the execution of the workflow\n",
    "gis_server = True # True = use GIS server, False = use local files\n",
    "load_data = False # True = load data from source, False = data is already loaded\n",
    "test_area = False # True = test area, False = full area\n",
    "prepare_data = True\n",
    "prepare_duckdb = True # True = prepare duckdb, False = duckdb is already prepared\n",
    "run_infra = True\n",
    "run_ar50 = True # True = run AR50 area calc , False = AR50 is already run\n",
    "run_bioklima = True \n",
    "run_shape_index = True\n",
    "\n",
    "# Set the statistical zone: foreslatt_vern, naturvernomrade, norge_landareal_n50, region_2024\n",
    "statistical_zone = \"foreslatt_vern\"\n",
    "\n",
    "if statistical_zone == \"foreslatt_vern\":\n",
    "    sz_land = \"f_vern_land\"\n",
    "    sz_sea = \"f_vern_sjo\"\n",
    "    sz_land_sea = \"f_vern_land_sjo\"\n",
    "    sz_land_vars = \"foreslatt_vern_overlapp\"\n",
    "    \n",
    "if statistical_zone == \"naturvernomrade\":\n",
    "    sz_land = \"vern_land\"\n",
    "    sz_sea = \"vern_sjo\"\n",
    "    sz_land_sea = \"vern_land_sjo\"\n",
    "    sz_land_vars = \"naturvernomrade_overlapp\"\n"
   ]
  },
  {
   "cell_type": "code",
   "execution_count": 2,
   "metadata": {},
   "outputs": [],
   "source": [
    "import os \n",
    "from osgeo import gdal\n",
    "from pathlib import Path\n",
    "from itertools import islice\n",
    "\n",
    "import pandas as pd\n",
    "import geopandas as gpd\n",
    "from shapely import wkt\n",
    "from shapely.geometry import box\n",
    "\n",
    "# mapping libraries\n",
    "# https://leafmap.org/faq/#how-to-use-a-specific-plotting-backend\n",
    "import leafmap.foliumap as leafmap"
   ]
  },
  {
   "cell_type": "code",
   "execution_count": 3,
   "metadata": {},
   "outputs": [
    {
     "name": "stdout",
     "output_type": "stream",
     "text": [
      "Gdal Version: 3.8.4 \n",
      "Project Path: /home/NINA.NO/willeke.acampo/git/pygdal-geo-engineer\n",
      "Path to shell scripts: /home/NINA.NO/willeke.acampo/git/pygdal-geo-engineer/src/shell_scripts\n",
      "Path to python scripts: /home/NINA.NO/willeke.acampo/git/pygdal-geo-engineer/src/py_scripts\n"
     ]
    }
   ],
   "source": [
    "project_path= Path.cwd().parents[0]\n",
    "shell_path= os.path.join(project_path, \"src\", \"shell_scripts\")\n",
    "python_path= os.path.join(project_path, \"src\", \"py_scripts\")\n",
    "\n",
    "print(f\"Gdal Version: {gdal.__version__} \")\n",
    "print(f\"Project Path: {project_path}\")\n",
    "print(f\"Path to shell scripts: {shell_path}\")\n",
    "print(f\"Path to python scripts: {python_path}\")"
   ]
  },
  {
   "cell_type": "code",
   "execution_count": 4,
   "metadata": {},
   "outputs": [],
   "source": [
    "# import local python scripts\n",
    "from py_scripts.my_ogr import *\n",
    "from py_scripts.my_duckdb import *\n",
    "from py_scripts.raster import * \n",
    "from py_scripts.config import load_catalog, load_parameters\n",
    "from py_scripts import decorators as dec"
   ]
  },
  {
   "cell_type": "markdown",
   "metadata": {},
   "source": [
    "# 1. Data pre-processing"
   ]
  },
  {
   "cell_type": "markdown",
   "metadata": {},
   "source": [
    "------------\n",
    "**Data folder structure**\n",
    "\n",
    "```bash\n",
    "|-- data\n",
    "|   |-- raw                                          # single raw files received or downloaded \n",
    "|   |-- interim\n",
    "|   |    |-- vern_og_bevaring.db                     # DuckDB database with (pre-processed) data layers for spatial sql analysis (ca. 30 GB)\n",
    "|   |    |-- vern_25833.gpkg                         # GPKG for viewing protected area data in GIS-software\n",
    "|   |    |-- bevaring_25833.gpkg                     # GPKG for viewing environment data in GIS. \n",
    "|   |    |-- admin_25833.gpkg                        # GPKG for administrative data in GIS. \n",
    "|   |-- processed\n",
    "|   |    |-- vern_og_bevaring.gpkg                   # GPKG with resulting data layers \n",
    "```\n",
    "------------\n",
    "\n",
    "<br>\n",
    "\n",
    "**Data Pipeline**\n",
    "\n",
    "1. Raw data is downloaded and stored into the `data\\raw` folder. \n",
    "2. The raw files are converted (or if possible directly imported) into the GPKGs located in `data\\interim`. These GPKGS are used to view the data in GIS-software before analysis. \n",
    "3. The data layers in the GPKG are loaded into a DuckDB database and/or a (geo)dataframe for spatial analysis. \n",
    "4. The results are exported to a GPKG located in `data\\processed`. \n",
    "5. Raw and Interim files can be deleted by setting the variables: *delete_raw* and *delete_interim* to True\n",
    "\n",
    "\n",
    "\n",
    "<br>\n",
    "\n",
    "**GeoPackage information**\n",
    "\n",
    "**INTERIM:**\n",
    "\n",
    "/interim/*admin_25833.gpkg*\n",
    "\n",
    "| Filename | Dataset Name | Description | Year | Source |\n",
    "|----------| ------------ | ----------- | ---- | ------ |\n",
    "| fylke_2024 | Fylker, 2024 | Provincial Boundaries | 2024 | [SSB](https://www.ssb.no/en/kart/griddata) |\n",
    "| norge_havareal_ar50 | Norge havareal | Norwegian sea area based on AR50 (Arealtype = hav) | 2022 | [NIBIO](https://kart8.nibio.no/nedlasting/dashboard)|\n",
    "| norge_landareal_ar50 | Norge landareal | Norwegian land area based on AR50 (Arealtype =! hav) | 2022 | [NIBIO](https://kart8.nibio.no/nedlasting/dashboard)|\n",
    "| norge_ruter_10km | SSB rutenett (10x10 km)| Grid for Norway | 2024 | [SSB](https://kart.ssb.no/) |\n",
    "| region_2024 | Regioner, 2024 | Regional zones: Nord, Midt, Sør, Øst, Vest based on Provincial boundaries | 2024 |  [SSB](https://www.ssb.no/en/kart/griddata) |\n",
    "\n",
    "/interim/*vern_25833.gpkg*\n",
    "\n",
    "| Layer | Dataset Name | Description | Year | Source |\n",
    "|-------| ------------ | ----------- | ---- | ------ |\n",
    "| naturvernomrade | Naturvernområder| Nature protected areas | 2024 | [Miljødirektoratet](https://kartkatalog.miljodirektoratet.no/Dataset/Details/0) |\n",
    "| foreslatt_vern | Foreslåtte naturvernområder | Planned nature protected areas | 2024 | [Miljødirektoratet](https://kartkatalog.miljodirektoratet.no/Dataset/Details/1)| \n",
    "\n",
    "- *naturvernomrade* and *foreslatt_vern* imported from arcgis rest server into GPKG using ogr2ogr\n",
    "\n",
    "/interim/*bevaring_25833.gpkg*\n",
    "\n",
    "|Layer| Dataset Name | Description | Year | Source |\n",
    "|-----| ------------ | ----------- | ---- | ------ |\n",
    "| ar50_flate | AR50 | Land cover classes | 2022 | [NIBIO](https://kart8.nibio.no/nedlasting/dashboard) |\n",
    "| bioklima_2017_coastalclip | Bioklimatiske soner | Bioclimatic zones stored in 1x1 km grid | 2017 | [Artsdatabanken](https://data.artsdatabanken.no/Natur_i_Norge/Natursystem/Beskrivelsessystem/Regional_naturvariasjon/Bioklimatisk_sone) |\n",
    "| Infra25m | Infrastrukturindeks | Infrastructure index (25m) raster converted to vector datasett. | 2024 | Internal NINA datasett |\n",
    "\n",
    "- *ar50_2022* stored on NINA's server. Manually loaded into GPKG\n",
    "- *bioklima_soner_2017* received from V. Bakkestuen (NINA) manually loaded into GPKG. \n",
    "- *Infra25m* received from V. Bakkestuen (NINA) converted to vector and lmanually oaded into GPKG.\n",
    "\n",
    "\n",
    "\n",
    "**PROCESSED**\n",
    "\n",
    "/processed/*vern_og_bevaring_25833.gpkg*\n",
    "\n",
    "| Layer | Description | Year | Source |\n",
    "|-------| ----------- | ---- | ------ |\n",
    "| naturvernomrade | Nature protected areas containing attributes for (i) area statistics for  AR50, Bioclimatic zones, Infrastructureindex (ii) shape index. | 2024 | Project-folder, not published |\n",
    "| foreslatt_vern | Planned nature protected areas containing attributes for (i) area statistics for  AR50, Bioclimatic zones, Infrastructureindex (ii) shape index. | 2024 | Project-folder, not published |\n",
    "| fastland_norge | Norway mainland area containing attributes for area statistics for AR50, Bioclimatic zones, Infrastructureindex | 2024 | Project-folder, not published |\n",
    "| region | Regional zones containing attributes for area statistics for AR50, Bioclimatic zones, Infrastructureindex | 2024 | Project-folder, not published |\n",
    "\n",
    "\n"
   ]
  },
  {
   "cell_type": "code",
   "execution_count": 5,
   "metadata": {},
   "outputs": [
    {
     "name": "stdout",
     "output_type": "stream",
     "text": [
      "Path to data: /home/NINA.NO/willeke.acampo/Mounts/scratch/wilaca/vern_og_bevaring/data\n"
     ]
    }
   ],
   "source": [
    "# init catalog and params\n",
    "catalog = load_catalog()\n",
    "params = load_parameters()\n",
    "\n",
    "# load paths from catalog\n",
    "data_path = catalog[\"project_data\"][\"filepath\"]\n",
    "raw_data = os.path.join(data_path, \"raw\")\n",
    "interim_data = os.path.join(data_path, \"interim\")\n",
    "\n",
    "admin_gpkg = os.path.join(data_path, \"interim\", \"admin_25833.gpkg\")\n",
    "vern_gpkg = os.path.join(data_path, \"interim\", \"vern_25833.gpkg\")\n",
    "bevaring_gpkg = os.path.join(data_path, \"interim\", \"bevaring_25833.gpkg\")\n",
    "vern_og_bevaring_gpkg = os.path.join(data_path, \"interim\", \"vern_og_bevaring_25833.gpkg\")\n",
    "db_path = os.path.join(data_path, \"processed\", \"bevaring.db\")\n",
    "\n",
    "print(f\"Path to data: {data_path}\")"
   ]
  },
  {
   "cell_type": "markdown",
   "metadata": {},
   "source": [
    "## 1.1 Download Data"
   ]
  },
  {
   "cell_type": "markdown",
   "metadata": {},
   "source": [
    "### Vector Data\n",
    "**Import data into `admin_25833.gpkg`**\n",
    "\n",
    "Note Norwegians's Land Area is calculated from Norways National Map N50. Please check the *norge_landareal_n50* in GIS software to see if the layer is correctly clipped! "
   ]
  },
  {
   "cell_type": "code",
   "execution_count": 6,
   "metadata": {},
   "outputs": [],
   "source": [
    "if load_data:\n",
    "    \n",
    "    # load paths from catalog    \n",
    "    fylke_path = catalog[\"fylke\"][\"filepath\"]\n",
    "    fylke_lyr = catalog[\"fylke\"][\"layer\"]\n",
    "    ar50_path = catalog[\"ar50\"][\"filepath\"]\n",
    "    ar50_lyr = catalog[\"ar50\"][\"layer\"]\n",
    "    n50_path = catalog[\"n50\"][\"filepath\"]\n",
    "    n50_lyr = catalog[\"n50\"][\"layer\"]\n",
    "\n",
    "    # RUTER 10KM NORGE (SSB)\n",
    "    # download from ssb, unzip, convert to gpkg, remove shapefile and zip\n",
    "    ! curl -o Ruter_10KM_norge.zip \"https://www.ssb.no/natur-og-miljo/_attachment/375082?_ts=1685c0e69b8\"\n",
    "    ! unzip Ruter_10KM_norge.zip \n",
    "    ! ogr2ogr -f \"GPKG\" -t_srs EPSG:25833 -nln norge_ruter_10km -nlt MULTIPOLYGON $admin_gpkg $raw_data/\"Ruter_10km_Norge.shp\" -lco \"OVERWRITE=YES\"\n",
    "    ! find $raw_data -type f -name \"Ruter_10km_Norge.*\" -exec echo \"Removing {}\" \\; -exec rm {} \\;\n",
    "    ! rm Ruter_10KM_norge.zip\n",
    "    \n",
    "    # FYLKE\n",
    "    ! ogrinfo \"$fylke_path\"\n",
    "    ! ogr2ogr -f \"GPKG\" -t_srs EPSG:25833 -nln \"$fylke_lyr\" -nlt MULTIPOLYGON \"$interim_data/admin_25833.gpkg\" \"$fylke_path\" \"$fylke_lyr\"\n",
    "    \n",
    "    # NORGE\n",
    "    # dissolve all fylke to one feature\n",
    "    ! ogr2ogr -append -f \"GPKG\" -dialect sqlite -sql \"SELECT ST_Union(Shape) AS geom, 'Norge' AS fylkesnavn FROM $fylke_lyr\" -t_srs EPSG:25833 -nln \"norge\" -nlt MULTIPOLYGON \"$interim_data/admin_25833.gpkg\" \"$fylke_path\"\n",
    "    \n",
    "    # AR50 HAVFLATE\n",
    "    # import AR50 where artype = 82 and dissolve to one feature (Simplify by 1 m)\n",
    "    ! ogr2ogr -append -f \"GPKG\" -dialect sqlite -sql \"SELECT ST_Union(Shape) AS geom, artype FROM $ar50_lyr WHERE artype = '82'\" -t_srs EPSG:25833 -nln \"norge_havflate_ar50\" -nlt MULTIPOLYGON \"$interim_data/admin_25833.gpkg\" \"$ar50_path\"\n",
    "    \n",
    "    # N50 HAVFLATE\n",
    "    # where objtype = Havflate and dissolve to one feature\n",
    "    ! ogr2ogr -append -f \"GPKG\" -dialect sqlite -sql \"SELECT ST_Union(Shape) AS geom, objtype FROM $n50_lyr WHERE objtype = 'Havflate'\" -t_srs EPSG:25833 -nln \"norge_havflate_n50\" -nlt MULTIPOLYGON \"$interim_data/admin_25833.gpkg\" \"$n50_path\"\n",
    "    \n",
    "    # N50 LANDAREAL\n",
    "    remake = False\n",
    "    \n",
    "    if remake:\n",
    "        # norge_landareal_n50: norge - norge_havflate_n50\n",
    "        ! ogr2ogr -append -f \"GPKG\" -dialect sqlite -sql \"SELECT ST_Difference(norge.geom, norge_havflate_n50.geom) AS geom, 'land' AS objtype FROM norge, norge_havflate_n50\" \\\n",
    "            -t_srs EPSG:25833 -nln \"norge_landareal_n50\" -nlt MULTIPOLYGON admin_25833.gpkg admin_25833.gpkg\n",
    "    else: \n",
    "        # copy layer from raw data\n",
    "        ! ogr2ogr -f \"GPKG\" -t_srs EPSG:25833 -nln \"norge_landareal_n50\" -nlt MULTIPOLYGON \"$interim_data/admin_25833.gpkg\" \"$raw_data/N50_2024_hav_landareal_25833.gpkg\" \"norge_landareal_n50\""
   ]
  },
  {
   "cell_type": "markdown",
   "metadata": {},
   "source": [
    "**Import data into `vern_25833.gpkg`**"
   ]
  },
  {
   "cell_type": "code",
   "execution_count": 7,
   "metadata": {},
   "outputs": [],
   "source": [
    "if load_data: \n",
    "    # download data from ArcGIS REST directly into the interim folder\n",
    "    os.chdir(os.path.join(data_path, \"interim\"))\n",
    "    print(os.getcwd())\n",
    "        \n",
    "    # ArcGIS REST: Naturvern (02.2024)\n",
    "    ! ogr2ogr -f \"GPKG\" -t_srs EPSG:25833 -nln naturvernomrade -nlt MULTIPOLYGON vern_25833.gpkg \\\n",
    "        \"https://kart.miljodirektoratet.no/arcgis/rest/services/vern/mapserver/0/query?where=1%3D1&outfields=*&f=json&resultRecordCount=1\"\n",
    "\n",
    "    # ArcGIS REST: Foreslåtte verneområder (02.2024)\n",
    "    ! ogr2ogr -append -f \"GPKG\" -t_srs EPSG:25833 -nln foreslatt_vern -nlt MULTIPOLYGON vern_25833.gpkg \\\n",
    "        \"https://kart.miljodirektoratet.no/arcgis/rest/services/vern/mapserver/4/query?where=1%3D1&outfields=*&f=json&resultRecordCount=1\""
   ]
  },
  {
   "cell_type": "markdown",
   "metadata": {},
   "source": [
    "**Import data into bevaring_25833.gpkg**"
   ]
  },
  {
   "cell_type": "code",
   "execution_count": 8,
   "metadata": {},
   "outputs": [],
   "source": [
    "if load_data:\n",
    "    os.chdir(os.path.join(data_path, \"interim\"))\n",
    "    print(os.getcwd())\n",
    "    \n",
    "    bioklima_path = catalog[\"bioclimatic_zones\"][\"filepath\"]\n",
    "    bioklima_lyr = catalog[\"bioclimatic_zones\"][\"layer\"]\n",
    "    ar50_path = catalog[\"ar50\"][\"filepath\"]\n",
    "    ar50_lyr = catalog[\"ar50\"][\"layer\"]\n",
    "\n",
    "    print(ar50_path, ar50_lyr)\n",
    "    \n",
    "    # Copy GDB layers from NINA R to gpkg\n",
    "    ! ogrinfo \"$bioklima_path\"\n",
    "    ! ogr2ogr -f \"GPKG\" -t_srs EPSG:25833 -nln soner_2017_1km -nlt MULTIPOLYGON bevaring_25833.gpkg \"$bioklima_path\" \"$bioklima_lyr\"\n",
    "    ! ogrinfo \"$ar50_path\"\n",
    "    ! ogr2ogr -append -f \"GPKG\" -t_srs EPSG:25833 -nln \"$ar50_lyr\" -nlt MULTIPOLYGON bevaring_25833.gpkg \"$ar50_path\" \"$ar50_lyr\"\n"
   ]
  },
  {
   "cell_type": "markdown",
   "metadata": {},
   "source": [
    "### Raster Data\n",
    "\n"
   ]
  },
  {
   "cell_type": "code",
   "execution_count": 9,
   "metadata": {},
   "outputs": [],
   "source": [
    "if load_data:\n",
    "    infra_path = catalog[\"infra_25m\"][\"filepath\"]\n",
    "    \n",
    "    # copy to project raw folder and convert to 25833\n",
    "    ! gdalwarp -t_srs EPSG:25833 $infra_path $raw_data/infra_25m_25833.tif"
   ]
  },
  {
   "cell_type": "code",
   "execution_count": 10,
   "metadata": {},
   "outputs": [],
   "source": [
    "# clip raster by polygon \n",
    "if load_data:\n",
    "    ! gdalwarp -cutline \"//home/NINA.NO/willeke.acampo/Mounts/scratch/wilaca/vern_og_bevaring/data/interim/norge_landareal_n50.shp\" -crop_to_cutline \\\n",
    "        $raw_data/infra_25m_25833.tif \\\n",
    "        $interim_data/infra_25m_25833_coastalclip.tif"
   ]
  },
  {
   "cell_type": "code",
   "execution_count": 11,
   "metadata": {},
   "outputs": [],
   "source": [
    "# WARNING: run in bash shell, otherise correct path to gdal_calc.py is not found. \n",
    "# multiply all cells by 1000 except for nodata values. \n",
    "if load_data:\n",
    "    ! gdal_calc.py -A \"//home/NINA.NO/willeke.acampo/Mounts/scratch/wilaca/vern_og_bevaring/data/interim/infra_25m_25833_coastalclip.tif\" \\\n",
    "        --outfile=\"//home/NINA.NO/willeke.acampo/Mounts/scratch/wilaca/vern_og_bevaring/data/interim/infra_25m_25833_x1000.tif\" \\\n",
    "            --calc=\"numpy.where(A!=3.4e+38, A*1000, 3.4e+38)\" --type=Float32 --NoDataValue=3.4e+38"
   ]
  },
  {
   "cell_type": "code",
   "execution_count": 12,
   "metadata": {},
   "outputs": [],
   "source": [
    "# to integer\n",
    "if load_data:\n",
    "    ! gdal_translate -ot Int16 -of GTiff \\\n",
    "        \"//home/NINA.NO/willeke.acampo/Mounts/scratch/wilaca/vern_og_bevaring/data/interim/infra_25m_25833_x1000.tif\" \\\n",
    "        \"//home/NINA.NO/willeke.acampo/Mounts/scratch/wilaca/vern_og_bevaring/data/interim/infra_25m_25833_x1000_int.tif\""
   ]
  },
  {
   "cell_type": "code",
   "execution_count": 13,
   "metadata": {},
   "outputs": [],
   "source": [
    "# clip by coast again \n",
    "if load_data:\n",
    "    ! gdalwarp -cutline \"//home/NINA.NO/willeke.acampo/Mounts/scratch/wilaca/vern_og_bevaring/data/interim/norge_landareal_n50.shp\" -crop_to_cutline \\\n",
    "        $interim_data/infra_25m_25833_x1000_int.tif \\\n",
    "        $interim_data/infra_25m_25833_x1000int_coastalclip.tif "
   ]
  },
  {
   "cell_type": "code",
   "execution_count": 14,
   "metadata": {},
   "outputs": [],
   "source": [
    "# raster to vector\n",
    "# to BIG! \n",
    "if load_data:\n",
    "    ! gdal_polygonize.py $interim_data/infra_25m_25833_x1000_int.tif -f \"GeoJSON\" $raw_data/infra_25m_25833_x1000_int.geojson"
   ]
  },
  {
   "cell_type": "markdown",
   "metadata": {},
   "source": [
    "**Write Metadata to .txt**"
   ]
  },
  {
   "cell_type": "code",
   "execution_count": 15,
   "metadata": {},
   "outputs": [],
   "source": [
    "if load_data: \n",
    "    # run shell scripts from /src/shell\n",
    "    os.chdir(shell_path)\n",
    "\n",
    "    path = os.path.join(data_path, \"interim\")\n",
    "\n",
    "    ! gdalinfo --version\n",
    "    ! chmod +x gdal_gpkg-info.sh\n",
    "    ! ./gdal_gpkg-info.sh $path \"vern_25833.gpkg\"\n",
    "    ! ./gdal_gpkg-info.sh $path \"bevaring_25833.gpkg\"\n",
    "    ! ./gdal_gpkg-info.sh $path \"admin_25833.gpkg\""
   ]
  },
  {
   "cell_type": "markdown",
   "metadata": {},
   "source": [
    "## 1.2 Data Preparation"
   ]
  },
  {
   "cell_type": "markdown",
   "metadata": {},
   "source": [
    "### Sudy Area | Norway Mainland\n",
    "\n",
    "This workflow is created and run for Norway mainland. If you like to test or use the workflow we recommend running it first on a study area. Below are bounding box coordinates provided for Dovrefjell, Fosen or Trondheim area. \n",
    "\n",
    "**Create Bounding Box** "
   ]
  },
  {
   "cell_type": "code",
   "execution_count": 16,
   "metadata": {},
   "outputs": [],
   "source": [
    "# bounding box Dovrefjell\n",
    "bounding_box = \"fosen\"  # \"dovrefjell\" or \"trondheim\"\n",
    "\n",
    "if bounding_box == \"dovrefjell\":\n",
    "    xmin, ymin, xmax, ymax = 160000.00, 6900000.00, 260000.00, 6950000.00\n",
    "if bounding_box == \"fosen\":\n",
    "    xmin, ymin, xmax, ymax = 180000.00, 7010000.00, 290000.00, 7150000.00\n",
    "if bounding_box == \"trondheim\":\n",
    "    xmin, ymin, xmax, ymax = 260520.12, 7032142.5, 278587.56, 7045245.27\n",
    "\n",
    "# Create a bounding box\n",
    "boxBB =  box(xmin, ymin, xmax, ymax)\n",
    "crs = 'EPSG:25833'\n",
    "\n",
    "gdf_BB = gpd.GeoDataFrame(geometry=[boxBB])\n",
    "gdf_BB['name'] = 'Dovre_BB'\n",
    "gdf_BB.crs = crs\n",
    "bounds = gdf_BB.bounds.to_numpy().tolist()[0]"
   ]
  },
  {
   "cell_type": "code",
   "execution_count": 17,
   "metadata": {},
   "outputs": [],
   "source": [
    "if test_area: \n",
    "    # run shell scripts from /src/shell\n",
    "    os.chdir(shell_path)\n",
    "    for file in [\"vern\", \"bevaring\", \"admin\"]:\n",
    "        input_file = os.path.join(data_path, \"interim\", f\"{file}_25833.gpkg\")\n",
    "        output_file = os.path.join(data_path, \"tmp\", f\"{file}_25833_bbox.gpkg\")\n",
    "        \n",
    "        #for layer_name in layer_names:\n",
    "        ! chmod +x gdal_copy-file-bbox.sh\n",
    "        ! ./gdal_copy-file-bbox.sh {input_file} {output_file} {xmin} {ymin} {xmax} {ymax}"
   ]
  },
  {
   "cell_type": "markdown",
   "metadata": {},
   "source": [
    "### AR50 - Bonitet\n",
    "\n",
    "Translate the Bonitet classes using a lookup table.\n",
    " \n",
    "&emsp; $Bonitet = (artype, artreslag, arskogbon, arjordbr, ardyrkning, arveget)$ "
   ]
  },
  {
   "cell_type": "code",
   "execution_count": 18,
   "metadata": {},
   "outputs": [
    {
     "name": "stdout",
     "output_type": "stream",
     "text": [
      "/home/NINA.NO/willeke.acampo/Mounts/scratch/wilaca/vern_og_bevaring/data/interim/bevaring_25833.gpkg\n"
     ]
    },
    {
     "data": {
      "text/html": [
       "<div>\n",
       "<style scoped>\n",
       "    .dataframe tbody tr th:only-of-type {\n",
       "        vertical-align: middle;\n",
       "    }\n",
       "\n",
       "    .dataframe tbody tr th {\n",
       "        vertical-align: top;\n",
       "    }\n",
       "\n",
       "    .dataframe thead th {\n",
       "        text-align: right;\n",
       "    }\n",
       "</style>\n",
       "<table border=\"1\" class=\"dataframe\">\n",
       "  <thead>\n",
       "    <tr style=\"text-align: right;\">\n",
       "      <th></th>\n",
       "      <th>OBJECTID</th>\n",
       "      <th>objtype</th>\n",
       "      <th>artype</th>\n",
       "      <th>arskogbon</th>\n",
       "      <th>artreslag</th>\n",
       "      <th>arveget</th>\n",
       "      <th>arjordbr</th>\n",
       "      <th>ardyrking</th>\n",
       "      <th>arkartstd</th>\n",
       "      <th>målemetode</th>\n",
       "      <th>informasjon</th>\n",
       "      <th>oppdateringsdato</th>\n",
       "      <th>originaldatavert</th>\n",
       "      <th>navnerom</th>\n",
       "      <th>kopidato</th>\n",
       "      <th>områdeid</th>\n",
       "      <th>lokalid</th>\n",
       "      <th>fylkeid</th>\n",
       "      <th>komid</th>\n",
       "      <th>ar50_bonitet</th>\n",
       "    </tr>\n",
       "  </thead>\n",
       "  <tbody>\n",
       "    <tr>\n",
       "      <th>0</th>\n",
       "      <td>1</td>\n",
       "      <td>arealressursflate</td>\n",
       "      <td>60</td>\n",
       "      <td>13</td>\n",
       "      <td>31</td>\n",
       "      <td>98</td>\n",
       "      <td>98</td>\n",
       "      <td>81</td>\n",
       "      <td>AR50</td>\n",
       "      <td>64</td>\n",
       "      <td>Generalisert fra AR5 Årsversjon 2016</td>\n",
       "      <td>20180106</td>\n",
       "      <td>NIBIO</td>\n",
       "      <td>NO_NIBIO_AR50_2019_2</td>\n",
       "      <td>20211021</td>\n",
       "      <td>5022</td>\n",
       "      <td>1</td>\n",
       "      <td>50</td>\n",
       "      <td>5022</td>\n",
       "      <td>11</td>\n",
       "    </tr>\n",
       "    <tr>\n",
       "      <th>1</th>\n",
       "      <td>2</td>\n",
       "      <td>arealressursflate</td>\n",
       "      <td>60</td>\n",
       "      <td>11</td>\n",
       "      <td>31</td>\n",
       "      <td>98</td>\n",
       "      <td>98</td>\n",
       "      <td>81</td>\n",
       "      <td>AR50</td>\n",
       "      <td>64</td>\n",
       "      <td>Generalisert fra AR5 Årsversjon 2016</td>\n",
       "      <td>20180106</td>\n",
       "      <td>NIBIO</td>\n",
       "      <td>NO_NIBIO_AR50_2019_2</td>\n",
       "      <td>20211021</td>\n",
       "      <td>5022</td>\n",
       "      <td>2</td>\n",
       "      <td>50</td>\n",
       "      <td>5022</td>\n",
       "      <td>11</td>\n",
       "    </tr>\n",
       "    <tr>\n",
       "      <th>2</th>\n",
       "      <td>3</td>\n",
       "      <td>arealressursflate</td>\n",
       "      <td>60</td>\n",
       "      <td>13</td>\n",
       "      <td>31</td>\n",
       "      <td>98</td>\n",
       "      <td>98</td>\n",
       "      <td>81</td>\n",
       "      <td>AR50</td>\n",
       "      <td>64</td>\n",
       "      <td>Generalisert fra AR5 Årsversjon 2016</td>\n",
       "      <td>20180106</td>\n",
       "      <td>NIBIO</td>\n",
       "      <td>NO_NIBIO_AR50_2019_2</td>\n",
       "      <td>20211021</td>\n",
       "      <td>5022</td>\n",
       "      <td>3</td>\n",
       "      <td>50</td>\n",
       "      <td>5022</td>\n",
       "      <td>11</td>\n",
       "    </tr>\n",
       "    <tr>\n",
       "      <th>3</th>\n",
       "      <td>4</td>\n",
       "      <td>arealressursflate</td>\n",
       "      <td>60</td>\n",
       "      <td>11</td>\n",
       "      <td>31</td>\n",
       "      <td>98</td>\n",
       "      <td>98</td>\n",
       "      <td>81</td>\n",
       "      <td>AR50</td>\n",
       "      <td>64</td>\n",
       "      <td>Generalisert fra AR5 Årsversjon 2016</td>\n",
       "      <td>20180106</td>\n",
       "      <td>NIBIO</td>\n",
       "      <td>NO_NIBIO_AR50_2019_2</td>\n",
       "      <td>20211021</td>\n",
       "      <td>5022</td>\n",
       "      <td>4</td>\n",
       "      <td>50</td>\n",
       "      <td>5022</td>\n",
       "      <td>11</td>\n",
       "    </tr>\n",
       "    <tr>\n",
       "      <th>4</th>\n",
       "      <td>5</td>\n",
       "      <td>arealressursflate</td>\n",
       "      <td>30</td>\n",
       "      <td>13</td>\n",
       "      <td>31</td>\n",
       "      <td>98</td>\n",
       "      <td>98</td>\n",
       "      <td>81</td>\n",
       "      <td>AR50</td>\n",
       "      <td>64</td>\n",
       "      <td>Generalisert fra AR5 Årsversjon 2016</td>\n",
       "      <td>20180106</td>\n",
       "      <td>NIBIO</td>\n",
       "      <td>NO_NIBIO_AR50_2019_2</td>\n",
       "      <td>20211021</td>\n",
       "      <td>5022</td>\n",
       "      <td>5</td>\n",
       "      <td>50</td>\n",
       "      <td>5022</td>\n",
       "      <td>4</td>\n",
       "    </tr>\n",
       "  </tbody>\n",
       "</table>\n",
       "</div>"
      ],
      "text/plain": [
       "   OBJECTID            objtype artype arskogbon artreslag arveget arjordbr  \\\n",
       "0         1  arealressursflate     60        13        31      98       98   \n",
       "1         2  arealressursflate     60        11        31      98       98   \n",
       "2         3  arealressursflate     60        13        31      98       98   \n",
       "3         4  arealressursflate     60        11        31      98       98   \n",
       "4         5  arealressursflate     30        13        31      98       98   \n",
       "\n",
       "  ardyrking arkartstd målemetode                           informasjon  \\\n",
       "0        81      AR50         64  Generalisert fra AR5 Årsversjon 2016   \n",
       "1        81      AR50         64  Generalisert fra AR5 Årsversjon 2016   \n",
       "2        81      AR50         64  Generalisert fra AR5 Årsversjon 2016   \n",
       "3        81      AR50         64  Generalisert fra AR5 Årsversjon 2016   \n",
       "4        81      AR50         64  Generalisert fra AR5 Årsversjon 2016   \n",
       "\n",
       "  oppdateringsdato originaldatavert              navnerom  kopidato områdeid  \\\n",
       "0         20180106            NIBIO  NO_NIBIO_AR50_2019_2  20211021     5022   \n",
       "1         20180106            NIBIO  NO_NIBIO_AR50_2019_2  20211021     5022   \n",
       "2         20180106            NIBIO  NO_NIBIO_AR50_2019_2  20211021     5022   \n",
       "3         20180106            NIBIO  NO_NIBIO_AR50_2019_2  20211021     5022   \n",
       "4         20180106            NIBIO  NO_NIBIO_AR50_2019_2  20211021     5022   \n",
       "\n",
       "  lokalid  fylkeid  komid  ar50_bonitet  \n",
       "0       1       50   5022            11  \n",
       "1       2       50   5022            11  \n",
       "2       3       50   5022            11  \n",
       "3       4       50   5022            11  \n",
       "4       5       50   5022             4  "
      ]
     },
     "execution_count": 18,
     "metadata": {},
     "output_type": "execute_result"
    }
   ],
   "source": [
    "# ar50 layer\n",
    "layer_name, new_field_name = \"ar50_flate\", \"ar50_bonitet\"\n",
    "\n",
    "if test_area:\n",
    "    # import gpkg into ogr object \n",
    "    # add field name if it does not exist\n",
    "    tmp_gpkg = os.path.join(data_path, \"tmp\", \"bevaring_25833_bbox.gpkg\")\n",
    "    ds, lyr = import_gpkg(tmp_gpkg, layer_name, new_field_name)\n",
    "    #print_layer_schema(lyr)\n",
    "else:\n",
    "    # import gpkg into ogr object \n",
    "    # add field name if it does not exist\n",
    "    in_gpkg = os.path.join(interim_data, \"bevaring_25833.gpkg\")\n",
    "    print(in_gpkg)\n",
    "    ds, lyr = import_gpkg(in_gpkg, layer_name, new_field_name)\n",
    "    #print_layer_schema(lyr)\n",
    "\n",
    "# Convert the first 5 features of the layer to a DataFrame\n",
    "# use islice to limit the number of features to 5, to reduce computation time\n",
    "df_AR50 = pd.DataFrame(feature.items() for feature in islice(lyr, 5))\n",
    "\n",
    "# Print the DataFrame\n",
    "df_AR50"
   ]
  },
  {
   "cell_type": "code",
   "execution_count": 19,
   "metadata": {},
   "outputs": [
    {
     "data": {
      "text/html": [
       "<div>\n",
       "<style scoped>\n",
       "    .dataframe tbody tr th:only-of-type {\n",
       "        vertical-align: middle;\n",
       "    }\n",
       "\n",
       "    .dataframe tbody tr th {\n",
       "        vertical-align: top;\n",
       "    }\n",
       "\n",
       "    .dataframe thead th {\n",
       "        text-align: right;\n",
       "    }\n",
       "</style>\n",
       "<table border=\"1\" class=\"dataframe\">\n",
       "  <thead>\n",
       "    <tr style=\"text-align: right;\">\n",
       "      <th></th>\n",
       "      <th>artype</th>\n",
       "      <th>arskogbon</th>\n",
       "      <th>artreslag</th>\n",
       "      <th>arveget</th>\n",
       "      <th>arjordbr</th>\n",
       "      <th>ardyrking</th>\n",
       "      <th>Beskrivelse</th>\n",
       "      <th>ar50_bonitet</th>\n",
       "    </tr>\n",
       "  </thead>\n",
       "  <tbody>\n",
       "    <tr>\n",
       "      <th>0</th>\n",
       "      <td>10</td>\n",
       "      <td>98</td>\n",
       "      <td>98</td>\n",
       "      <td>98</td>\n",
       "      <td>98</td>\n",
       "      <td>98</td>\n",
       "      <td>Bebygd og samferdsel</td>\n",
       "      <td>14</td>\n",
       "    </tr>\n",
       "    <tr>\n",
       "      <th>1</th>\n",
       "      <td>20</td>\n",
       "      <td>98</td>\n",
       "      <td>98</td>\n",
       "      <td>98</td>\n",
       "      <td>24</td>\n",
       "      <td>98</td>\n",
       "      <td>Fulldyrka og Overflatedyrka jord</td>\n",
       "      <td>1</td>\n",
       "    </tr>\n",
       "    <tr>\n",
       "      <th>2</th>\n",
       "      <td>20</td>\n",
       "      <td>98</td>\n",
       "      <td>98</td>\n",
       "      <td>98</td>\n",
       "      <td>25</td>\n",
       "      <td>82</td>\n",
       "      <td>Innmarksbeite, dyrkbar jord</td>\n",
       "      <td>2</td>\n",
       "    </tr>\n",
       "    <tr>\n",
       "      <th>3</th>\n",
       "      <td>20</td>\n",
       "      <td>98</td>\n",
       "      <td>98</td>\n",
       "      <td>98</td>\n",
       "      <td>25</td>\n",
       "      <td>81</td>\n",
       "      <td>Innmarksbeite</td>\n",
       "      <td>2</td>\n",
       "    </tr>\n",
       "    <tr>\n",
       "      <th>4</th>\n",
       "      <td>20</td>\n",
       "      <td>98</td>\n",
       "      <td>98</td>\n",
       "      <td>98</td>\n",
       "      <td>99</td>\n",
       "      <td>99</td>\n",
       "      <td>Jordbruksareal, uspesifisert</td>\n",
       "      <td>1</td>\n",
       "    </tr>\n",
       "    <tr>\n",
       "      <th>5</th>\n",
       "      <td>30</td>\n",
       "      <td>11</td>\n",
       "      <td>31</td>\n",
       "      <td>98</td>\n",
       "      <td>98</td>\n",
       "      <td>82</td>\n",
       "      <td>Barskog, impediment, dyrkbar jord</td>\n",
       "      <td>6</td>\n",
       "    </tr>\n",
       "    <tr>\n",
       "      <th>6</th>\n",
       "      <td>30</td>\n",
       "      <td>11</td>\n",
       "      <td>31</td>\n",
       "      <td>98</td>\n",
       "      <td>98</td>\n",
       "      <td>81</td>\n",
       "      <td>Barskog, impediment</td>\n",
       "      <td>6</td>\n",
       "    </tr>\n",
       "    <tr>\n",
       "      <th>7</th>\n",
       "      <td>30</td>\n",
       "      <td>12</td>\n",
       "      <td>31</td>\n",
       "      <td>98</td>\n",
       "      <td>98</td>\n",
       "      <td>82</td>\n",
       "      <td>Barskog, lav skogbonitet, dyrkbar jord</td>\n",
       "      <td>5</td>\n",
       "    </tr>\n",
       "    <tr>\n",
       "      <th>8</th>\n",
       "      <td>30</td>\n",
       "      <td>12</td>\n",
       "      <td>31</td>\n",
       "      <td>98</td>\n",
       "      <td>98</td>\n",
       "      <td>81</td>\n",
       "      <td>Barskog, lav skogbonitet</td>\n",
       "      <td>5</td>\n",
       "    </tr>\n",
       "    <tr>\n",
       "      <th>9</th>\n",
       "      <td>30</td>\n",
       "      <td>13</td>\n",
       "      <td>31</td>\n",
       "      <td>98</td>\n",
       "      <td>98</td>\n",
       "      <td>82</td>\n",
       "      <td>Barskog, middels skogbonitet, dyrkbar jord</td>\n",
       "      <td>4</td>\n",
       "    </tr>\n",
       "    <tr>\n",
       "      <th>10</th>\n",
       "      <td>30</td>\n",
       "      <td>13</td>\n",
       "      <td>31</td>\n",
       "      <td>98</td>\n",
       "      <td>98</td>\n",
       "      <td>81</td>\n",
       "      <td>Barskog, middels skogbonitet</td>\n",
       "      <td>4</td>\n",
       "    </tr>\n",
       "  </tbody>\n",
       "</table>\n",
       "</div>"
      ],
      "text/plain": [
       "    artype  arskogbon  artreslag  arveget  arjordbr  ardyrking  \\\n",
       "0       10         98         98       98        98         98   \n",
       "1       20         98         98       98        24         98   \n",
       "2       20         98         98       98        25         82   \n",
       "3       20         98         98       98        25         81   \n",
       "4       20         98         98       98        99         99   \n",
       "5       30         11         31       98        98         82   \n",
       "6       30         11         31       98        98         81   \n",
       "7       30         12         31       98        98         82   \n",
       "8       30         12         31       98        98         81   \n",
       "9       30         13         31       98        98         82   \n",
       "10      30         13         31       98        98         81   \n",
       "\n",
       "                                   Beskrivelse  ar50_bonitet  \n",
       "0                         Bebygd og samferdsel            14  \n",
       "1             Fulldyrka og Overflatedyrka jord             1  \n",
       "2                  Innmarksbeite, dyrkbar jord             2  \n",
       "3                                Innmarksbeite             2  \n",
       "4                 Jordbruksareal, uspesifisert             1  \n",
       "5            Barskog, impediment, dyrkbar jord             6  \n",
       "6                          Barskog, impediment             6  \n",
       "7       Barskog, lav skogbonitet, dyrkbar jord             5  \n",
       "8                     Barskog, lav skogbonitet             5  \n",
       "9   Barskog, middels skogbonitet, dyrkbar jord             4  \n",
       "10                Barskog, middels skogbonitet             4  "
      ]
     },
     "metadata": {},
     "output_type": "display_data"
    }
   ],
   "source": [
    "# lookup table \n",
    "lookup_csv = os.path.join(data_path, \"AR50_bonitet_lookup.csv\")\n",
    "lookup_df = pd.read_csv(lookup_csv)\n",
    "\n",
    "# rename cols to correspond with AR50 lyr\n",
    "lookup_df.rename(\n",
    "    columns={\n",
    "        \"ARTYPE kode\": \"artype\",\n",
    "        \"ARTRESLAG kode\": \"artreslag\",\n",
    "        \"ARSKOGBON kode\": \"arskogbon\",\n",
    "        \"ARJORDBR kode\": \"arjordbr\",\n",
    "        \"ARDYRKING kode\": \"ardyrking\",\n",
    "        \"ARVEGET kode\": \"arveget\",\n",
    "        \"Bonitet kode\": \"ar50_bonitet\",\n",
    "    },\n",
    "    inplace=True,\n",
    ")\n",
    "\n",
    "# reorder cols to correspond with AR50 lyr\n",
    "lookup_df = lookup_df[\n",
    "    [\n",
    "        \"artype\",\n",
    "        \"arskogbon\",\n",
    "        \"artreslag\",\n",
    "        \"arveget\",\n",
    "        \"arjordbr\",\n",
    "        \"ardyrking\",\n",
    "        \"Beskrivelse\",\n",
    "        \"ar50_bonitet\",\n",
    "    ]\n",
    "]\n",
    "\n",
    "display(lookup_df.head(11))"
   ]
  },
  {
   "cell_type": "code",
   "execution_count": 20,
   "metadata": {},
   "outputs": [
    {
     "name": "stdout",
     "output_type": "stream",
     "text": [
      "{(10, 98, 98, 98, 98, 98): 14, (20, 98, 98, 98, 24, 98): 1, (20, 98, 98, 98, 25, 82): 2, (20, 98, 98, 98, 25, 81): 2, (20, 98, 98, 98, 99, 99): 1, (30, 11, 31, 98, 98, 82): 6, (30, 11, 31, 98, 98, 81): 6, (30, 12, 31, 98, 98, 82): 5, (30, 12, 31, 98, 98, 81): 5, (30, 13, 31, 98, 98, 82): 4, (30, 13, 31, 98, 98, 81): 4}\n"
     ]
    }
   ],
   "source": [
    "# create lookup dict\n",
    "# keys must be in same order as gpkg lyr fields\n",
    "keys = (\n",
    "    \"artype\",\n",
    "    \"arskogbon\",\n",
    "    \"artreslag\",\n",
    "    \"arveget\",\n",
    "    \"arjordbr\",\n",
    "    \"ardyrking\",\n",
    "    )\n",
    "\n",
    "value= \"ar50_bonitet\"\n",
    "\n",
    "lookup_dict = create_lookup_dict(\n",
    "    lookup_df,\n",
    "    keys=keys,\n",
    "    value=value\n",
    ")\n",
    "\n",
    "# print first two entries of dict\n",
    "print({k: lookup_dict[k] for k in list(lookup_dict)[:11]})"
   ]
  },
  {
   "cell_type": "code",
   "execution_count": 21,
   "metadata": {},
   "outputs": [],
   "source": [
    "if False:\n",
    "    # loop through the features and reclassify the attribute value \"ar50_bonitet\"\n",
    "    features_to_update = []\n",
    "\n",
    "    for feature in lyr:\n",
    "        # get the attribute values\n",
    "        artype = feature.GetField(\"artype\")\n",
    "        arskogbon = feature.GetField(\"arskogbon\")\n",
    "        artreslag = feature.GetField(\"artreslag\")\n",
    "        arveget = feature.GetField(\"arveget\")\n",
    "        arjordbr = feature.GetField(\"arjordbr\")\n",
    "        ardyrking = feature.GetField(\"ardyrking\")\n",
    "\n",
    "        key = (int(artype), int(arskogbon), int(artreslag), int(arveget), int(arjordbr), int(ardyrking))\n",
    "        if key in lookup_dict:\n",
    "            new_value = lookup_dict[key]\n",
    "            feature.SetField(\"ar50_bonitet\", new_value)\n",
    "            features_to_update.append(feature)\n",
    "\n",
    "    print(f\"Number of features to update: {len(features_to_update)}\")\n",
    "    # Batch update features\n",
    "    for feature in features_to_update:\n",
    "        lyr.SetFeature(feature)\n",
    "\n",
    "    print(\"Finished updating Bonitet.\")\n",
    "\n",
    "    df_AR50_bon = pd.DataFrame(feature.items() for feature in islice(lyr, 5))\n",
    "    display(df_AR50_bon.head())\n",
    "\n",
    "# close OGR object\n",
    "ds = None"
   ]
  },
  {
   "cell_type": "markdown",
   "metadata": {},
   "source": [
    "## 1.3 Load data into Spatial Database (DuckDB)\n"
   ]
  },
  {
   "cell_type": "markdown",
   "metadata": {},
   "source": [
    "### Load data into DuckDB"
   ]
  },
  {
   "cell_type": "code",
   "execution_count": null,
   "metadata": {},
   "outputs": [],
   "source": [
    "if test_area:\n",
    "    db_path = os.path.join(data_path, \"tmp\", \"verg_og_bevaring_tmp.db\")\n",
    "else:\n",
    "    db_path = os.path.join(data_path, \"interim\", \"verg_og_bevaring.db\")"
   ]
  },
  {
   "cell_type": "code",
   "execution_count": null,
   "metadata": {},
   "outputs": [],
   "source": [
    "print(db_path)"
   ]
  },
  {
   "cell_type": "markdown",
   "metadata": {},
   "source": [
    "**Load Bioklima soner into DuckDB**"
   ]
  },
  {
   "cell_type": "code",
   "execution_count": null,
   "metadata": {},
   "outputs": [],
   "source": [
    "if prepare_duckdb:\n",
    "    # AR50 into duckdb\n",
    "    if test_area:\n",
    "        in_gpkg = os.path.join(data_path, \"tmp\", \"bevaring_25833_bbox.gpkg\")\n",
    "        db_path = os.path.join(data_path, \"tmp\", \"verg_og_bevaring_tmp.db\")\n",
    "        load_gpkg_layers(db_path, in_gpkg, \"bioklima_2017_coastalclip\")\n",
    "    else:\n",
    "        in_gpkg = os.path.join(data_path, \"interim\", \"bevaring_25833.gpkg\")\n",
    "        db_path = os.path.join(data_path, \"interim\", \"verg_og_bevaring.db\")\n",
    "        load_gpkg_layers(db_path, in_gpkg, \"bioklima_2017_coastalclip\")"
   ]
  },
  {
   "cell_type": "markdown",
   "metadata": {},
   "source": [
    "**Load AR50 into DuckDB**"
   ]
  },
  {
   "cell_type": "code",
   "execution_count": null,
   "metadata": {},
   "outputs": [],
   "source": [
    "# run time: \n",
    "if prepare_duckdb:\n",
    "    # AR50 into duckdb\n",
    "    if test_area:\n",
    "        in_gpkg = os.path.join(data_path, \"tmp\", \"bevaring_25833_bbox.gpkg\")\n",
    "        db_path = os.path.join(data_path, \"tmp\", \"verg_og_bevaring_tmp.db\")\n",
    "        load_gpkg_layers(db_path, in_gpkg, \"ar50_flate\")\n",
    "    else:\n",
    "        in_gpkg = os.path.join(data_path, \"interim\", \"bevaring_25833.gpkg\")\n",
    "        db_path = os.path.join(data_path, \"interim\", \"verg_og_bevaring.db\")\n",
    "        load_gpkg_layers(db_path, in_gpkg, \"ar50_flate\")"
   ]
  },
  {
   "cell_type": "markdown",
   "metadata": {},
   "source": [
    "**Load Protected Areas into DuckDB**"
   ]
  },
  {
   "cell_type": "code",
   "execution_count": null,
   "metadata": {},
   "outputs": [],
   "source": [
    "# import protected areas into DuckDB\n",
    "\n",
    "# if Test is True, import test gpkg otherwise import the original gpkg\n",
    "if prepare_duckdb:\n",
    "    if test_area:\n",
    "        in_gpkg = os.path.join(data_path, \"tmp\", \"vern_25833_bbox.gpkg\")\n",
    "        db_path = os.path.join(data_path, \"tmp\", \"verg_og_bevaring_tmp.db\")\n",
    "        load_gpkg_layers(db_path, in_gpkg, \"naturvernomrade\")\n",
    "        load_gpkg_layers(db_path, in_gpkg, \"foreslatt_vern\")\n",
    "    else:\n",
    "        in_gpkg = os.path.join(data_path, \"interim\", \"vern_25833.gpkg\")\n",
    "        db_path = os.path.join(data_path, \"interim\", \"verg_og_bevaring.db\")\n",
    "        load_gpkg_layers(db_path, in_gpkg, \"naturvernomrade\")\n",
    "        load_gpkg_layers(db_path, in_gpkg, \"foreslatt_vern\")"
   ]
  },
  {
   "cell_type": "markdown",
   "metadata": {},
   "source": [
    "**Load Regions into DuckDB**"
   ]
  },
  {
   "cell_type": "code",
   "execution_count": null,
   "metadata": {},
   "outputs": [],
   "source": [
    "if prepare_duckdb:\n",
    "    if test_area:\n",
    "        in_gpkg = os.path.join(data_path, \"tmp\", \"admin_25833_bbox.gpkg\")\n",
    "        db_path = os.path.join(data_path, \"tmp\", \"verg_og_bevaring_tmp.db\")\n",
    "        load_gpkg_layers(db_path, in_gpkg, \"region_2024\")\n",
    "        load_gpkg_layers(db_path, in_gpkg, \"norge_landareal_n50\")\n",
    "        load_gpkg_layers(db_path, in_gpkg, \"norge_hav_land_n50\")\n",
    "        load_gpkg_layers(db_path, in_gpkg, \"norge\")\n",
    "    else:\n",
    "        in_gpkg = os.path.join(data_path, \"interim\", \"admin_25833.gpkg\")\n",
    "        db_path = os.path.join(data_path, \"interim\", \"verg_og_bevaring.db\")\n",
    "        load_gpkg_layers(db_path, in_gpkg, \"region_2024\")\n",
    "        load_gpkg_layers(db_path, in_gpkg, \"norge_landareal_n50\")\n",
    "        load_gpkg_layers(db_path, in_gpkg, \"norge_hav_land_n50\")\n",
    "        load_gpkg_layers(db_path, in_gpkg, \"norge\")"
   ]
  },
  {
   "cell_type": "markdown",
   "metadata": {},
   "source": [
    "**Load SSB 10km Grid into DuckDB**"
   ]
  },
  {
   "cell_type": "code",
   "execution_count": null,
   "metadata": {},
   "outputs": [],
   "source": [
    "# import SSB 10km grid\n",
    "\n",
    "if prepare_duckdb:\n",
    "    if test_area:\n",
    "        in_gpkg = os.path.join(data_path, \"tmp\", \"admin_25833_bbox.gpkg\")\n",
    "        db_path = os.path.join(data_path, \"tmp\", \"verg_og_bevaring_tmp.db\")\n",
    "        load_gpkg_layers(db_path, in_gpkg, \"norge_ruter_10km\")\n",
    "    else:\n",
    "        in_gpkg = os.path.join(data_path, \"interim\", \"admin_25833.gpkg\")\n",
    "        db_path = os.path.join(data_path, \"interim\", \"verg_og_bevaring.db\")\n",
    "        load_gpkg_layers(db_path, in_gpkg, \"norge_ruter_10km\")"
   ]
  },
  {
   "cell_type": "markdown",
   "metadata": {},
   "source": [
    "### Preprocess DuckDB Tables "
   ]
  },
  {
   "cell_type": "markdown",
   "metadata": {},
   "source": [
    "**Convert BLOB columns to GEOM columns**"
   ]
  },
  {
   "cell_type": "code",
   "execution_count": null,
   "metadata": {},
   "outputs": [],
   "source": [
    "if prepare_duckdb:\n",
    "    # cast BLOB (Binary Large Object) to geometry for spatial operations\n",
    "    \n",
    "    import duckdb\n",
    "\n",
    "    con = duckdb.connect(db_path)\n",
    "    con.install_extension('spatial')\n",
    "    con.load_extension('spatial')\n",
    "    \n",
    "    # duckdb tables names to list\n",
    "    tables = con.execute(\"SHOW TABLES;\").fetchdf()\n",
    "    tables = tables[\"name\"].to_list()\n",
    "    print(tables)\n",
    "    \n",
    "    for table in tables:\n",
    "        \n",
    "        blob_to_geom(\n",
    "            db_path=db_path,\n",
    "            tbl_name=table,\n",
    "            blob_field=\"geometry\",\n",
    "            geom_field=\"geom\",   \n",
    "        )"
   ]
  },
  {
   "cell_type": "markdown",
   "metadata": {},
   "source": [
    "### Display DuckDB tables "
   ]
  },
  {
   "cell_type": "code",
   "execution_count": 25,
   "metadata": {},
   "outputs": [],
   "source": [
    "import duckdb\n",
    "\n",
    "con = duckdb.connect(db_path)\n",
    "con.install_extension('spatial')\n",
    "con.load_extension('spatial')"
   ]
  },
  {
   "cell_type": "code",
   "execution_count": 24,
   "metadata": {},
   "outputs": [
    {
     "name": "stdout",
     "output_type": "stream",
     "text": [
      "[]\n"
     ]
    },
    {
     "data": {
      "text/plain": [
       "┌─────────┐\n",
       "│  name   │\n",
       "│ varchar │\n",
       "├─────────┤\n",
       "│ 0 rows  │\n",
       "└─────────┘"
      ]
     },
     "execution_count": 24,
     "metadata": {},
     "output_type": "execute_result"
    }
   ],
   "source": [
    "reset_method =True \n",
    "\n",
    "tables_to_keep = [\n",
    "    \"ar50_flate\", \n",
    "    \"naturvernomrade\", \n",
    "    \"foreslatt_vern\",\n",
    "    \"naturvernomrade_infra\", \n",
    "    \"foreslatt_vern_infra\", \n",
    "    \"region_2024\", \n",
    "    \"norge_landareal_n50\",\n",
    "    \"norge_hav_land_n50\",\n",
    "    \"norge\",\n",
    "    \"norge_ruter_10km\", \n",
    "    \"bioklima_2017_coastalclip\"\n",
    "    ]\n",
    "\n",
    "all_tables = [item[0] for item in con.execute(\"SHOW TABLES;\").fetchall()]\n",
    "print(all_tables)\n",
    "\n",
    "if reset_method:\n",
    "    # Iterate over all tables and remove tables that are not in the list of tables to keep\n",
    "    [remove_table(db_path, tbl) for tbl in all_tables if tbl not in tables_to_keep]\n",
    "\n",
    "# print tables\n",
    "con.sql(\"SHOW TABLES;\")"
   ]
  },
  {
   "cell_type": "code",
   "execution_count": null,
   "metadata": {},
   "outputs": [],
   "source": [
    "# display first 5 rows of the table\n",
    "table = \"foreslatt_vern\"\n",
    "con.sql(f\"SELECT * FROM {table} LIMIT 5\")"
   ]
  },
  {
   "cell_type": "code",
   "execution_count": null,
   "metadata": {},
   "outputs": [],
   "source": [
    "# close\n",
    "con.close()"
   ]
  },
  {
   "cell_type": "markdown",
   "metadata": {},
   "source": [
    "## 1.4 Display Data on the Map\n",
    "\n",
    "https://ipyleaflet.readthedocs.io/en/latest/installation/index.html#using-pip \n"
   ]
  },
  {
   "cell_type": "code",
   "execution_count": null,
   "metadata": {},
   "outputs": [],
   "source": [
    "# Display data on map using leafmap\n",
    "# TODO display duckdb tables as well, not only WMS\n",
    "\n",
    "init_location = [62.223207, 9.550195]  # Hjerkinn\n",
    "zoom_start = 13  \n",
    "min_zoom = 8  # keeps user from zooming out too far\n",
    "basemap = leafmap.Map(\n",
    "    location=init_location, \n",
    "    zoom=zoom_start, \n",
    "    min_zoom=min_zoom, \n",
    "    max_bounds=True\n",
    "    )\n",
    "\n",
    "# set background\n",
    "basemap.add_basemap(\"SATELLITE\", opacity=0.7)\n",
    "\n",
    "# add WMS verneområder\n",
    "wms_url =\"https://kart.miljodirektoratet.no/arcgis/services/vern/mapserver/WMSServer\"\n",
    "wms_layer = \"naturvern_klasser_omrade\"\n",
    "wms_name = \"Protected Areas\"\n",
    "basemap.add_wms_layer(\n",
    "    url=wms_url, \n",
    "    layers=wms_layer, \n",
    "    name=wms_name, \n",
    "    wms_format=\"image/png\",\n",
    "    )\n",
    "\n",
    "if test_area:\n",
    "    # add bounding box - Hjerkinn\n",
    "    basemap.add_gdf(gdf_BB, layer_name=\"Test Area\", fill_color=\"blue\", fill_opacity=0.2, weight=2)\n",
    "\n",
    "basemap"
   ]
  },
  {
   "cell_type": "markdown",
   "metadata": {},
   "source": [
    "# 2. Methods"
   ]
  },
  {
   "cell_type": "markdown",
   "metadata": {},
   "source": [
    "## 2.1 Overlay Analysis"
   ]
  },
  {
   "cell_type": "code",
   "execution_count": null,
   "metadata": {},
   "outputs": [],
   "source": [
    "if statistical_zone in [\"norge_landareal_n50\", \"region_2024\", \"norge\"]:\n",
    "    # add a column \"identifikasjon_lokalId\" to the table \"norge_landareal_n50\"\n",
    "    # fill column 0 - x\n",
    "    con = duckdb.connect(db_path)\n",
    "    con.install_extension('spatial')\n",
    "    con.load_extension('spatial')\n",
    "    \n",
    "    con.execute(f\"ALTER TABLE {statistical_zone} ADD COLUMN identifikasjon_lokalId INTEGER;\")\n",
    "    con.execute(f\"UPDATE {statistical_zone}  SET identifikasjon_lokalId = rowid;\")\n",
    "    con.close()\n",
    "    print(statistical_zone)\n"
   ]
  },
  {
   "cell_type": "markdown",
   "metadata": {},
   "source": [
    "### Raster overlay | Calculate infrastrukturindeks statistics\n",
    "\n",
    "| Protected area | min |  max | mean | std | median |\n",
    "|----------------|-----|------|------|-----|--------|\n",
    "| Area  A        |     |      |      |     |        |"
   ]
  },
  {
   "cell_type": "code",
   "execution_count": null,
   "metadata": {},
   "outputs": [],
   "source": [
    "# table to df \n",
    "\n",
    "# to dataframe\n",
    "con = duckdb.connect(db_path)\n",
    "con.install_extension('spatial')\n",
    "con.load_extension('spatial')\n",
    "\n",
    "df = con.execute(f\"SELECT ST_AsText(geom) as geometry, * FROM {statistical_zone}\").fetchdf()\n",
    "\n",
    "# drop \"geom\"\n",
    "df = df.drop(columns=[\"geom\"])\n",
    "\n",
    "# Convert the geom column to gpd GeoDataFrame\n",
    "df['geometry'] = df['geometry'].apply(wkt.loads)\n",
    "\n",
    "# to gpd\n",
    "gdf = gpd.GeoDataFrame(df, geometry='geometry')\n",
    "print(f\"Number of unique ids: {gdf['identifikasjon_lokalId'].nunique()}\")\n",
    "print(f\"Number of rows: {gdf.shape[0]}\")\n",
    "\n",
    "# drop all rows where id is NULL\n",
    "gdf = gdf.dropna(subset=[\"identifikasjon_lokalId\"])\n",
    "\n",
    "display(gdf.head())\n",
    "con.close()"
   ]
  },
  {
   "cell_type": "code",
   "execution_count": null,
   "metadata": {},
   "outputs": [],
   "source": [
    "if run_infra:\n",
    "    from py_scripts.raster import * \n",
    "\n",
    "    # calculate the min, max, mean, std and median of the infrastruktur raster \n",
    "    # within the protected areas with a buffer of 1000m\n",
    "    raster_path = os.path.join(interim_data, \"infra_25m_25833_coastalclip.tif\")\n",
    "\n",
    "    if statistical_zone == \"norge\":\n",
    "        buffer_distance = 0\n",
    "    elif statistical_zone == \"norge_landareal_n50\":\n",
    "        buffer_distance = 0\n",
    "    elif statistical_zone == \"region_2024\":\n",
    "        buffer_distance = 0\n",
    "    else:\n",
    "        buffer_distance = 1000\n",
    "    print(buffer_distance)\n",
    "    \n",
    "    gdf_infra = overlay_stats(raster_path, gdf, buffer_distance=buffer_distance)\n",
    "    \n",
    "    # remove table study area\n",
    "    remove_table(db_path, str(statistical_zone))\n",
    "    display(gdf_infra.head())"
   ]
  },
  {
   "cell_type": "code",
   "execution_count": null,
   "metadata": {},
   "outputs": [],
   "source": [
    "con = duckdb.connect(db_path)\n",
    "# print tables\n",
    "con.sql(\"SHOW TABLES;\")"
   ]
  },
  {
   "cell_type": "code",
   "execution_count": null,
   "metadata": {},
   "outputs": [],
   "source": [
    "con.close()"
   ]
  },
  {
   "cell_type": "code",
   "execution_count": null,
   "metadata": {},
   "outputs": [],
   "source": [
    "# export to gpkg interim\n",
    "out_gpkg = os.path.join(interim_data, \"interim_25833.gpkg\")\n",
    "out_layer = f\"{statistical_zone}_infra\"\n",
    "# export to specifc layer \"stastiscial_zone_infra\"\n",
    "\n",
    "gdf_infra.crs = \"EPSG:25833\"\n",
    "# Write to existing .geopackage\n",
    "gdf_infra.to_file(out_gpkg, driver='GPKG', layer=out_layer, mode='w')"
   ]
  },
  {
   "cell_type": "code",
   "execution_count": null,
   "metadata": {},
   "outputs": [],
   "source": [
    "# to duckdb\n",
    "load_gpkg_layers(db_path, out_gpkg, out_layer)\n",
    "\n",
    "# convert geom\n",
    "blob_to_geom(\n",
    "    db_path=db_path,\n",
    "    tbl_name=out_layer,\n",
    "    blob_field=\"geometry\",\n",
    "    geom_field=\"geom\",   \n",
    ")\n"
   ]
  },
  {
   "cell_type": "markdown",
   "metadata": {},
   "source": [
    "\n",
    "### Vector overlay | Bioclimatic Zones\n",
    "**Bioklimatiske soner**\n",
    "\n",
    "| Protected area | Sone 1 (%) | Sone 2 (%) | Sone 3 (%) | ... |\n",
    "|----------------|------------|------------|------------|-----|\n",
    "| *NaturvernId*  |*bioklima_1*|*bioklima_2*|*bioklima_3*|...  |\n",
    "| area A         |            |            |            |     |"
   ]
  },
  {
   "cell_type": "code",
   "execution_count": null,
   "metadata": {},
   "outputs": [],
   "source": [
    "if run_bioklima:\n",
    "    tbl_study_area = f\"{statistical_zone}_infra\"\n",
    "    id = \"identifikasjon_lokalId\"\n",
    "    tbl_bioklima = \"bioklima_2017_coastalclip\"\n",
    "    bioklima_field = \"Sone_Kode\"\n",
    "    bioklima_zones = [\"6SO-1\", \"6SO-2\", \"6SO-3\", \"6SO-4\", \"6SO-5\"]\n",
    "    for area_class in bioklima_zones: # 1-18\n",
    "        print(f\"Calculating Bioklima class {area_class}\")\n",
    "        new_field = f\"s_{area_class}_m2\" # ar50_bon1\n",
    "        new_field = new_field.replace(\"-\", \"_\")\n",
    "        remove_field(db_path, tbl_study_area, new_field)\n",
    "        bioklima_area_class(db_path, tbl_study_area, id, tbl_bioklima, bioklima_field, area_class, new_field)\n",
    "    \n",
    "    for area_class in bioklima_zones: # 1-18\n",
    "        new_field = f\"s_{area_class}_m2\" # ar50_bon1\n",
    "        new_field = new_field.replace(\"-\", \"_\")\n",
    "        con = duckdb.connect(db_path)\n",
    "        con.install_extension('spatial')\n",
    "        con.load_extension('spatial')\n",
    "        con.sql(f\"UPDATE {tbl_study_area} SET {new_field} = 0 WHERE {new_field} IS NULL\")\n",
    "        con.close()"
   ]
  },
  {
   "cell_type": "code",
   "execution_count": null,
   "metadata": {},
   "outputs": [],
   "source": [
    "con = duckdb.connect(db_path)\n",
    "con.sql(f\"SELECT * FROM {tbl_study_area} LIMIT 5\")"
   ]
  },
  {
   "cell_type": "markdown",
   "metadata": {},
   "source": [
    "### Vector overlay | AR50 (land cover)\n",
    "\n",
    "**Divide the protected areas into terrestrial and marine areas**\n",
    "\n",
    "AR50 polygons with classified as \"Hav\" are considered marine areas, all other areas are considered terrestrial.\n",
    "- Bonitet = 17 (Hav) \n",
    "- Arealtype = 82 (Hav)\n",
    "\n",
    "<br>\n",
    "\n",
    "**AR50 - Bonitet**\n",
    "Calculated area overlap with AR50 Bonitet classes. \n",
    "\n",
    "| Protected area | Fulldyrka og overflatedyrka jord (m2) | Innmarksbeite (m2) | Skog, høg og særs høg bonitet (m2) | ... |\n",
    "|----------------|--------------------------------------|-------------------|-----------------------------------|-----|\n",
    "| *NaturvernId*  |*AR50_bon_1*|*AR50_bon2*|*AR50_bon3*|...|\n",
    "| area A         |                                      |                   |                                   |     |\n"
   ]
  },
  {
   "cell_type": "code",
   "execution_count": null,
   "metadata": {},
   "outputs": [],
   "source": [
    "# calculate ar50 area overlapp with protected areas\n",
    "tbl_study_area = f\"{statistical_zone}_infra\"\n",
    "id = \"identifikasjon_lokalId\"\n",
    "tbl_ar50 = \"ar50_flate\"\n",
    "ar50_field = \"ar50_bonitet\"\n",
    "\n",
    "if run_ar50:\n",
    "    for area_class in range(1, 19): # 1-18\n",
    "        print(f\"Calculating Bonitet class {area_class}\")\n",
    "        new_field = f\"ar50_bon{area_class}_m2\" # ar50_bon1\n",
    "        remove_field(db_path, tbl_study_area, new_field)\n",
    "        ar50_area_class(db_path, tbl_study_area, id, tbl_ar50, ar50_field, area_class, new_field)\n",
    "\n",
    "    # if ar50_bonx is null, set to 0\n",
    "    for area_class in range(1, 19): # 1-18\n",
    "        new_field = f\"ar50_bon{area_class}_m2\" # ar50_bon1\n",
    "        con = duckdb.connect(db_path)\n",
    "        con.install_extension('spatial')\n",
    "        con.load_extension('spatial')\n",
    "        con.sql(f\"UPDATE {tbl_study_area} SET {new_field} = 0 WHERE {new_field} IS NULL\")\n",
    "        con.close()"
   ]
  },
  {
   "cell_type": "code",
   "execution_count": null,
   "metadata": {},
   "outputs": [],
   "source": [
    "# print first 5 rows of the table statistical_zone\n",
    "con = duckdb.connect(db_path)\n",
    "con.sql(f\"SELECT * FROM {tbl_study_area} LIMIT 5\")\n",
    "\n",
    "# print as dataframe\n",
    "df = con.execute(f\"SELECT * FROM {tbl_study_area} LIMIT 5\").fetchdf()\n",
    "\n",
    "# display columns: identfifikasjon_lokalId, ar50_bonx\n",
    "col_id= [id]\n",
    "cols_ar50 = [col for col in df.columns if \"ar50_bon\" in col and col != \"sum_ar50_bon_m2\"]\n",
    "cols = col_id + cols_ar50\n",
    "df_ar50 = df[cols]\n",
    "display(df)\n",
    "\n",
    "# close\n",
    "con.close()"
   ]
  },
  {
   "cell_type": "markdown",
   "metadata": {},
   "source": [
    "**Check if sum of all AR50 classes correspons with the total area**"
   ]
  },
  {
   "cell_type": "code",
   "execution_count": null,
   "metadata": {},
   "outputs": [],
   "source": [
    "# Calculating sum of all bonitet classes\n",
    "remove_field(db_path, tbl_study_area, \"sum_ar50_bon_m2\")\n",
    "sum_area_cols(db_path, tbl_study_area, id, cols_ar50, \"sum_ar50_bon_m2\")\n",
    "\n",
    "# Calculating area of each polygon in the study area\n",
    "remove_field(db_path, tbl_study_area, \"areal_m2\")\n",
    "geom_area(db_path, tbl_study_area, \"geom\", \"areal_m2\")\n",
    "\n",
    "# Calculateing the difference between the sum of all bonitet classes and the area of each polygon\n",
    "remove_field(db_path, tbl_study_area, \"area_diff_m2\")\n",
    "area_difference(db_path, tbl_study_area, \"sum_ar50_bon_m2\", \"areal_m2\", \"area_diff_m2\")"
   ]
  },
  {
   "cell_type": "code",
   "execution_count": null,
   "metadata": {},
   "outputs": [],
   "source": [
    "# print first 5 rows of the table statistical_zone\n",
    "con = duckdb.connect(db_path)\n",
    "\n",
    "# print as dataframe\n",
    "df = con.execute(f\"SELECT * FROM {tbl_study_area}\").fetchdf()\n",
    "\n",
    "# display columns: identfifikasjon_lokalId, ar50_bonx\n",
    "col_id= [id]\n",
    "cols = col_id + [\"sum_ar50_bon_m2\", \"areal_m2\", \"area_diff_m2\"]\n",
    "df_ar50 = df[cols]\n",
    "\n",
    "# sort by area_diff_m2\n",
    "df_ar50 = df_ar50.sort_values(by=\"area_diff_m2\", ascending=True)\n",
    "display(df_ar50)\n",
    "\n",
    "# close\n",
    "con.close()"
   ]
  },
  {
   "cell_type": "code",
   "execution_count": null,
   "metadata": {},
   "outputs": [],
   "source": [
    "# print number of rows \n",
    "print(f\"Number of rows: {df.shape[0]}\")\n",
    "\n",
    "# print number of unique ids \"identifikasjon_lokalId\"\n",
    "print(f\"Number of unique ids: {df['identifikasjon_lokalId'].nunique()}\")\n",
    "\n",
    "# print number of rows with value in \"ar50_bon17\"\n",
    "print(f\"Number of areas with Marine area: {df['ar50_bon17_m2'].count()}\")"
   ]
  },
  {
   "cell_type": "markdown",
   "metadata": {},
   "source": [
    "## 2.2 Spatial indices"
   ]
  },
  {
   "cell_type": "markdown",
   "metadata": {},
   "source": [
    "\n",
    "### Shape Index\n",
    "\n",
    "| Protected area | Total area (km2) | Perimeter (km) | Land area (km2) | Perimeter land area (km) |\n",
    "|----------------|------------|----------------|-----------------|-------------------------|\n",
    "| *NaturvernId* | *areal_m2* | *omkrets_m* | *landareal_m2* | *landomkrets_m2*|\n",
    "| area A         |    *        |                |                 |                         |"
   ]
  },
  {
   "cell_type": "markdown",
   "metadata": {},
   "source": [
    "***\n",
    "$\\mathbf{\\text{Shape Index}}$<br>\n",
    "***\n",
    "The shape index is a measure of how compact the shape is compared to a circle with the same area. The shape index is calculated for the entire protected area and the land area.\n",
    "\n",
    "- $P$ = perimeter\n",
    "- $r$ = radius\n",
    "- $A$ = area\n",
    "\n",
    "\n",
    "**Shape Index:**&emsp;      $SI = \\frac{P}{2\\pi r}$\n",
    "\n",
    "**Radius:**&emsp; $r = \\sqrt{\\frac{A}{\\pi}}$\n",
    "\n",
    "- SI = 1, shape is a perfect circle\n",
    "- SI > 1, shape is less compact than a circle\n",
    "- SI < 1, is not possible "
   ]
  },
  {
   "cell_type": "code",
   "execution_count": null,
   "metadata": {},
   "outputs": [],
   "source": [
    "tbl_havland = \"norge_hav_land_n50\""
   ]
  },
  {
   "cell_type": "code",
   "execution_count": null,
   "metadata": {},
   "outputs": [],
   "source": [
    "if statistical_zone == \"norge\" or statistical_zone == \"region_2024\":\n",
    "    # print first 5 rows of the table statistical_zone\n",
    "    con = duckdb.connect(db_path)\n",
    "    #spatial\n",
    "    con.install_extension('spatial')\n",
    "    con.load_extension('spatial')\n",
    "    \n",
    "    # to dataframe\n",
    "    df = con.execute(f\"SELECT ST_AsText(geom) as geometry, * FROM {tbl_study_area}\").fetchdf()\n",
    "\n",
    "    # drop \"geom\"\n",
    "    df = df.drop(columns=[\"geom\"])\n",
    "\n",
    "    # Convert the geom column to gpd GeoDataFrame\n",
    "    df['geometry'] = df['geometry'].apply(wkt.loads)\n",
    "\n",
    "    # to gpd\n",
    "    gdf = gpd.GeoDataFrame(df, geometry='geometry')\n",
    "    print(f\"Number of unique ids: {gdf['identifikasjon_lokalId'].nunique()}\")\n",
    "\n",
    "\n",
    "    display(gdf)\n",
    "        \n",
    "    # quite notebook\n",
    "    # Export GDF to file \n",
    "    filepath = os.path.join(data_path, \"processed\", \"vern_og_bevaring\")\n",
    "    gdf.crs = \"EPSG:25833\"\n",
    "    # Write to existing .geopackage\n",
    "    gdf.to_file(os.path.join(filepath + '.gpkg'), driver='GPKG', layer=f'{statistical_zone}_overlapp', mode='w')\n",
    "\n",
    "    # gdf to df and remove geom\n",
    "    df = gdf.drop(columns=[\"geometry\"])\n",
    "    # Write to .csv\n",
    "    df.to_csv(os.path.join(data_path, \"processed\", f'{statistical_zone}_overlapp.csv'))\n",
    "    quit()"
   ]
  },
  {
   "cell_type": "code",
   "execution_count": null,
   "metadata": {},
   "outputs": [],
   "source": [
    "from py_scripts.my_duckdb import *"
   ]
  },
  {
   "cell_type": "code",
   "execution_count": null,
   "metadata": {},
   "outputs": [],
   "source": [
    "if run_shape_index:\n",
    "    # create two new tables with only terrestrial part and marine part, respectively.\n",
    "    remove_table(db_path, sz_land)\n",
    "    remove_table(db_path, sz_sea)\n",
    "    remove_table(db_path, f\"{sz_land}_tmp1\")\n",
    "    remove_table(db_path, f\"{sz_sea}_tmp1\")\n",
    "    extract_overlap_geom(db_path, id, tbl_havland, \"objtype\", \"hav\", tbl_study_area, f\"{sz_sea}_tmp1\", f\"{sz_land}_tmp1\")"
   ]
  },
  {
   "cell_type": "code",
   "execution_count": null,
   "metadata": {},
   "outputs": [],
   "source": [
    "if run_shape_index:\n",
    "\n",
    "    # remove slivers (lines/points) from the tables\n",
    "    remove_table(db_path, f\"{sz_land}_tmp2\")\n",
    "    remove_table(db_path, f\"{sz_sea}_tmp2\")\n",
    "    delete_lines_points(db_path, f\"{sz_land}_tmp1\", f\"{sz_land}_tmp2\")\n",
    "    delete_lines_points(db_path, f\"{sz_sea}_tmp1\", f\"{sz_sea}_tmp2\")\n",
    "\n",
    "    # to multipolygon\n",
    "    remove_table(db_path, sz_land)\n",
    "    remove_table(db_path, sz_sea)\n",
    "    group_to_multipolygon(db_path, f\"{sz_land}_tmp2\", sz_land, id)\n",
    "    group_to_multipolygon(db_path, f\"{sz_sea}_tmp2\", sz_sea, id)"
   ]
  },
  {
   "cell_type": "code",
   "execution_count": null,
   "metadata": {},
   "outputs": [],
   "source": [
    "dict_geom = {\n",
    "    tbl_study_area: (\"areal_m2\", \"omkrets_m\", \"formindeks\"),\n",
    "    sz_land: (\"landareal_m2\", \"landomkrets_m\", \"land_formindeks\"),\n",
    "    sz_sea: (\"sjoareal_m2\", \"sjoomkrets_m\", \"sjo_formindeks\"),\n",
    "}\n",
    "\n",
    "for key, value in dict_geom.items():\n",
    "    \n",
    "    # areal\n",
    "    #remove_field(db_path, key, \"areal_not_grouped\")\n",
    "    #geom_area(db_path, key, \"geom\", \"areal_not_grouped\")\n",
    "    \n",
    "    # areal by ID\n",
    "    remove_field(db_path, key, value[0])\n",
    "    geom_area_byID(db_path, key, \"identifikasjon_lokalId\", \"geom\", value[0])\n",
    "    \n",
    "    # omkrets\n",
    "    #remove_field(db_path, key, \"omkrets_not_grouped\")\n",
    "    #geom_peri(db_path, key, \"geom\", \"omkrets_not_grouped\")\n",
    "    \n",
    "    # omkrets by ID\n",
    "    remove_field(db_path, key, value[1])\n",
    "    geom_peri_byID(db_path, key, \"identifikasjon_lokalId\", \"geom\", value[1])\n",
    "    \n",
    "    # formindeks\n",
    "    #remove_field(db_path, key, \"formindeks_not_grouped\")\n",
    "    #geom_index(db_path, key, \"geom\", \"formindeks_not_grouped\")\n",
    "    \n",
    "    # formindeks by ID\n",
    "    remove_field(db_path, key, value[2])\n",
    "    geom_index_byID(db_path, key, \"identifikasjon_lokalId\", \"geom\", value[2])\n"
   ]
  },
  {
   "cell_type": "code",
   "execution_count": null,
   "metadata": {},
   "outputs": [],
   "source": [
    "con = duckdb.connect(db_path)\n",
    "con.install_extension('spatial')\n",
    "con.load_extension('spatial')"
   ]
  },
  {
   "cell_type": "code",
   "execution_count": null,
   "metadata": {},
   "outputs": [],
   "source": [
    "con.sql(\"SHOW TABLES;\")"
   ]
  },
  {
   "cell_type": "code",
   "execution_count": null,
   "metadata": {},
   "outputs": [],
   "source": [
    "con.sql(f\"SELECT * FROM {sz_land} LIMIT 5\")"
   ]
  },
  {
   "cell_type": "code",
   "execution_count": null,
   "metadata": {},
   "outputs": [],
   "source": [
    "con.sql(f\"SELECT * FROM {sz_sea} LIMIT 5\")"
   ]
  },
  {
   "cell_type": "markdown",
   "metadata": {},
   "source": [
    "**Export to Land and Sea Geometories to GDF and GPKG-layer**"
   ]
  },
  {
   "cell_type": "code",
   "execution_count": null,
   "metadata": {},
   "outputs": [],
   "source": [
    "# to dataframe\n",
    "df_land = con.execute(f\"SELECT ST_AsText(geom) as geometry, * FROM {sz_land}\").fetchdf()\n",
    "\n",
    "# drop \"geom\"\n",
    "df_land = df_land.drop(columns=[\"geom\"])\n",
    "\n",
    "# Convert the geom column to gpd GeoDataFrame\n",
    "df_land['geometry'] = df_land['geometry'].apply(wkt.loads)\n",
    "\n",
    "# to gpd\n",
    "gdf_land = gpd.GeoDataFrame(df_land, geometry='geometry')\n",
    "print(f\"Number of unique ids: {df_land['identifikasjon_lokalId'].nunique()}\")\n",
    "\n",
    "display(gdf_land.head())\n",
    "\n",
    "# Export GDF to file \n",
    "filepath = os.path.join(data_path, \"processed\", \"vern_og_bevaring\")\n",
    "gdf_land.crs = \"EPSG:25833\"\n",
    "# Write to existing .geopackage\n",
    "gdf_land.to_file(os.path.join(filepath + '.gpkg'), driver='GPKG', layer=sz_land, mode='w')\n"
   ]
  },
  {
   "cell_type": "code",
   "execution_count": null,
   "metadata": {},
   "outputs": [],
   "source": [
    "# to dataframe\n",
    "df_sjo = con.execute(f\"\"\"\n",
    "    SELECT ST_AsText(geom) as geometry, * \n",
    "    FROM {sz_sea}\n",
    "    WHERE ST_GeometryType(geom) IN ('POLYGON', 'MULTIPOLYGON')\n",
    "\"\"\").fetchdf()\n",
    "\n",
    "# delete POLYGON EMPTY\n",
    "df_sjo = df_sjo[df_sjo['geometry'] != \"POLYGON EMPTY\"]\n",
    "\n",
    "# drop \"geom\"\n",
    "df_sjo = df_sjo.drop(columns=[\"geom\"])\n",
    "\n",
    "# Convert the geom column to gpd GeoDataFrame\n",
    "df_sjo['geometry'] = df_sjo['geometry'].apply(wkt.loads)\n",
    "\n",
    "# to gpd\n",
    "gdf_sjo = gpd.GeoDataFrame(df_sjo, geometry='geometry')\n",
    "print(f\"Number of unique ids: {gdf_sjo['identifikasjon_lokalId'].nunique()}\")\n",
    "\n",
    "display(gdf_sjo)\n",
    "\n",
    "# Export GDF to file \n",
    "filepath = os.path.join(data_path, \"processed\", \"vern_og_bevaring\")\n",
    "gdf_sjo.crs = \"EPSG:25833\"\n",
    "# Write to existing .geopackage\n",
    "gdf_sjo.to_file(os.path.join(filepath + '.gpkg'), driver='GPKG', layer=sz_sea, mode='w')"
   ]
  },
  {
   "cell_type": "code",
   "execution_count": null,
   "metadata": {},
   "outputs": [],
   "source": [
    "# drop geometry column in duckdb and keep only unique ids in table\n",
    "\n",
    "# drop geom column\n",
    "remove_field(db_path, sz_land, \"geom\")\n",
    "remove_field(db_path, sz_sea, \"geom\")\n",
    "\n",
    "# drop duplicates \n",
    "remove_duplicates(db_path, sz_land, \"identifikasjon_lokalId\")\n",
    "remove_duplicates(db_path, sz_sea, \"identifikasjon_lokalId\")"
   ]
  },
  {
   "cell_type": "code",
   "execution_count": null,
   "metadata": {},
   "outputs": [],
   "source": [
    "# number of rows in the new table\n",
    "con.sql(f\"SELECT COUNT(*) FROM {sz_land}\")"
   ]
  },
  {
   "cell_type": "code",
   "execution_count": null,
   "metadata": {},
   "outputs": [],
   "source": [
    "# number of unique ids in the new table\n",
    "con.sql(f\"SELECT COUNT(DISTINCT identifikasjon_lokalId) FROM {sz_land}\")"
   ]
  },
  {
   "cell_type": "code",
   "execution_count": null,
   "metadata": {},
   "outputs": [],
   "source": [
    "remove_table(db_path, sz_land_sea)\n",
    "join_tables_create_new(\n",
    "    db_path, \n",
    "    tbl1=sz_land,\n",
    "    tbl2=sz_sea,\n",
    "    id_field=\"identifikasjon_lokalId\",\n",
    "    new_tbl=sz_land_sea\n",
    ")\n",
    "\n",
    "remove_field(db_path, sz_land_sea, \"identifikasjon_lokalId_1\") \n",
    "con.sql(\"SHOW TABLES;\")"
   ]
  },
  {
   "cell_type": "code",
   "execution_count": null,
   "metadata": {},
   "outputs": [],
   "source": [
    "con.sql(f\"SELECT * FROM {sz_land_sea} LIMIT 5\")"
   ]
  },
  {
   "cell_type": "code",
   "execution_count": null,
   "metadata": {},
   "outputs": [],
   "source": [
    "# number of rows in the new table\n",
    "con.sql(f\"SELECT COUNT(*) FROM {sz_land_sea}\")"
   ]
  },
  {
   "cell_type": "code",
   "execution_count": null,
   "metadata": {},
   "outputs": [],
   "source": [
    "# number of unique ids in the new table\n",
    "con.sql(f\"SELECT COUNT(DISTINCT identifikasjon_lokalId) FROM {sz_land_sea}\")"
   ]
  },
  {
   "cell_type": "code",
   "execution_count": null,
   "metadata": {},
   "outputs": [],
   "source": [
    "remove_table(db_path, sz_land_vars)\n",
    "join_tables_create_new(\n",
    "    db_path, \n",
    "    tbl1=tbl_study_area,\n",
    "    tbl2=sz_land_sea,\n",
    "    id_field=\"identifikasjon_lokalId\",\n",
    "    new_tbl=sz_land_vars\n",
    ")"
   ]
  },
  {
   "cell_type": "code",
   "execution_count": null,
   "metadata": {},
   "outputs": [],
   "source": [
    "con.sql(\"SHOW TABLES;\")"
   ]
  },
  {
   "cell_type": "code",
   "execution_count": null,
   "metadata": {},
   "outputs": [],
   "source": [
    "con.sql(f\"SELECT COUNT(DISTINCT identifikasjon_lokalId) FROM {sz_land_vars}\")"
   ]
  },
  {
   "cell_type": "markdown",
   "metadata": {},
   "source": [
    "### Density of protected areas \n",
    "\n",
    "**Rutenettstatistikk (10x10 km2):**\n",
    "\n",
    "| SSB grid cell | area | Density (land + marine) | Density (land) | \n",
    "| --------------|------|-------------------------|----------------|\n",
    "| *grid_ID* | *grid_areal* | *tetthet_tot_vern* | *tetthet_landvern* | \n",
    "| cell 1| 100 km2 | ||\n",
    "\n",
    "\n",
    "\n"
   ]
  },
  {
   "cell_type": "markdown",
   "metadata": {},
   "source": [
    "***\n",
    "$\\mathbf{\\text{Density}}$<br>\n",
    "***\n",
    "The density of protected area per 10x10km (SSB grid) is calculated by dividing the area of the protected area by 100 km^2.\n",
    "\n",
    "**Density:**&emsp;      $Density = \\frac{A}{100 km^2}$\n",
    "\n"
   ]
  },
  {
   "cell_type": "code",
   "execution_count": null,
   "metadata": {},
   "outputs": [],
   "source": [
    "# Select by region\n",
    "# SUM protected area in region \n",
    "# Area % = SUM(statistical_zone_m2)/(areal_m2) * 100"
   ]
  },
  {
   "cell_type": "markdown",
   "metadata": {},
   "source": [
    "# 3. Export Results \n",
    "**Clean table**"
   ]
  },
  {
   "cell_type": "code",
   "execution_count": null,
   "metadata": {},
   "outputs": [],
   "source": [
    "# if null set to 0\n",
    "con.sql(f\"\"\"\n",
    "    UPDATE {sz_land_vars}\n",
    "    SET sjoareal_m2 = 0, sjoomkrets_m = 0\n",
    "    WHERE sjoareal_m2 IS NULL\n",
    "\"\"\")\n",
    "\n",
    "# if null set to 0\n",
    "con.sql(f\"\"\"\n",
    "    UPDATE {sz_land_vars}\n",
    "    SET landareal_m2 = 0, landomkrets_m = 0\n",
    "    WHERE landareal_m2 IS NULL\n",
    "\"\"\")\n",
    "\n",
    "# remove cols\n",
    "remove_field(db_path, sz_land_vars, \"identifikasjon_lokalId_1\")\n",
    "\n",
    "# print first 5 rows of the table sz_land_vars\n",
    "con.sql(f\"SELECT * FROM {sz_land_vars} LIMIT 5\")"
   ]
  },
  {
   "cell_type": "code",
   "execution_count": null,
   "metadata": {},
   "outputs": [],
   "source": [
    "# to dataframe\n",
    "df = con.execute(f\"SELECT ST_AsText(geom) as geometry, * FROM {sz_land_vars}\").fetchdf()\n",
    "\n",
    "# drop \"geom\"\n",
    "df = df.drop(columns=[\"geom\"])\n",
    "\n",
    "# Convert the geom column to gpd GeoDataFrame\n",
    "df['geometry'] = df['geometry'].apply(wkt.loads)\n",
    "\n",
    "# to gpd\n",
    "gdf = gpd.GeoDataFrame(df, geometry='geometry')\n",
    "print(f\"Number of unique ids: {gdf['identifikasjon_lokalId'].nunique()}\")\n",
    "\n",
    "\n",
    "display(gdf)"
   ]
  },
  {
   "cell_type": "code",
   "execution_count": null,
   "metadata": {},
   "outputs": [],
   "source": [
    "# Export GDF to file \n",
    "filepath = os.path.join(data_path, \"processed\", \"vern_og_bevaring\")\n",
    "gdf.crs = \"EPSG:25833\"\n",
    "# Write to existing .geopackage\n",
    "gdf.to_file(os.path.join(filepath + '.gpkg'), driver='GPKG', layer=sz_land_vars, mode='w')\n"
   ]
  },
  {
   "cell_type": "code",
   "execution_count": null,
   "metadata": {},
   "outputs": [],
   "source": [
    "# gdf to df and remove geom\n",
    "df = gdf.drop(columns=[\"geometry\"])\n",
    "# Write to .csv\n",
    "df.to_csv(os.path.join(data_path, \"processed\", f'{statistical_zone}_overlapp.csv'))"
   ]
  },
  {
   "cell_type": "code",
   "execution_count": null,
   "metadata": {},
   "outputs": [],
   "source": [
    "quit()"
   ]
  },
  {
   "cell_type": "markdown",
   "metadata": {},
   "source": [
    "**Remove temporary tables in duckDB**"
   ]
  },
  {
   "cell_type": "code",
   "execution_count": null,
   "metadata": {},
   "outputs": [],
   "source": [
    "tables = [\"vern_land_tmp1\", \"vern_land_tmp2\", \"vern_sjo_tmp1\", \"vern_sjo_tmp2\"]\n",
    "#[remove_table(db_path, tbl) for tbl in tables]"
   ]
  }
 ],
 "metadata": {
  "kernelspec": {
   "display_name": "Python 3 (ipykernel)",
   "language": "python",
   "name": "python3"
  },
  "language_info": {
   "codemirror_mode": {
    "name": "ipython",
    "version": 3
   },
   "file_extension": ".py",
   "mimetype": "text/x-python",
   "name": "python",
   "nbconvert_exporter": "python",
   "pygments_lexer": "ipython3",
   "version": "3.10.12"
  }
 },
 "nbformat": 4,
 "nbformat_minor": 2
}
