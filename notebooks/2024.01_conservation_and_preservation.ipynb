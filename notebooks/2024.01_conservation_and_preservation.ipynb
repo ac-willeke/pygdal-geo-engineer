{
 "cells": [
  {
   "cell_type": "markdown",
   "metadata": {},
   "source": [
    "# Area statistics for protected areas in mainland Norway\n",
    "\n",
    "[![colab](https://colab.research.google.com/assets/colab-badge.svg)](https://colab.research.google.com/github/ac-willeke/pygdal-geo-engineer/blob/main/notebooks/2024.01_conservation_and_preservation.ipynb) [![github](https://img.shields.io/badge/GitHub-View%20on%20GitHub-blue?logo=github)](https://github.com/ac-willeke/pygdal-geo-engineer/blob/main/notebooks/2024.01_conservation_and_preservation.ipynb)\n",
    "\n",
    "**Author**: Willeke A'Campo\n",
    "\n",
    "**Description:** This notebook calculates area statistics for protected areas in mainland Norway. Area statistics are calculated for the datasetes **Verneområder** og **Foreslatte verneområder** from the Norwegian Environment Agency. \n",
    "\n",
    "The area statistics can be divided in three groups:\n",
    "\n",
    "1. Area variables for the protected areas:\n",
    "    - Area (terrestrial and marine)\n",
    "    - Perimeter (terrestrial and marine)\n",
    "    - Land area (terrestrial)\n",
    "    - Perimeter land area (terrestrial)\n",
    "\n",
    "2. Overlay statistics for the protected area and the following datasets:\n",
    "    - AR50 - Bonitet\n",
    "        - Area proportion of land cover quality classes \n",
    "    - Bioklimatiske soner\n",
    "        - Area proportion of bioclimatic zone classes\n",
    "    - Infrastrukturindeks: \n",
    "        - Mean value of infrastructure index per protected area \n",
    "        - Area proportion of infrastructure index classes\n",
    "    - Høydelag\n",
    "        - Area proportion of elevation classes \n",
    "\n",
    "3. Spatial indices for the protected areas:\n",
    "    - Density of protected area per 10x10km (SSB grid)\n",
    "    - Shape Index for each protected area (land + marine)\n",
    "    - Shape index for each protected area (land)\n",
    "\n",
    "\n",
    "\n",
    "\n"
   ]
  },
  {
   "cell_type": "code",
   "execution_count": 7,
   "metadata": {},
   "outputs": [],
   "source": [
    "import os \n",
    "from osgeo import gdal\n",
    "from pathlib import Path\n",
    "\n",
    "from shapely.geometry import box\n",
    "import geopandas as gpd\n",
    "\n",
    "# mapping libraries\n",
    "# https://leafmap.org/faq/#how-to-use-a-specific-plotting-backend\n",
    "import leafmap.foliumap as leafmap"
   ]
  },
  {
   "cell_type": "code",
   "execution_count": 12,
   "metadata": {},
   "outputs": [
    {
     "name": "stdout",
     "output_type": "stream",
     "text": [
      "Gdal Version: 3.6.3 \n",
      "Project Path: /workspaces/pygdal-geo-engineer\n",
      "Path to shell scripts: /workspaces/pygdal-geo-engineer/src/shell\n",
      "Path to python scripts: /workspaces/pygdal-geo-engineer/src/python\n",
      "Path to data: /workspaces/pygdal-geo-engineer/data\n"
     ]
    }
   ],
   "source": [
    "project_path= Path.cwd().parents[0]\n",
    "shell_path= os.path.join(project_path, \"src\", \"shell\")\n",
    "python_path= os.path.join(project_path, \"src\", \"python\")\n",
    "data_path = os.path.join(project_path, \"data\")\n",
    "\n",
    "print(f\"Gdal Version: {gdal.__version__} \")\n",
    "print(f\"Project Path: {project_path}\")\n",
    "print(f\"Path to shell scripts: {shell_path}\")\n",
    "print(f\"Path to python scripts: {python_path}\")\n",
    "print(f\"Path to data: {data_path}\")"
   ]
  },
  {
   "cell_type": "code",
   "execution_count": 9,
   "metadata": {},
   "outputs": [],
   "source": [
    "# import local scripts\n",
    "import sys \n",
    "sys.path.append(python_path)\n",
    "\n",
    "from ogr_utils import import_gpkg, print_layer_schema"
   ]
  },
  {
   "cell_type": "markdown",
   "metadata": {},
   "source": [
    "## Import Data"
   ]
  },
  {
   "cell_type": "markdown",
   "metadata": {},
   "source": [
    "Get the data and import into geopackages `vern_25833.gpkg` and `bevaring_25833.gpkg` using ogr2ogr.\n",
    "\n",
    "```python\n",
    "# change path to data folder\n",
    "os.chdir(os.path.join(data_path, \"raw\"))\n",
    "print(f\"Download data to: {os.getcwd()}\")\n",
    "```\n",
    "\n",
    "```bash\n",
    "# ArcGIS REST: Naturvern (02.2024)\n",
    "ogr2ogr -f \"GPKG\" -t_srs EPSG:25833 -nln naturvernomrade -nlt MULTIPOLYGON vern_25833.gpkg \"https://kart.miljodirektoratet.no/arcgis/rest/services/vern/mapserver/0/query?where=1%3D1&outfields=*&f=json&resultRecordCount=1\"\n",
    "\n",
    "# ArcGIS REST: Foreslåtte verneområder (02.2024)\n",
    "ogr2ogr -f \"GPKG\" -t_srs EPSG:25833 -nln foreslatt_vern -nlt MULTIPOLYGON vern_25833.gpkg \"https://kart.miljodirektoratet.no/arcgis/rest/services/vern/mapserver/4/query?where=1%3D1&outfields=*&f=json&resultRecordCount=1\"\n",
    "\n",
    "# AR50 - 2022 \n",
    "# Stored on NINA's server /GeoSpatialData\n",
    "\n",
    "# Bioklima\n",
    "# Received from V. Bakkestuen (NINA)\n",
    "\n",
    "# SSB grid\n",
    "curl -o Ruter_10KM_norge.zip \"https://www.ssb.no/natur-og-miljo/_attachment/375082?_ts=1685c0e69b8\"\n",
    "unzip Ruter_10KM_norge.zip\n",
    "\n",
    "# Fylkerområder\n",
    "# Stored on NINA's server /GeoSpatialData\n",
    "\n",
    "# Infrastruktur\n",
    "# Received from V. Bakkestuen (NINA)\n",
    "```"
   ]
  },
  {
   "cell_type": "markdown",
   "metadata": {},
   "source": [
    "Downloaded datasets are stored in the `/data` folder:\n",
    "\n",
    "**vern_25833.gpkg** contains the following layers:\n",
    "| Layer | Dataset Name | Description | Year | Source |\n",
    "|-------| ------------ | ----------- | ---- | ------ |\n",
    "| naturvernomrade | Naturvernområder| Nature protected areas | 2024 | [Miljødirektoratet](https://kartkatalog.miljodirektoratet.no/Dataset/Details/0) |\n",
    "| foreslatt_vern | Foreslåtte naturvernområder | Planned nature protected areas | 2024 | [Miljødirektoratet](https://kartkatalog.miljodirektoratet.no/Dataset/Details/1)| \n",
    "\n",
    "**bevaring_25833.gpkg** contains the following layers:\n",
    "|Layer| Dataset Name | Description | Year | Source |\n",
    "|-----| ------------ | ----------- | ---- | ------ |\n",
    "| ar50_2022 | AR50 | Land cover classes | 2022 | [NIBIO](https://kart8.nibio.no/nedlasting/dashboard) |\n",
    "| bioklima_soner_2017 | Bioklimatiske soner | Bioclimatic zones | 2017 | [Artsdatabanken](https://data.artsdatabanken.no/Natur_i_Norge/Natursystem/Beskrivelsessystem/Regional_naturvariasjon/Bioklimatisk_sone) |\n",
    "\n",
    "**other files**\n",
    "\n",
    "| Filename | Dataset Name | Description | Year | Source |\n",
    "|----------| ------------ | ----------- | ---- | ------ |\n",
    "| ssb_grid_5km.geojson | SSB rutenett (5x5 km)| Grid for Norway | 2024 | [SSB](https://kart.ssb.no/) |\n",
    "| fylker_2024.geojson | Fylker, 2024 | Provincial Boundaries | 2024 | [SSB](https://www.ssb.no/en/kart/griddata) |\n",
    "| Infra25m.tif | Infrastrukturindeks | Infrastructure index (25m)| 2024 | Internal NINA datasett |"
   ]
  },
  {
   "cell_type": "code",
   "execution_count": 29,
   "metadata": {},
   "outputs": [
    {
     "name": "stdout",
     "output_type": "stream",
     "text": [
      "/workspaces/pygdal-geo-engineer/data\n",
      "GDAL 3.6.3, released 2023/03/07\n"
     ]
    },
    {
     "name": "stdout",
     "output_type": "stream",
     "text": [
      "Input: vern_25833.gpkg\n",
      "Process: logging info and writing metadata\n",
      "Logfile: reproject.log\n",
      "Metadata: metadata.txt\n"
     ]
    }
   ],
   "source": [
    "# run shell scripts from /src/shell\n",
    "os.chdir(shell_path)\n",
    "\n",
    "input_file = \"vern_25833.gpkg\"\n",
    "print(data_path)\n",
    "\n",
    "! gdalinfo --version\n",
    "! chmod +x gdal_gpkg-info.sh\n",
    "! ./gdal_gpkg-info.sh {data_path} {input_file}"
   ]
  },
  {
   "cell_type": "markdown",
   "metadata": {},
   "source": [
    "## Data Preparation\n",
    "\n",
    "### Case Study | Hjerkinn, Dovrefjell\n",
    "\n",
    "In this notebook we use Hjerkinn as example site to follow along the analysis steps on a map. Note that the analysis is performed for all protected areas in mainland Norway. \n",
    "\n",
    "https://ipyleaflet.readthedocs.io/en/latest/installation/index.html#using-pip \n"
   ]
  },
  {
   "cell_type": "code",
   "execution_count": 53,
   "metadata": {},
   "outputs": [
    {
     "data": {
      "text/html": [
       "<iframe srcdoc=\"&lt;!DOCTYPE html&gt;\n",
       "&lt;html&gt;\n",
       "&lt;head&gt;\n",
       "    \n",
       "    &lt;meta http-equiv=&quot;content-type&quot; content=&quot;text/html; charset=UTF-8&quot; /&gt;\n",
       "    \n",
       "        &lt;script&gt;\n",
       "            L_NO_TOUCH = false;\n",
       "            L_DISABLE_3D = false;\n",
       "        &lt;/script&gt;\n",
       "    \n",
       "    &lt;style&gt;html, body {width: 100%;height: 100%;margin: 0;padding: 0;}&lt;/style&gt;\n",
       "    &lt;style&gt;#map {position:absolute;top:0;bottom:0;right:0;left:0;}&lt;/style&gt;\n",
       "    &lt;script src=&quot;https://cdn.jsdelivr.net/npm/leaflet@1.9.3/dist/leaflet.js&quot;&gt;&lt;/script&gt;\n",
       "    &lt;script src=&quot;https://code.jquery.com/jquery-3.7.1.min.js&quot;&gt;&lt;/script&gt;\n",
       "    &lt;script src=&quot;https://cdn.jsdelivr.net/npm/bootstrap@5.2.2/dist/js/bootstrap.bundle.min.js&quot;&gt;&lt;/script&gt;\n",
       "    &lt;script src=&quot;https://cdnjs.cloudflare.com/ajax/libs/Leaflet.awesome-markers/2.0.2/leaflet.awesome-markers.js&quot;&gt;&lt;/script&gt;\n",
       "    &lt;link rel=&quot;stylesheet&quot; href=&quot;https://cdn.jsdelivr.net/npm/leaflet@1.9.3/dist/leaflet.css&quot;/&gt;\n",
       "    &lt;link rel=&quot;stylesheet&quot; href=&quot;https://cdn.jsdelivr.net/npm/bootstrap@5.2.2/dist/css/bootstrap.min.css&quot;/&gt;\n",
       "    &lt;link rel=&quot;stylesheet&quot; href=&quot;https://netdna.bootstrapcdn.com/bootstrap/3.0.0/css/bootstrap.min.css&quot;/&gt;\n",
       "    &lt;link rel=&quot;stylesheet&quot; href=&quot;https://cdn.jsdelivr.net/npm/@fortawesome/fontawesome-free@6.2.0/css/all.min.css&quot;/&gt;\n",
       "    &lt;link rel=&quot;stylesheet&quot; href=&quot;https://cdnjs.cloudflare.com/ajax/libs/Leaflet.awesome-markers/2.0.2/leaflet.awesome-markers.css&quot;/&gt;\n",
       "    &lt;link rel=&quot;stylesheet&quot; href=&quot;https://cdn.jsdelivr.net/gh/python-visualization/folium/folium/templates/leaflet.awesome.rotate.min.css&quot;/&gt;\n",
       "    \n",
       "            &lt;meta name=&quot;viewport&quot; content=&quot;width=device-width,\n",
       "                initial-scale=1.0, maximum-scale=1.0, user-scalable=no&quot; /&gt;\n",
       "            &lt;style&gt;\n",
       "                #map_429ebffdb9c40434e83d18d8729ed3f0 {\n",
       "                    position: relative;\n",
       "                    width: 100.0%;\n",
       "                    height: 100.0%;\n",
       "                    left: 0.0%;\n",
       "                    top: 0.0%;\n",
       "                }\n",
       "                .leaflet-container { font-size: 1rem; }\n",
       "            &lt;/style&gt;\n",
       "        \n",
       "    &lt;script src=&quot;https://cdn.jsdelivr.net/npm/leaflet.fullscreen@3.0.0/Control.FullScreen.min.js&quot;&gt;&lt;/script&gt;\n",
       "    &lt;link rel=&quot;stylesheet&quot; href=&quot;https://cdn.jsdelivr.net/npm/leaflet.fullscreen@3.0.0/Control.FullScreen.css&quot;/&gt;\n",
       "    &lt;script src=&quot;https://cdnjs.cloudflare.com/ajax/libs/leaflet.draw/1.0.2/leaflet.draw.js&quot;&gt;&lt;/script&gt;\n",
       "    &lt;link rel=&quot;stylesheet&quot; href=&quot;https://cdnjs.cloudflare.com/ajax/libs/leaflet.draw/1.0.2/leaflet.draw.css&quot;/&gt;\n",
       "    &lt;script src=&quot;https://cdn.jsdelivr.net/gh/ljagis/leaflet-measure@2.1.7/dist/leaflet-measure.min.js&quot;&gt;&lt;/script&gt;\n",
       "    &lt;link rel=&quot;stylesheet&quot; href=&quot;https://cdn.jsdelivr.net/gh/ljagis/leaflet-measure@2.1.7/dist/leaflet-measure.min.css&quot;/&gt;\n",
       "    &lt;script src=&quot;https://unpkg.com/leaflet-control-geocoder/dist/Control.Geocoder.js&quot;&gt;&lt;/script&gt;\n",
       "    &lt;link rel=&quot;stylesheet&quot; href=&quot;https://unpkg.com/leaflet-control-geocoder/dist/Control.Geocoder.css&quot;/&gt;\n",
       "&lt;/head&gt;\n",
       "&lt;body&gt;\n",
       "    \n",
       "    \n",
       "            &lt;div class=&quot;folium-map&quot; id=&quot;map_429ebffdb9c40434e83d18d8729ed3f0&quot; &gt;&lt;/div&gt;\n",
       "        \n",
       "&lt;/body&gt;\n",
       "&lt;script&gt;\n",
       "    \n",
       "    \n",
       "            var map_429ebffdb9c40434e83d18d8729ed3f0 = L.map(\n",
       "                &quot;map_429ebffdb9c40434e83d18d8729ed3f0&quot;,\n",
       "                {\n",
       "                    center: [62.223207, 9.550195],\n",
       "                    crs: L.CRS.EPSG3857,\n",
       "                    maxBounds: [[-90, -180], [90, 180]],\n",
       "                    zoom: 13,\n",
       "                    zoomControl: true,\n",
       "                    preferCanvas: false,\n",
       "                    drawExport: false,\n",
       "                    layersControl: true,\n",
       "                }\n",
       "            );\n",
       "            L.control.scale().addTo(map_429ebffdb9c40434e83d18d8729ed3f0);\n",
       "\n",
       "            \n",
       "\n",
       "        \n",
       "    \n",
       "            var tile_layer_cf54ac89ee264e1e93d366fa7dc7c3d4 = L.tileLayer(\n",
       "                &quot;https://tile.openstreetmap.org/{z}/{x}/{y}.png&quot;,\n",
       "                {&quot;attribution&quot;: &quot;\\u0026copy; \\u003ca href=\\&quot;https://www.openstreetmap.org/copyright\\&quot;\\u003eOpenStreetMap\\u003c/a\\u003e contributors&quot;, &quot;detectRetina&quot;: false, &quot;maxNativeZoom&quot;: 19, &quot;maxZoom&quot;: 19, &quot;minZoom&quot;: 8, &quot;noWrap&quot;: false, &quot;opacity&quot;: 1, &quot;subdomains&quot;: &quot;abc&quot;, &quot;tms&quot;: false}\n",
       "            );\n",
       "        \n",
       "    \n",
       "            tile_layer_cf54ac89ee264e1e93d366fa7dc7c3d4.addTo(map_429ebffdb9c40434e83d18d8729ed3f0);\n",
       "        \n",
       "    \n",
       "            L.control.fullscreen(\n",
       "                {&quot;forceSeparateButton&quot;: false, &quot;position&quot;: &quot;topleft&quot;, &quot;title&quot;: &quot;Full Screen&quot;, &quot;titleCancel&quot;: &quot;Exit Full Screen&quot;}\n",
       "            ).addTo(map_429ebffdb9c40434e83d18d8729ed3f0);\n",
       "        \n",
       "    \n",
       "            var options = {\n",
       "              position: &quot;topleft&quot;,\n",
       "              draw: {},\n",
       "              edit: {},\n",
       "            }\n",
       "            // FeatureGroup is to store editable layers.\n",
       "            var drawnItems_draw_control_ab82316655ed0f070ce97f30cc23612d = new L.featureGroup().addTo(\n",
       "                map_429ebffdb9c40434e83d18d8729ed3f0\n",
       "            );\n",
       "            options.edit.featureGroup = drawnItems_draw_control_ab82316655ed0f070ce97f30cc23612d;\n",
       "            var draw_control_ab82316655ed0f070ce97f30cc23612d = new L.Control.Draw(\n",
       "                options\n",
       "            ).addTo( map_429ebffdb9c40434e83d18d8729ed3f0 );\n",
       "            map_429ebffdb9c40434e83d18d8729ed3f0.on(L.Draw.Event.CREATED, function(e) {\n",
       "                var layer = e.layer,\n",
       "                    type = e.layerType;\n",
       "                var coords = JSON.stringify(layer.toGeoJSON());\n",
       "                layer.on(&#x27;click&#x27;, function() {\n",
       "                    alert(coords);\n",
       "                    console.log(coords);\n",
       "                });\n",
       "                drawnItems_draw_control_ab82316655ed0f070ce97f30cc23612d.addLayer(layer);\n",
       "             });\n",
       "            map_429ebffdb9c40434e83d18d8729ed3f0.on(&#x27;draw:created&#x27;, function(e) {\n",
       "                drawnItems_draw_control_ab82316655ed0f070ce97f30cc23612d.addLayer(e.layer);\n",
       "            });\n",
       "            \n",
       "        \n",
       "    \n",
       "            var measure_control_f7642f1051db18924c0d19e3e5ce0853 = new L.Control.Measure(\n",
       "                {&quot;position&quot;: &quot;bottomleft&quot;, &quot;primaryAreaUnit&quot;: &quot;sqmeters&quot;, &quot;primaryLengthUnit&quot;: &quot;meters&quot;, &quot;secondaryAreaUnit&quot;: &quot;acres&quot;, &quot;secondaryLengthUnit&quot;: &quot;miles&quot;});\n",
       "            map_429ebffdb9c40434e83d18d8729ed3f0.addControl(measure_control_f7642f1051db18924c0d19e3e5ce0853);\n",
       "\n",
       "            // Workaround for using this plugin with Leaflet&gt;=1.8.0\n",
       "            // https://github.com/ljagis/leaflet-measure/issues/171\n",
       "            L.Control.Measure.include({\n",
       "                _setCaptureMarkerIcon: function () {\n",
       "                    // disable autopan\n",
       "                    this._captureMarker.options.autoPanOnFocus = false;\n",
       "                    // default function\n",
       "                    this._captureMarker.setIcon(\n",
       "                        L.divIcon({\n",
       "                            iconSize: this._map.getSize().multiplyBy(2)\n",
       "                        })\n",
       "                    );\n",
       "                },\n",
       "            });\n",
       "\n",
       "        \n",
       "    \n",
       "\n",
       "            var geocoderOpts_geocoder_be6778eef69ab1d8cb0261f30a81417a = {&quot;collapsed&quot;: true, &quot;defaultMarkGeocode&quot;: true, &quot;position&quot;: &quot;topleft&quot;, &quot;provider&quot;: &quot;nominatim&quot;, &quot;providerOptions&quot;: {}, &quot;zoom&quot;: 11};\n",
       "\n",
       "            // note: geocoder name should start with lowercase\n",
       "            var geocoderName_geocoder_be6778eef69ab1d8cb0261f30a81417a = geocoderOpts_geocoder_be6778eef69ab1d8cb0261f30a81417a[&quot;provider&quot;];\n",
       "\n",
       "            var customGeocoder_geocoder_be6778eef69ab1d8cb0261f30a81417a = L.Control.Geocoder[ geocoderName_geocoder_be6778eef69ab1d8cb0261f30a81417a ](\n",
       "                geocoderOpts_geocoder_be6778eef69ab1d8cb0261f30a81417a[&#x27;providerOptions&#x27;]\n",
       "            );\n",
       "            geocoderOpts_geocoder_be6778eef69ab1d8cb0261f30a81417a[&quot;geocoder&quot;] = customGeocoder_geocoder_be6778eef69ab1d8cb0261f30a81417a;\n",
       "\n",
       "            L.Control.geocoder(\n",
       "                geocoderOpts_geocoder_be6778eef69ab1d8cb0261f30a81417a\n",
       "            ).on(&#x27;markgeocode&#x27;, function(e) {\n",
       "                var zoom = geocoderOpts_geocoder_be6778eef69ab1d8cb0261f30a81417a[&#x27;zoom&#x27;] || map_429ebffdb9c40434e83d18d8729ed3f0.getZoom();\n",
       "                map_429ebffdb9c40434e83d18d8729ed3f0.setView(e.geocode.center, zoom);\n",
       "            }).addTo(map_429ebffdb9c40434e83d18d8729ed3f0);\n",
       "\n",
       "        \n",
       "    \n",
       "            map_429ebffdb9c40434e83d18d8729ed3f0.fitBounds(\n",
       "                [[62.223207, 9.550195], [62.223207, 9.550195]],\n",
       "                {&quot;maxZoom&quot;: 13}\n",
       "            );\n",
       "        \n",
       "    \n",
       "            var tile_layer_0fe7df65b3ab49191bd1c82557727738 = L.tileLayer(\n",
       "                &quot;https://mt1.google.com/vt/lyrs=s\\u0026x={x}\\u0026y={y}\\u0026z={z}\\u0026key=YOUR-API-KEY&quot;,\n",
       "                {&quot;attribution&quot;: &quot;Google&quot;, &quot;detectRetina&quot;: false, &quot;maxNativeZoom&quot;: 24, &quot;maxZoom&quot;: 24, &quot;minZoom&quot;: 0, &quot;noWrap&quot;: false, &quot;opacity&quot;: 0.7, &quot;subdomains&quot;: &quot;abc&quot;, &quot;tms&quot;: false}\n",
       "            );\n",
       "        \n",
       "    \n",
       "            tile_layer_0fe7df65b3ab49191bd1c82557727738.addTo(map_429ebffdb9c40434e83d18d8729ed3f0);\n",
       "        \n",
       "    \n",
       "            var macro_element_5a436c887a252735bde34b6c6a4db227 = L.tileLayer.wms(\n",
       "                &quot;https://kart.miljodirektoratet.no/arcgis/services/vern/mapserver/WMSServer&quot;,\n",
       "                {&quot;attribution&quot;: &quot;&quot;, &quot;format&quot;: &quot;image/png&quot;, &quot;layers&quot;: &quot;naturvern_klasser_omrade&quot;, &quot;styles&quot;: &quot;&quot;, &quot;transparent&quot;: true, &quot;version&quot;: &quot;1.1.1&quot;, &quot;wmsFormat&quot;: &quot;image/png&quot;}\n",
       "            );\n",
       "        \n",
       "    \n",
       "            macro_element_5a436c887a252735bde34b6c6a4db227.addTo(map_429ebffdb9c40434e83d18d8729ed3f0);\n",
       "        \n",
       "    \n",
       "            var layer_control_f812f4fd84ab2e43f5b1ea1b112e8540_layers = {\n",
       "                base_layers : {\n",
       "                    &quot;openstreetmap&quot; : tile_layer_cf54ac89ee264e1e93d366fa7dc7c3d4,\n",
       "                },\n",
       "                overlays :  {\n",
       "                    &quot;Google Satellite&quot; : tile_layer_0fe7df65b3ab49191bd1c82557727738,\n",
       "                    &quot;naturvern_klasser_omrade&quot; : macro_element_5a436c887a252735bde34b6c6a4db227,\n",
       "                },\n",
       "            };\n",
       "            let layer_control_f812f4fd84ab2e43f5b1ea1b112e8540 = L.control.layers(\n",
       "                layer_control_f812f4fd84ab2e43f5b1ea1b112e8540_layers.base_layers,\n",
       "                layer_control_f812f4fd84ab2e43f5b1ea1b112e8540_layers.overlays,\n",
       "                {&quot;autoZIndex&quot;: true, &quot;collapsed&quot;: true, &quot;position&quot;: &quot;topright&quot;}\n",
       "            ).addTo(map_429ebffdb9c40434e83d18d8729ed3f0);\n",
       "\n",
       "        \n",
       "&lt;/script&gt;\n",
       "&lt;/html&gt;\" width=\"100%\" height=\"600\"style=\"border:none !important;\" \"allowfullscreen\" \"webkitallowfullscreen\" \"mozallowfullscreen\"></iframe>"
      ],
      "text/plain": [
       "<leafmap.foliumap.Map at 0x7f651d5bcac0>"
      ]
     },
     "execution_count": 53,
     "metadata": {},
     "output_type": "execute_result"
    }
   ],
   "source": [
    "# Create a bounding box\n",
    "dovreBB = box(minx=210000.00, miny=6920000.00, maxx=240000.00, maxy=6950000.00)\n",
    "#trondheimBB = box(minx=260520.12, miny=7032142.5, maxx=278587.56, maxy=7045245.27)\n",
    "\n",
    "crs = 'EPSG:25833'\n",
    "\n",
    "gdf_BB = gpd.GeoDataFrame(geometry=[dovreBB])\n",
    "gdf_BB['name'] = 'Dovre_BB'\n",
    "gdf_BB.crs = crs\n",
    "bounds = gdf_BB.bounds.to_numpy().tolist()[0]\n",
    "\n",
    "# Display data on map using leafmap\n",
    "init_location = [62.223207, 9.550195]  # Hjerkinn\n",
    "zoom_start = 13  \n",
    "min_zoom = 8  # keeps user from zooming out too far\n",
    "basemap = leafmap.Map(\n",
    "    location=init_location, \n",
    "    zoom=zoom_start, \n",
    "    min_zoom=min_zoom, \n",
    "    max_bounds=True\n",
    "    )\n",
    "\n",
    "basemap.add_basemap(\"SATELLITE\", opacity=0.7)\n",
    "\n",
    "# add WMS verneområder\n",
    "wms_url =\"https://kart.miljodirektoratet.no/arcgis/services/vern/mapserver/WMSServer\"\n",
    "wms_layer = \"naturvern_klasser_omrade\"\n",
    "wms_name = \"naturvern_klasser_omrade\"\n",
    "basemap.add_wms_layer(\n",
    "    url=wms_url, \n",
    "    layers=wms_layer, \n",
    "    name=wms_name, \n",
    "    wms_format=\"image/png\",\n",
    "    )\n",
    "# add bounding box\n",
    "#basemap.add_gdf(gdf_BB, layer_name=\"Dovre_BB\", fill_color=\"blue\", fill_opacity=0.2, weight=2)\n",
    "\n",
    "basemap"
   ]
  },
  {
   "cell_type": "markdown",
   "metadata": {},
   "source": [
    "### AR50 - Bonitet\n",
    "\n",
    "Translate the Bonitet classes using a lookup table.\n",
    " \n",
    "&emsp; $Bonitet = (artype, artreslag, arskogbon, arjordbr, ardyrkning, arveget)$ "
   ]
  },
  {
   "cell_type": "code",
   "execution_count": null,
   "metadata": {},
   "outputs": [],
   "source": []
  },
  {
   "cell_type": "code",
   "execution_count": null,
   "metadata": {},
   "outputs": [],
   "source": [
    "os.chdir(python_path)\n",
    "\n",
    "from ogr_utils import import_gpkg, print_layer_schema\n",
    "\n",
    "in_gpkg = os.path.join(root, \"bevaring_25833.gpkg\")\n",
    "layer_name = \"org_ar_ar50_flate\"\n",
    "lookup_csv = os.path.join(root, \"AR50_bonitet_lookup.csv\")\n",
    "\n",
    "new_field_name = \"ar50_bonitet\"\n",
    "\n",
    "\n",
    "\n",
    "ds, lyr = import_gpkg(in_gpkg, layer_name, new_field_name)\n",
    "    print_layer_schema(lyr)\n",
    "    lookup_dict = create_lookup_dict(lookup_csv)\n",
    "    reclassify_attribute_values(lyr, lookup_dict)\n",
    "    ds = None\n",
    "    print(\"Done\")"
   ]
  },
  {
   "cell_type": "markdown",
   "metadata": {},
   "source": [
    "### Protected Areas\n",
    "\n",
    "Divide the protected areas into terrestrial and marine areas\n",
    "\n",
    "Bonitet = 17 (Hav) are considered as marine areas, all other areas are considered as terrestrial areas."
   ]
  },
  {
   "cell_type": "markdown",
   "metadata": {},
   "source": [
    "### Infrastructure index\n",
    "\n",
    "- Calculate and display the distribution of the infrastructure index for the whole of norway \n",
    "- Calculate and display the distribution of the infrastructure index per region\n",
    "- Calculate and display the distribution of the infrastructure index per protected area\n",
    "- Define the infrastructure index classes\n"
   ]
  },
  {
   "cell_type": "code",
   "execution_count": null,
   "metadata": {},
   "outputs": [],
   "source": []
  },
  {
   "cell_type": "markdown",
   "metadata": {},
   "source": [
    "### Topographic height\n",
    "\n",
    "Classify the topographic height into 4 classes:\n",
    "- 0-300m\n",
    "- 301-600m\n",
    "- 601-900m\n",
    "- over 900m"
   ]
  },
  {
   "cell_type": "markdown",
   "metadata": {},
   "source": [
    "## Methods\n",
    "### 1. Area variables for protected areas\n",
    "\n",
    "| Protected area | Total area (km2) | Perimeter (km) | Land area (km2) | Perimeter land area (km) |\n",
    "|----------------|------------|----------------|-----------------|-------------------------|\n",
    "| area A         |    *        |                |                 |                         |"
   ]
  },
  {
   "cell_type": "code",
   "execution_count": null,
   "metadata": {},
   "outputs": [],
   "source": []
  },
  {
   "cell_type": "markdown",
   "metadata": {},
   "source": [
    "### 2. Overlay statistics for the protected area and the following datasets:\n",
    "\n",
    "Administrative regions:\n",
    "- Municipalities\n",
    "- Counties\n",
    "- Regions \n",
    "    - **Nord**: Finnmark, Troms, Nordland\n",
    "    - **Midt**: Trøndelag, Møre og Romsdal\n",
    "    - **Sør**: Agder, Vestfold, Telemark\n",
    "    - **Øst**: Østfold, Akershus, Oslo, Innlandet, Buskerud\n",
    "    - **Vest**: Vestland, Rogaland\n",
    "\n",
    "\n",
    "| Protected area | Municipality | County | Region |\n",
    "|----------------|---------|-------|--------|\n",
    "| *NaturvernId*  |*kommune*|*fylke*|*region*|\n",
    "| area A         |         |       |        |"
   ]
  },
  {
   "cell_type": "code",
   "execution_count": null,
   "metadata": {},
   "outputs": [],
   "source": []
  },
  {
   "cell_type": "markdown",
   "metadata": {},
   "source": [
    "\n",
    "\n",
    "**AR50 - Bonitet**\n",
    "\n",
    "| Protected area | Fulldyrka og overflatedyrka jord (%) | Innmarksbeite (%) | Skog, høg og særs høg bonitet (%) | ... |\n",
    "|----------------|--------------------------------------|-------------------|-----------------------------------|-----|\n",
    "| *NaturvernId*  |*AR50_bon_1*|*AR50_bon_2*|*AR50_bon_3*|...|\n",
    "| area A         |                                      |                   |                                   |     |\n"
   ]
  },
  {
   "cell_type": "code",
   "execution_count": null,
   "metadata": {},
   "outputs": [],
   "source": []
  },
  {
   "cell_type": "markdown",
   "metadata": {},
   "source": [
    "**Bioklimatiske soner**\n",
    "\n",
    "| Protected area | Sone 1 (%) | Sone 2 (%) | Sone 3 (%) | ... |\n",
    "|----------------|------------|------------|------------|-----|\n",
    "| *NaturvernId*  |*bioklima_1*|*bioklima_2*|*bioklima_3*|...  |\n",
    "| area A         |            |            |            |     |"
   ]
  },
  {
   "cell_type": "code",
   "execution_count": null,
   "metadata": {},
   "outputs": [],
   "source": []
  },
  {
   "cell_type": "markdown",
   "metadata": {},
   "source": [
    "**Infrastrukturindeks**\n",
    "\n",
    "| Protected area | Mean value | Lav (%) | Middels (%) | Høy (%) | ... |\n",
    "|----------------|------------|---------|-------------|---------|-----|\n",
    "| area A         |            |         |             |         |     |\n"
   ]
  },
  {
   "cell_type": "code",
   "execution_count": null,
   "metadata": {},
   "outputs": [],
   "source": []
  },
  {
   "cell_type": "markdown",
   "metadata": {},
   "source": [
    "**Høydelag**\n",
    "\n",
    "| Protected area | 0-300 m (%) | 301-600 m (%) | 601-900 m (%) | over 900 m (%) |\n",
    "|----------------|-------------|---------------|---------------|----------------|\n",
    "| area A         |             |               |               |                |\n"
   ]
  },
  {
   "cell_type": "code",
   "execution_count": null,
   "metadata": {},
   "outputs": [],
   "source": []
  },
  {
   "cell_type": "markdown",
   "metadata": {},
   "source": [
    "###  3. Spatial indices for the protected areas\n",
    "\n",
    "| Protected area | Density (land + marine) | Density (land) | SI (land + marine) | SI (land) |\n",
    "|----------------|--------------------------|----------------|--------------------|-----------|\n",
    "| area A         |                          |                |                    |           |\n",
    "\n",
    "\n",
    "\n"
   ]
  },
  {
   "cell_type": "code",
   "execution_count": null,
   "metadata": {},
   "outputs": [],
   "source": [
    "# prepare"
   ]
  },
  {
   "cell_type": "markdown",
   "metadata": {},
   "source": [
    "***\n",
    "$\\mathbf{\\text{Density}}$<br>\n",
    "***\n",
    "The density of protected area per 10x10km (SSB grid) is calculated by dividing the area of the protected area by 100 km^2.\n",
    "\n",
    "**Density:**&emsp;      $Density = \\frac{A}{100 km^2}$\n",
    "\n"
   ]
  },
  {
   "cell_type": "code",
   "execution_count": null,
   "metadata": {},
   "outputs": [],
   "source": [
    "# code for density calculation here"
   ]
  },
  {
   "cell_type": "markdown",
   "metadata": {},
   "source": [
    "***\n",
    "$\\mathbf{\\text{Shape Index}}$<br>\n",
    "***\n",
    "The shape index is a measure of how compact the shape is compared to a circle with the same area. The shape index is calculated for the entire protected area and the land area. The shape index is a value between 0 and 1, where 0 is a perfect circle and 1 is a long and narrow shape.\n",
    "\n",
    "- $P$ = perimeter\n",
    "- $r$ = radius\n",
    "- $A$ = area\n",
    "\n",
    "\n",
    "**Shape Index:**&emsp;      $SI = \\frac{P}{2\\pi r}$\n",
    "\n",
    "**Radius:**&emsp; $r = \\sqrt{\\frac{A}{\\pi}}$"
   ]
  },
  {
   "cell_type": "code",
   "execution_count": null,
   "metadata": {},
   "outputs": [],
   "source": [
    "# code for shape index calculation here"
   ]
  }
 ],
 "metadata": {
  "kernelspec": {
   "display_name": "Python 3 (ipykernel)",
   "language": "python",
   "name": "python3"
  },
  "language_info": {
   "codemirror_mode": {
    "name": "ipython",
    "version": 3
   },
   "file_extension": ".py",
   "mimetype": "text/x-python",
   "name": "python",
   "nbconvert_exporter": "python",
   "pygments_lexer": "ipython3",
   "version": "3.10.12"
  }
 },
 "nbformat": 4,
 "nbformat_minor": 2
}
