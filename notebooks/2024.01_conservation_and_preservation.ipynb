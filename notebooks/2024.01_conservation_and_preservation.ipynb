{
 "cells": [
  {
   "cell_type": "markdown",
   "metadata": {},
   "source": [
    "# Area statistics for protected areas in mainland Norway\n",
    "\n",
    "[![colab](https://colab.research.google.com/assets/colab-badge.svg)](https://colab.research.google.com/github/ac-willeke/pygdal-geo-engineer/blob/main/notebooks/2024.01_conservation_and_preservation.ipynb) [![github](https://img.shields.io/badge/GitHub-View%20on%20GitHub-blue?logo=github)](https://github.com/ac-willeke/pygdal-geo-engineer/blob/main/notebooks/2024.01_conservation_and_preservation.ipynb)\n",
    "\n",
    "**Author**: Willeke A'Campo\n",
    "\n",
    "**Description:** This notebook calculates area statistics for protected areas in mainland Norway. Area statistics are calculated for the datasetes **Verneområder** og **Foreslatte verneområder** from the Norwegian Environment Agency. \n",
    "\n",
    "The area statistics can be divided in three groups:\n",
    "\n",
    "1. Area variables for the protected areas:\n",
    "    - Area (terrestrial and marine)\n",
    "    - Perimeter (terrestrial and marine)\n",
    "    - Land area (terrestrial)\n",
    "    - Perimeter land area (terrestrial)\n",
    "\n",
    "2. Overlay statistics for the protected area and the following datasets:\n",
    "    - AR50 - Bonitet\n",
    "        - Area proportion of land cover quality classes \n",
    "    - Bioklimatiske soner\n",
    "        - Area proportion of bioclimatic zone classes\n",
    "    - Infrastrukturindeks: \n",
    "        - Mean value of infrastructure index per protected area \n",
    "        - Area proportion of infrastructure index classes\n",
    "    - Høydelag\n",
    "        - Area proportion of elevation classes \n",
    "\n",
    "3. Spatial indices for the protected areas:\n",
    "    - Density of protected area per 10x10km (SSB grid)\n",
    "    - Shape Index for each protected area (land + marine)\n",
    "    - Shape index for each protected area (land)\n",
    "\n",
    "\n",
    "\n",
    "\n"
   ]
  },
  {
   "cell_type": "code",
   "execution_count": 7,
   "metadata": {},
   "outputs": [],
   "source": [
    "import os \n",
    "from osgeo import gdal\n",
    "from pathlib import Path\n",
    "\n",
    "from shapely.geometry import box\n",
    "import pandas as pd\n",
    "import geopandas as gpd\n",
    "\n",
    "# mapping libraries\n",
    "# https://leafmap.org/faq/#how-to-use-a-specific-plotting-backend\n",
    "import leafmap.foliumap as leafmap"
   ]
  },
  {
   "cell_type": "code",
   "execution_count": 12,
   "metadata": {},
   "outputs": [
    {
     "name": "stdout",
     "output_type": "stream",
     "text": [
      "Gdal Version: 3.6.3 \n",
      "Project Path: /workspaces/pygdal-geo-engineer\n",
      "Path to shell scripts: /workspaces/pygdal-geo-engineer/src/shell\n",
      "Path to python scripts: /workspaces/pygdal-geo-engineer/src/python\n",
      "Path to data: /workspaces/pygdal-geo-engineer/data\n"
     ]
    }
   ],
   "source": [
    "project_path= Path.cwd().parents[0]\n",
    "shell_path= os.path.join(project_path, \"src\", \"shell\")\n",
    "python_path= os.path.join(project_path, \"src\", \"python\")\n",
    "data_path = os.path.join(project_path, \"data\")\n",
    "\n",
    "print(f\"Gdal Version: {gdal.__version__} \")\n",
    "print(f\"Project Path: {project_path}\")\n",
    "print(f\"Path to shell scripts: {shell_path}\")\n",
    "print(f\"Path to python scripts: {python_path}\")\n",
    "print(f\"Path to data: {data_path}\")"
   ]
  },
  {
   "cell_type": "code",
   "execution_count": 9,
   "metadata": {},
   "outputs": [],
   "source": [
    "# import local scripts\n",
    "import sys \n",
    "sys.path.append(python_path)\n",
    "\n",
    "from ogr_utils import import_gpkg, print_layer_schema\n",
    "from lookup import create_lookup_dict, lookup_value"
   ]
  },
  {
   "cell_type": "markdown",
   "metadata": {},
   "source": [
    "## Import Data"
   ]
  },
  {
   "cell_type": "markdown",
   "metadata": {},
   "source": [
    "Get the data and import into geopackages `vern_25833.gpkg` and `bevaring_25833.gpkg` using ogr2ogr.\n",
    "\n",
    "```python\n",
    "# change path to data folder\n",
    "os.chdir(os.path.join(data_path, \"raw\"))\n",
    "print(f\"Download data to: {os.getcwd()}\")\n",
    "```\n",
    "\n",
    "```bash\n",
    "# ArcGIS REST: Naturvern (02.2024)\n",
    "ogr2ogr -f \"GPKG\" -t_srs EPSG:25833 -nln naturvernomrade -nlt MULTIPOLYGON vern_25833.gpkg \"https://kart.miljodirektoratet.no/arcgis/rest/services/vern/mapserver/0/query?where=1%3D1&outfields=*&f=json&resultRecordCount=1\"\n",
    "\n",
    "# ArcGIS REST: Foreslåtte verneområder (02.2024)\n",
    "ogr2ogr -f \"GPKG\" -t_srs EPSG:25833 -nln foreslatt_vern -nlt MULTIPOLYGON vern_25833.gpkg \"https://kart.miljodirektoratet.no/arcgis/rest/services/vern/mapserver/4/query?where=1%3D1&outfields=*&f=json&resultRecordCount=1\"\n",
    "\n",
    "# AR50 - 2022 \n",
    "# Stored on NINA's server /GeoSpatialData\n",
    "\n",
    "# Bioklima\n",
    "# Received from V. Bakkestuen (NINA)\n",
    "\n",
    "# SSB grid\n",
    "curl -o Ruter_10KM_norge.zip \"https://www.ssb.no/natur-og-miljo/_attachment/375082?_ts=1685c0e69b8\"\n",
    "unzip Ruter_10KM_norge.zip\n",
    "\n",
    "# Fylkerområder\n",
    "# Stored on NINA's server /GeoSpatialData\n",
    "\n",
    "# Infrastruktur\n",
    "# Received from V. Bakkestuen (NINA)\n",
    "```"
   ]
  },
  {
   "cell_type": "markdown",
   "metadata": {},
   "source": [
    "Downloaded datasets are stored in the `/data` folder:\n",
    "\n",
    "**vern_25833.gpkg** contains the following layers:\n",
    "| Layer | Dataset Name | Description | Year | Source |\n",
    "|-------| ------------ | ----------- | ---- | ------ |\n",
    "| naturvernomrade | Naturvernområder| Nature protected areas | 2024 | [Miljødirektoratet](https://kartkatalog.miljodirektoratet.no/Dataset/Details/0) |\n",
    "| foreslatt_vern | Foreslåtte naturvernområder | Planned nature protected areas | 2024 | [Miljødirektoratet](https://kartkatalog.miljodirektoratet.no/Dataset/Details/1)| \n",
    "\n",
    "**bevaring_25833.gpkg** contains the following layers:\n",
    "|Layer| Dataset Name | Description | Year | Source |\n",
    "|-----| ------------ | ----------- | ---- | ------ |\n",
    "| ar50_2022 | AR50 | Land cover classes | 2022 | [NIBIO](https://kart8.nibio.no/nedlasting/dashboard) |\n",
    "| bioklima_soner_2017 | Bioklimatiske soner | Bioclimatic zones | 2017 | [Artsdatabanken](https://data.artsdatabanken.no/Natur_i_Norge/Natursystem/Beskrivelsessystem/Regional_naturvariasjon/Bioklimatisk_sone) |\n",
    "\n",
    "**other files**\n",
    "\n",
    "| Filename | Dataset Name | Description | Year | Source |\n",
    "|----------| ------------ | ----------- | ---- | ------ |\n",
    "| ssb_grid_5km.geojson | SSB rutenett (5x5 km)| Grid for Norway | 2024 | [SSB](https://kart.ssb.no/) |\n",
    "| fylker_2024.geojson | Fylker, 2024 | Provincial Boundaries | 2024 | [SSB](https://www.ssb.no/en/kart/griddata) |\n",
    "| Infra25m.tif | Infrastrukturindeks | Infrastructure index (25m)| 2024 | Internal NINA datasett |"
   ]
  },
  {
   "cell_type": "code",
   "execution_count": 29,
   "metadata": {},
   "outputs": [
    {
     "name": "stdout",
     "output_type": "stream",
     "text": [
      "/workspaces/pygdal-geo-engineer/data\n",
      "GDAL 3.6.3, released 2023/03/07\n"
     ]
    },
    {
     "name": "stdout",
     "output_type": "stream",
     "text": [
      "Input: vern_25833.gpkg\n",
      "Process: logging info and writing metadata\n",
      "Logfile: reproject.log\n",
      "Metadata: metadata.txt\n"
     ]
    }
   ],
   "source": [
    "# run shell scripts from /src/shell\n",
    "os.chdir(shell_path)\n",
    "\n",
    "input_file = \"vern_25833.gpkg\"\n",
    "print(data_path)\n",
    "\n",
    "! gdalinfo --version\n",
    "! chmod +x gdal_gpkg-info.sh\n",
    "! ./gdal_gpkg-info.sh {data_path} {input_file}"
   ]
  },
  {
   "cell_type": "markdown",
   "metadata": {},
   "source": [
    "## Data Preparation\n",
    "\n",
    "### Case Study | Hjerkinn, Dovrefjell\n",
    "\n",
    "In this notebook we use Hjerkinn as example site to follow along the analysis steps on a map. Note that the analysis is performed for all protected areas in mainland Norway. \n",
    "\n",
    "https://ipyleaflet.readthedocs.io/en/latest/installation/index.html#using-pip \n"
   ]
  },
  {
   "cell_type": "code",
   "execution_count": null,
   "metadata": {},
   "outputs": [],
   "source": [
    "# Create a bounding box\n",
    "dovreBB = box(minx=210000.00, miny=6920000.00, maxx=240000.00, maxy=6950000.00)\n",
    "#trondheimBB = box(minx=260520.12, miny=7032142.5, maxx=278587.56, maxy=7045245.27)\n",
    "\n",
    "crs = 'EPSG:25833'\n",
    "\n",
    "gdf_BB = gpd.GeoDataFrame(geometry=[dovreBB])\n",
    "gdf_BB['name'] = 'Dovre_BB'\n",
    "gdf_BB.crs = crs\n",
    "bounds = gdf_BB.bounds.to_numpy().tolist()[0]\n",
    "\n",
    "# Display data on map using leafmap\n",
    "init_location = [62.223207, 9.550195]  # Hjerkinn\n",
    "zoom_start = 13  \n",
    "min_zoom = 8  # keeps user from zooming out too far\n",
    "basemap = leafmap.Map(\n",
    "    location=init_location, \n",
    "    zoom=zoom_start, \n",
    "    min_zoom=min_zoom, \n",
    "    max_bounds=True\n",
    "    )\n",
    "\n",
    "# sat background\n",
    "basemap.add_basemap(\"SATELLITE\", opacity=0.7)\n",
    "\n",
    "# add WMS verneområder\n",
    "wms_url =\"https://kart.miljodirektoratet.no/arcgis/services/vern/mapserver/WMSServer\"\n",
    "wms_layer = \"naturvern_klasser_omrade\"\n",
    "wms_name = \"naturvern_klasser_omrade\"\n",
    "basemap.add_wms_layer(\n",
    "    url=wms_url, \n",
    "    layers=wms_layer, \n",
    "    name=wms_name, \n",
    "    wms_format=\"image/png\",\n",
    "    )\n",
    "# add bounding box - Hjerkinn\n",
    "#basemap.add_gdf(gdf_BB, layer_name=\"Dovre_BB\", fill_color=\"blue\", fill_opacity=0.2, weight=2)\n",
    "\n",
    "basemap"
   ]
  },
  {
   "cell_type": "markdown",
   "metadata": {},
   "source": [
    "### AR50 - Bonitet\n",
    "\n",
    "Translate the Bonitet classes using a lookup table.\n",
    " \n",
    "&emsp; $Bonitet = (artype, artreslag, arskogbon, arjordbr, ardyrkning, arveget)$ "
   ]
  },
  {
   "cell_type": "code",
   "execution_count": null,
   "metadata": {},
   "outputs": [],
   "source": [
    "# ar50 layer\n",
    "in_gpkg = os.path.join(data_path, \"bevaring_25833.gpkg\")\n",
    "layer_name = \"ar50_flate\"\n",
    "new_field_name = \"ar50_bonitet\"\n",
    "\n",
    "# import gpkg into ogr object \n",
    "# add field name if it does not exist\n",
    "ds, lyr = import_gpkg(in_gpkg, layer_name, new_field_name)\n",
    "print_layer_schema(lyr)"
   ]
  },
  {
   "cell_type": "code",
   "execution_count": null,
   "metadata": {},
   "outputs": [],
   "source": [
    "# lookup table \n",
    "lookup_csv = os.path.join(data_path, \"AR50_bonitet_lookup.csv\")\n",
    "lookup_df = pd.read_csv(lookup_csv)\n",
    "\n",
    "# rename cols to correspond with AR50 lyr\n",
    "lookup_df.rename(\n",
    "    columns={\n",
    "        \"ARTYPE kode\": \"artype\",\n",
    "        \"ARTRESLAG kode\": \"artreslag\",\n",
    "        \"ARSKOGBON kode\": \"arskogbon\",\n",
    "        \"ARJORDBR kode\": \"arjordbr\",\n",
    "        \"ARDYRKING kode\": \"ardyrking\",\n",
    "        \"ARVEGET kode\": \"arveget\",\n",
    "        \"Bonitet kode\": \"ar50_bonitet\",\n",
    "    },\n",
    "    inplace=True,\n",
    ")\n",
    "\n",
    "# create lookup dict\n",
    "keys = (\n",
    "    \"artype\", \n",
    "    \"artreslag\", \n",
    "    \"arskogbon\", \n",
    "    \"arjordbr\", \n",
    "    \"ardyrkning\", \n",
    "    \"arveget\"\n",
    "    )\n",
    "\n",
    "value= \"ar50_bonitet\"\n",
    "\n",
    "lookup_dict = create_lookup_dict(\n",
    "    lookup_df,\n",
    "    keys=keys,\n",
    "    value=value\n",
    ")\n",
    "\n",
    "# lookup bonitet value\n",
    "lookup_value(\n",
    "    lyr, \n",
    "    lookup_dict, \n",
    "    keys=keys,\n",
    "    value=value\n",
    ")\n",
    "\n",
    "# close OGR object\n",
    "ds = None\n",
    "print(\"Finished looking up Bonitet.\")"
   ]
  },
  {
   "cell_type": "code",
   "execution_count": null,
   "metadata": {},
   "outputs": [],
   "source": [
    "# merge marine areas (hav = 17) and terrestrial areas (all other codes)\n",
    "# create new layer ar50_marine\n",
    "# if ar50_bonitet = 17 --> copy + merge \n",
    "\n",
    "# create new layer ar50_terrestisk\n",
    "# if ar50_bonitet != 17 --> copy + merge "
   ]
  },
  {
   "cell_type": "code",
   "execution_count": null,
   "metadata": {},
   "outputs": [],
   "source": [
    "# plot outline of terrestrial on the map \n"
   ]
  },
  {
   "cell_type": "markdown",
   "metadata": {},
   "source": [
    "### Protected Areas\n",
    "\n",
    "Divide the protected areas into terrestrial and marine areas\n",
    "\n",
    "Bonitet = 17 (Hav) are considered as marine areas, all other areas are considered as terrestrial areas."
   ]
  },
  {
   "cell_type": "code",
   "execution_count": null,
   "metadata": {},
   "outputs": [],
   "source": [
    "\n"
   ]
  },
  {
   "cell_type": "markdown",
   "metadata": {},
   "source": [
    "### Infrastructure index\n",
    "\n",
    "- Calculate and display the distribution of the infrastructure index for the whole of norway \n",
    "- Calculate and display the distribution of the infrastructure index per region\n",
    "- Calculate and display the distribution of the infrastructure index per protected area\n",
    "- Define the infrastructure index classes\n"
   ]
  },
  {
   "cell_type": "code",
   "execution_count": null,
   "metadata": {},
   "outputs": [],
   "source": []
  },
  {
   "cell_type": "markdown",
   "metadata": {},
   "source": [
    "### Topographic height\n",
    "\n",
    "Classify the topographic height into 4 classes:\n",
    "- 0-300m\n",
    "- 301-600m\n",
    "- 601-900m\n",
    "- over 900m"
   ]
  },
  {
   "cell_type": "markdown",
   "metadata": {},
   "source": [
    "## Methods\n",
    "### 1. Geometry variables for protected areas\n",
    "\n",
    "| Protected area | Total area (km2) | Perimeter (km) | Land area (km2) | Perimeter land area (km) |\n",
    "|----------------|------------|----------------|-----------------|-------------------------|\n",
    "| *NaturvernId* | *areal_km2* | *omkrets_km* | *landareal_km2* | *landomkrets_km*|\n",
    "| area A         |    *        |                |                 |                         |"
   ]
  },
  {
   "cell_type": "code",
   "execution_count": null,
   "metadata": {},
   "outputs": [],
   "source": [
    "# calc. landareal = area that overlaps with ar50_terrestrial\n",
    "# calc. marineareal = area that overlaps with ar50_marine"
   ]
  },
  {
   "cell_type": "markdown",
   "metadata": {},
   "source": [
    "***\n",
    "$\\mathbf{\\text{Shape Index}}$<br>\n",
    "***\n",
    "The shape index is a measure of how compact the shape is compared to a circle with the same area. The shape index is calculated for the entire protected area and the land area. The shape index is a value between 0 and 1, where 0 is a perfect circle and 1 is a long and narrow shape.\n",
    "\n",
    "- $P$ = perimeter\n",
    "- $r$ = radius\n",
    "- $A$ = area\n",
    "\n",
    "\n",
    "**Shape Index:**&emsp;      $SI = \\frac{P}{2\\pi r}$\n",
    "\n",
    "**Radius:**&emsp; $r = \\sqrt{\\frac{A}{\\pi}}$"
   ]
  },
  {
   "cell_type": "code",
   "execution_count": null,
   "metadata": {},
   "outputs": [],
   "source": [
    "# calc formindex"
   ]
  },
  {
   "cell_type": "markdown",
   "metadata": {},
   "source": [
    "### 2. Area overlay statistics for the protected area and the following datasets:\n",
    "\n"
   ]
  },
  {
   "cell_type": "markdown",
   "metadata": {},
   "source": [
    "\n",
    "\n",
    "**AR50 - Bonitet**\n",
    "\n",
    "| Protected area | Fulldyrka og overflatedyrka jord (%) | Innmarksbeite (%) | Skog, høg og særs høg bonitet (%) | ... |\n",
    "|----------------|--------------------------------------|-------------------|-----------------------------------|-----|\n",
    "| *NaturvernId*  |*AR50_bon_1*|*AR50_bon_2*|*AR50_bon_3*|...|\n",
    "| area A         |                                      |                   |                                   |     |\n"
   ]
  },
  {
   "cell_type": "code",
   "execution_count": null,
   "metadata": {},
   "outputs": [],
   "source": []
  },
  {
   "cell_type": "markdown",
   "metadata": {},
   "source": [
    "**Bioklimatiske soner**\n",
    "\n",
    "| Protected area | Sone 1 (%) | Sone 2 (%) | Sone 3 (%) | ... |\n",
    "|----------------|------------|------------|------------|-----|\n",
    "| *NaturvernId*  |*bioklima_1*|*bioklima_2*|*bioklima_3*|...  |\n",
    "| area A         |            |            |            |     |"
   ]
  },
  {
   "cell_type": "code",
   "execution_count": null,
   "metadata": {},
   "outputs": [],
   "source": []
  },
  {
   "cell_type": "markdown",
   "metadata": {},
   "source": [
    "**Infrastrukturindeks**\n",
    "\n",
    "| Protected area | Mean value | Lav (%) | Middels (%) | Høy (%) | ... |\n",
    "|----------------|------------|---------|-------------|---------|-----|\n",
    "| area A         |            |         |             |         |     |\n"
   ]
  },
  {
   "cell_type": "code",
   "execution_count": null,
   "metadata": {},
   "outputs": [],
   "source": []
  },
  {
   "cell_type": "markdown",
   "metadata": {},
   "source": [
    "**Høydelag**\n",
    "\n",
    "| Protected area | 0-300 m (%) | 301-600 m (%) | 601-900 m (%) | over 900 m (%) |\n",
    "|----------------|-------------|---------------|---------------|----------------|\n",
    "| area A         |             |               |               |                |\n"
   ]
  },
  {
   "cell_type": "code",
   "execution_count": null,
   "metadata": {},
   "outputs": [],
   "source": []
  },
  {
   "cell_type": "markdown",
   "metadata": {},
   "source": [
    "### 3. Regional Statistics\n"
   ]
  },
  {
   "cell_type": "markdown",
   "metadata": {},
   "source": [
    "Administrative regions:\n",
    "- Municipalities\n",
    "- Counties\n",
    "- Regions \n",
    "    - **Nord**: Finnmark, Troms, Nordland\n",
    "    - **Midt**: Trøndelag, Møre og Romsdal\n",
    "    - **Sør**: Agder, Vestfold, Telemark\n",
    "    - **Øst**: Østfold, Akershus, Oslo, Innlandet, Buskerud\n",
    "    - **Vest**: Vestland, Rogaland\n",
    "\n",
    "\n",
    "| Protected area | Municipality | County | Region |\n",
    "|----------------|---------|-------|--------|\n",
    "| *NaturvernId*  |*kommune*|*fylke*|*region*|\n",
    "| area A         |         |       |        |\n",
    "\n",
    "*Regional datasett*:\n",
    "\n",
    "| Region | Area | Protected Area | Land Protected Area | Marine Protected Area |\n",
    "|--------|------|----------------|---------------------|-----------------------|\n",
    "| *Region* | *areal* | *a_vern* | *a_landvern* | *a_marinvern* |\n",
    "| Nord ||||||\n"
   ]
  },
  {
   "cell_type": "code",
   "execution_count": null,
   "metadata": {},
   "outputs": [],
   "source": []
  },
  {
   "cell_type": "markdown",
   "metadata": {},
   "source": [
    "###  4. Grid Statistics (10x10 km2)\n",
    "\n",
    "**Rutenettstatistikk:**\n",
    "\n",
    "| SSB grid cell | area | Density (land + marine) | Density (land) | \n",
    "| --------------|------|-------------------------|----------------|\n",
    "| *grid_ID* | *grid_areal* | *tetthet_tot_vern* | *tetthet_landvern* | \n",
    "| cell 1| 100 km2 | ||\n",
    "\n",
    "\n",
    "\n"
   ]
  },
  {
   "cell_type": "markdown",
   "metadata": {},
   "source": [
    "***\n",
    "$\\mathbf{\\text{Density}}$<br>\n",
    "***\n",
    "The density of protected area per 10x10km (SSB grid) is calculated by dividing the area of the protected area by 100 km^2.\n",
    "\n",
    "**Density:**&emsp;      $Density = \\frac{A}{100 km^2}$\n",
    "\n"
   ]
  },
  {
   "cell_type": "code",
   "execution_count": null,
   "metadata": {},
   "outputs": [],
   "source": [
    "# code for density calculation here\n",
    "# check land cover fraction notebook\n"
   ]
  }
 ],
 "metadata": {
  "kernelspec": {
   "display_name": "Python 3 (ipykernel)",
   "language": "python",
   "name": "python3"
  },
  "language_info": {
   "codemirror_mode": {
    "name": "ipython",
    "version": 3
   },
   "file_extension": ".py",
   "mimetype": "text/x-python",
   "name": "python",
   "nbconvert_exporter": "python",
   "pygments_lexer": "ipython3",
   "version": "3.10.12"
  }
 },
 "nbformat": 4,
 "nbformat_minor": 2
}
