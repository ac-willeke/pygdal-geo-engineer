{
 "cells": [
  {
   "cell_type": "markdown",
   "metadata": {},
   "source": [
    "# Area statistics for protected areas in mainland Norway\n",
    "\n",
    "[![colab](https://colab.research.google.com/assets/colab-badge.svg)](https://colab.research.google.com/github/ac-willeke/pygdal-geo-engineer/blob/main/notebooks/2024.01_conservation_and_preservation.ipynb) [![github](https://img.shields.io/badge/GitHub-View%20on%20GitHub-blue?logo=github)](https://github.com/ac-willeke/pygdal-geo-engineer/blob/main/notebooks/2024.01_conservation_and_preservation.ipynb)\n",
    "\n",
    "**Author**: Willeke A'Campo\n",
    "\n",
    "**Description:** This notebook calculates area statistics for protected areas in mainland Norway. Area statistics are calculated for the datasetes **Verneområder** og **Foreslatte verneområder** from the Norwegian Environment Agency. \n",
    "\n",
    "The area statistics can be divided in three groups:\n",
    "\n",
    "1. Area variables for the protected areas:\n",
    "    - Area (terrestrial and marine)\n",
    "    - Perimeter (terrestrial and marine)\n",
    "    - Land area (terrestrial)\n",
    "    - Perimeter land area (terrestrial)\n",
    "\n",
    "2. Overlay statistics for the protected area and the following datasets:\n",
    "    - AR50 - Bonitet\n",
    "        - Area proportion of land cover quality classes \n",
    "    - Bioklimatiske soner\n",
    "        - Area proportion of bioclimatic zone classes\n",
    "    - Infrastrukturindeks: \n",
    "        - Mean value of infrastructure index per protected area \n",
    "        - Area proportion of infrastructure index classes\n",
    "    - Høydelag\n",
    "        - Area proportion of elevation classes \n",
    "\n",
    "3. Spatial indices for the protected areas:\n",
    "    - Density of protected area per 10x10km (SSB grid)\n",
    "    - Shape Index for each protected area (land + marine)\n",
    "    - Shape index for each protected area (land)\n",
    "\n",
    "\n",
    "\n",
    "\n"
   ]
  },
  {
   "cell_type": "code",
   "execution_count": null,
   "metadata": {},
   "outputs": [],
   "source": [
    "import os \n",
    "from osgeo import gdal\n",
    "from pathlib import Path\n",
    "from itertools import islice\n",
    "\n",
    "from shapely.geometry import box\n",
    "import pandas as pd\n",
    "import geopandas as gpd\n",
    "\n",
    "# mapping libraries\n",
    "# https://leafmap.org/faq/#how-to-use-a-specific-plotting-backend\n",
    "import leafmap.foliumap as leafmap"
   ]
  },
  {
   "cell_type": "code",
   "execution_count": null,
   "metadata": {},
   "outputs": [],
   "source": [
    "gis_server = True\n",
    "project_path= Path.cwd().parents[0]\n",
    "shell_path= os.path.join(project_path, \"src\", \"shell\")\n",
    "python_path= os.path.join(project_path, \"src\", \"python\")\n",
    "\n",
    "if gis_server:\n",
    "    data_path = \"/home/NINA.NO/willeke.acampo/Mounts/scratch/wilaca/vern_og_bevaring/data\"\n",
    "else:\n",
    "    data_path = os.path.join(project_path, \"data\")\n",
    "\n",
    "print(f\"Gdal Version: {gdal.__version__} \")\n",
    "print(f\"Project Path: {project_path}\")\n",
    "print(f\"Path to shell scripts: {shell_path}\")\n",
    "print(f\"Path to python scripts: {python_path}\")\n",
    "print(f\"Path to data: {data_path}\")"
   ]
  },
  {
   "cell_type": "code",
   "execution_count": null,
   "metadata": {},
   "outputs": [],
   "source": [
    "# import local scripts\n",
    "import sys \n",
    "sys.path.append(python_path)\n",
    "\n",
    "from ogr_utils import import_gpkg, print_layer_schema\n",
    "from lookup import create_lookup_dict, lookup_value\n",
    "from duckdb_utils import load_gpkg_layers, ar50_area_class, print_duckdb_info, blob_to_geom"
   ]
  },
  {
   "cell_type": "markdown",
   "metadata": {},
   "source": [
    "## Import Data"
   ]
  },
  {
   "cell_type": "markdown",
   "metadata": {},
   "source": [
    "Get the data and import into geopackages `vern_25833.gpkg` and `bevaring_25833.gpkg` using ogr2ogr.\n",
    "\n",
    "```python\n",
    "# change path to data folder\n",
    "os.chdir(os.path.join(data_path, \"raw\"))\n",
    "print(f\"Download data to: {os.getcwd()}\")\n",
    "```\n",
    "\n",
    "```bash\n",
    "# ArcGIS REST: Naturvern (02.2024)\n",
    "ogr2ogr -f \"GPKG\" -t_srs EPSG:25833 -nln naturvernomrade -nlt MULTIPOLYGON vern_25833.gpkg \"https://kart.miljodirektoratet.no/arcgis/rest/services/vern/mapserver/0/query?where=1%3D1&outfields=*&f=json&resultRecordCount=1\"\n",
    "\n",
    "# ArcGIS REST: Foreslåtte verneområder (02.2024)\n",
    "ogr2ogr -f \"GPKG\" -t_srs EPSG:25833 -nln foreslatt_vern -nlt MULTIPOLYGON vern_25833.gpkg \"https://kart.miljodirektoratet.no/arcgis/rest/services/vern/mapserver/4/query?where=1%3D1&outfields=*&f=json&resultRecordCount=1\"\n",
    "\n",
    "# AR50 - 2022 \n",
    "# Stored on NINA's server /GeoSpatialData\n",
    "\n",
    "# Bioklima\n",
    "# Received from V. Bakkestuen (NINA)\n",
    "\n",
    "# SSB grid\n",
    "curl -o Ruter_10KM_norge.zip \"https://www.ssb.no/natur-og-miljo/_attachment/375082?_ts=1685c0e69b8\"\n",
    "unzip Ruter_10KM_norge.zip\n",
    "\n",
    "# Fylkerområder\n",
    "# Stored on NINA's server /GeoSpatialData\n",
    "\n",
    "# Infrastruktur\n",
    "# Received from V. Bakkestuen (NINA)\n",
    "```"
   ]
  },
  {
   "cell_type": "markdown",
   "metadata": {},
   "source": [
    "Downloaded datasets are stored in the `/data` folder:\n",
    "\n",
    "**vern_25833.gpkg** contains the following layers:\n",
    "| Layer | Dataset Name | Description | Year | Source |\n",
    "|-------| ------------ | ----------- | ---- | ------ |\n",
    "| naturvernomrade | Naturvernområder| Nature protected areas | 2024 | [Miljødirektoratet](https://kartkatalog.miljodirektoratet.no/Dataset/Details/0) |\n",
    "| foreslatt_vern | Foreslåtte naturvernområder | Planned nature protected areas | 2024 | [Miljødirektoratet](https://kartkatalog.miljodirektoratet.no/Dataset/Details/1)| \n",
    "\n",
    "**bevaring_25833.gpkg** contains the following layers:\n",
    "|Layer| Dataset Name | Description | Year | Source |\n",
    "|-----| ------------ | ----------- | ---- | ------ |\n",
    "| ar50_2022 | AR50 | Land cover classes | 2022 | [NIBIO](https://kart8.nibio.no/nedlasting/dashboard) |\n",
    "| bioklima_soner_2017 | Bioklimatiske soner | Bioclimatic zones | 2017 | [Artsdatabanken](https://data.artsdatabanken.no/Natur_i_Norge/Natursystem/Beskrivelsessystem/Regional_naturvariasjon/Bioklimatisk_sone) |\n",
    "\n",
    "**other files**\n",
    "\n",
    "| Filename | Dataset Name | Description | Year | Source |\n",
    "|----------| ------------ | ----------- | ---- | ------ |\n",
    "| ssb_grid_5km.geojson | SSB rutenett (5x5 km)| Grid for Norway | 2024 | [SSB](https://kart.ssb.no/) |\n",
    "| fylker_2024.geojson | Fylker, 2024 | Provincial Boundaries | 2024 | [SSB](https://www.ssb.no/en/kart/griddata) |\n",
    "| Infra25m.tif | Infrastrukturindeks | Infrastructure index (25m)| 2024 | Internal NINA datasett |"
   ]
  },
  {
   "cell_type": "code",
   "execution_count": null,
   "metadata": {},
   "outputs": [],
   "source": [
    "run_cell = False\n",
    "\n",
    "if run_cell: \n",
    "    # run shell scripts from /src/shell\n",
    "    os.chdir(shell_path)\n",
    "\n",
    "    input_file = \"vern_25833.gpkg\"\n",
    "    path = os.path.join(data_path, \"interim\")\n",
    "\n",
    "    ! gdalinfo --version\n",
    "    ! chmod +x gdal_gpkg-info.sh\n",
    "    ! ./gdal_gpkg-info.sh {path} {input_file}"
   ]
  },
  {
   "cell_type": "markdown",
   "metadata": {},
   "source": [
    "## Data Preparation"
   ]
  },
  {
   "cell_type": "markdown",
   "metadata": {},
   "source": [
    "### Case Study | Fosen, Trøndelag\n",
    "\n",
    "In this notebook we use Fosen as an example site to follow along the analysis steps on the map. Note that the analysis is performed for all protected areas in mainland Norway. \n",
    "\n",
    "https://ipyleaflet.readthedocs.io/en/latest/installation/index.html#using-pip \n"
   ]
  },
  {
   "cell_type": "markdown",
   "metadata": {},
   "source": [
    "### Prepare bounding box"
   ]
  },
  {
   "cell_type": "code",
   "execution_count": null,
   "metadata": {},
   "outputs": [],
   "source": [
    "# bounding box Dovrefjell\n",
    "bounding_box = \"fosen\"  # \"dovrefjell\" or \"trondheim\"\n",
    "\n",
    "if bounding_box == \"dovrefjell\":\n",
    "    xmin, ymin, xmax, ymax = 160000.00, 6900000.00, 260000.00, 6950000.00\n",
    "if bounding_box == \"fosen\":\n",
    "    xmin, ymin, xmax, ymax = 180000.00, 7010000.00, 290000.00, 7150000.00\n",
    "if bounding_box == \"trondheim\":\n",
    "    xmin, ymin, xmax, ymax = 260520.12, 7032142.5, 278587.56, 7045245.27\n",
    "\n",
    "# Create a bounding box\n",
    "boxBB =  box(xmin, ymin, xmax, ymax)\n",
    "crs = 'EPSG:25833'\n",
    "\n",
    "gdf_BB = gpd.GeoDataFrame(geometry=[boxBB])\n",
    "gdf_BB['name'] = 'Dovre_BB'\n",
    "gdf_BB.crs = crs\n",
    "bounds = gdf_BB.bounds.to_numpy().tolist()[0]"
   ]
  },
  {
   "cell_type": "code",
   "execution_count": null,
   "metadata": {},
   "outputs": [],
   "source": [
    "run_cell = False\n",
    "\n",
    "if run_cell: \n",
    "    # run shell scripts from /src/shell\n",
    "    os.chdir(shell_path)\n",
    "    for file in [\"vern\", \"bevaring\", \"admin\"]:\n",
    "        input_file = os.path.join(data_path, \"interim\", f\"{file}_25833.gpkg\")\n",
    "        output_file = os.path.join(data_path, \"tmp\", f\"{file}_25833_bbox.gpkg\")\n",
    "        \n",
    "        #for layer_name in layer_names:\n",
    "        ! chmod +x gdal_copy-file-bbox.sh\n",
    "        ! ./gdal_copy-file-bbox.sh {input_file} {output_file} {xmin} {ymin} {xmax} {ymax}"
   ]
  },
  {
   "cell_type": "markdown",
   "metadata": {},
   "source": [
    "### Display Data on the Map"
   ]
  },
  {
   "cell_type": "code",
   "execution_count": null,
   "metadata": {},
   "outputs": [],
   "source": [
    "# Display data on map using leafmap\n",
    "init_location = [62.223207, 9.550195]  # Hjerkinn\n",
    "zoom_start = 13  \n",
    "min_zoom = 8  # keeps user from zooming out too far\n",
    "basemap = leafmap.Map(\n",
    "    location=init_location, \n",
    "    zoom=zoom_start, \n",
    "    min_zoom=min_zoom, \n",
    "    max_bounds=True\n",
    "    )\n",
    "\n",
    "# set background\n",
    "basemap.add_basemap(\"SATELLITE\", opacity=0.7)\n",
    "\n",
    "# add WMS verneområder\n",
    "wms_url =\"https://kart.miljodirektoratet.no/arcgis/services/vern/mapserver/WMSServer\"\n",
    "wms_layer = \"naturvern_klasser_omrade\"\n",
    "wms_name = \"naturvern_klasser_omrade\"\n",
    "basemap.add_wms_layer(\n",
    "    url=wms_url, \n",
    "    layers=wms_layer, \n",
    "    name=wms_name, \n",
    "    wms_format=\"image/png\",\n",
    "    )\n",
    "# add bounding box - Hjerkinn\n",
    "basemap.add_gdf(gdf_BB, layer_name=\"Dovre_BB\", fill_color=\"blue\", fill_opacity=0.2, weight=2)\n",
    "\n",
    "basemap"
   ]
  },
  {
   "cell_type": "markdown",
   "metadata": {},
   "source": [
    "### AR50 - Bonitet\n",
    "\n",
    "Translate the Bonitet classes using a lookup table.\n",
    " \n",
    "&emsp; $Bonitet = (artype, artreslag, arskogbon, arjordbr, ardyrkning, arveget)$ "
   ]
  },
  {
   "cell_type": "code",
   "execution_count": null,
   "metadata": {},
   "outputs": [],
   "source": [
    "run_cell = False\n",
    "\n",
    "if run_cell: \n",
    "    # create a temporary test gpkg\n",
    "    tmp_gpkg = os.path.join(data_path, \"tmp\", \"tmp.gpkg\")\n",
    "    in_gpkg = os.path.join(data_path, \"interim\", \"bevaring_25833.gpkg\")\n",
    "    print(tmp_gpkg)\n",
    "\n",
    "    sql_query = f'SELECT * FROM \"ar50_flate\" LIMIT 5'\n",
    "    path = os.path.join(data_path, \"tmp\")\n",
    "    ! ogr2ogr -f \"GPKG\" -nln \"ar50_flate\" -sql \"$sql_query\" {tmp_gpkg} {in_gpkg}"
   ]
  },
  {
   "cell_type": "code",
   "execution_count": null,
   "metadata": {},
   "outputs": [],
   "source": [
    "# if Test is True, import test gpkg otherwise import the original gpkg\n",
    "study_area = True\n",
    "\n",
    "# ar50 layer\n",
    "layer_name, new_field_name = \"ar50_flate\", \"ar50_bonitet\"\n",
    "\n",
    "if study_area:\n",
    "    # import gpkg into ogr object \n",
    "    # add field name if it does not exist\n",
    "    tmp_gpkg = os.path.join(data_path, \"tmp\", \"bevaring_25833_bbox.gpkg\")\n",
    "    ds, lyr = import_gpkg(tmp_gpkg, layer_name, new_field_name)\n",
    "    #print_layer_schema(lyr)\n",
    "\n",
    "else:\n",
    "    # import gpkg into ogr object \n",
    "    # add field name if it does not exist\n",
    "    in_gpkg = os.path.join(data_path, \"interim\", \"bevaring_25833.gpkg\")\n",
    "    ds, lyr = import_gpkg(in_gpkg, layer_name, new_field_name)\n",
    "    #print_layer_schema(lyr)\n",
    "\n",
    "# Convert the first 5 features of the layer to a DataFrame\n",
    "# use islice to limit the number of features to 5, to reduce computation time\n",
    "df_AR50 = pd.DataFrame(feature.items() for feature in islice(lyr, 5))\n",
    "\n",
    "# Print the DataFrame\n",
    "df_AR50"
   ]
  },
  {
   "cell_type": "code",
   "execution_count": null,
   "metadata": {},
   "outputs": [],
   "source": [
    "# lookup table \n",
    "lookup_csv = os.path.join(data_path, \"AR50_bonitet_lookup.csv\")\n",
    "lookup_df = pd.read_csv(lookup_csv)\n",
    "\n",
    "# rename cols to correspond with AR50 lyr\n",
    "lookup_df.rename(\n",
    "    columns={\n",
    "        \"ARTYPE kode\": \"artype\",\n",
    "        \"ARTRESLAG kode\": \"artreslag\",\n",
    "        \"ARSKOGBON kode\": \"arskogbon\",\n",
    "        \"ARJORDBR kode\": \"arjordbr\",\n",
    "        \"ARDYRKING kode\": \"ardyrking\",\n",
    "        \"ARVEGET kode\": \"arveget\",\n",
    "        \"Bonitet kode\": \"ar50_bonitet\",\n",
    "    },\n",
    "    inplace=True,\n",
    ")\n",
    "\n",
    "# reorder cols to correspond with AR50 lyr\n",
    "lookup_df = lookup_df[\n",
    "    [\n",
    "        \"artype\",\n",
    "        \"arskogbon\",\n",
    "        \"artreslag\",\n",
    "        \"arveget\",\n",
    "        \"arjordbr\",\n",
    "        \"ardyrking\",\n",
    "        \"Beskrivelse\",\n",
    "        \"ar50_bonitet\",\n",
    "    ]\n",
    "]\n",
    "\n",
    "display(lookup_df.head(11))"
   ]
  },
  {
   "cell_type": "code",
   "execution_count": null,
   "metadata": {},
   "outputs": [],
   "source": [
    "# create lookup dict\n",
    "# keys must be in same order as gpkg lyr fields\n",
    "keys = (\n",
    "    \"artype\",\n",
    "    \"arskogbon\",\n",
    "    \"artreslag\",\n",
    "    \"arveget\",\n",
    "    \"arjordbr\",\n",
    "    \"ardyrking\",\n",
    "    )\n",
    "\n",
    "value= \"ar50_bonitet\"\n",
    "\n",
    "lookup_dict = create_lookup_dict(\n",
    "    lookup_df,\n",
    "    keys=keys,\n",
    "    value=value\n",
    ")\n",
    "\n",
    "# print first two entries of dict\n",
    "print({k: lookup_dict[k] for k in list(lookup_dict)[:11]})"
   ]
  },
  {
   "cell_type": "code",
   "execution_count": null,
   "metadata": {},
   "outputs": [],
   "source": [
    "run_cell = False\n",
    "\n",
    "if run_cell:\n",
    "    # loop through the features and reclassify the attribute value \"ar50_bonitet\"\n",
    "    features_to_update = []\n",
    "\n",
    "    for feature in lyr:\n",
    "        # get the attribute values\n",
    "        artype = feature.GetField(\"artype\")\n",
    "        arskogbon = feature.GetField(\"arskogbon\")\n",
    "        artreslag = feature.GetField(\"artreslag\")\n",
    "        arveget = feature.GetField(\"arveget\")\n",
    "        arjordbr = feature.GetField(\"arjordbr\")\n",
    "        ardyrking = feature.GetField(\"ardyrking\")\n",
    "\n",
    "        key = (int(artype), int(arskogbon), int(artreslag), int(arveget), int(arjordbr), int(ardyrking))\n",
    "        if key in lookup_dict:\n",
    "            new_value = lookup_dict[key]\n",
    "            feature.SetField(\"ar50_bonitet\", new_value)\n",
    "            features_to_update.append(feature)\n",
    "\n",
    "    print(f\"Number of features to update: {len(features_to_update)}\")\n",
    "    # Batch update features\n",
    "    for feature in features_to_update:\n",
    "        lyr.SetFeature(feature)\n",
    "\n",
    "    print(\"Finished updating Bonitet.\")\n",
    "\n",
    "    df_AR50_bon = pd.DataFrame(feature.items() for feature in islice(lyr, 5))\n",
    "    display(df_AR50_bon.head())\n",
    "\n",
    "# close OGR object\n",
    "ds = None"
   ]
  },
  {
   "cell_type": "code",
   "execution_count": null,
   "metadata": {},
   "outputs": [],
   "source": [
    "run_cell = False\n",
    "\n",
    "if run_cell:\n",
    "    # Define the SQL queries\n",
    "    sql_marine = f\"SELECT * FROM ar50_flate WHERE ar50_bonitet = 17\"\n",
    "    sql_terrestisk = f\"SELECT * FROM ar50_flate WHERE ar50_bonitet != 17\"\n",
    "\n",
    "    # if Test is True, import test gpkg otherwise import the original gpkg\n",
    "    study_area = True\n",
    "\n",
    "\n",
    "    if study_area:\n",
    "        # import gpkg into ogr object \n",
    "        # add field name if it does not exist\n",
    "        in_gpkg = os.path.join(data_path, \"tmp\", \"bevaring_25833_bbox.gpkg\")\n",
    "        out_gpkg = os.path.join(data_path, \"tmp\", \"interim_25833_bbox.gpkg\")\n",
    "    else:\n",
    "        # import gpkg into ogr object \n",
    "        # add field name if it does not exist\n",
    "        in_gpkg = os.path.join(data_path, \"interim\", \"bevaring_25833.gpkg\")\n",
    "        out_gpkg = os.path.join(data_path, \"interim\", \"interim_25833.gpkg\")\n",
    "\n",
    "    print(out_gpkg)\n",
    "\n",
    "    # Create the ar50_marine layer\n",
    "    ! ogr2ogr -f \"GPKG\" -nln \"ar50_marine\" -sql \"$sql_marine\" -append {out_gpkg} {in_gpkg}\n",
    "    # Create the ar50_terrestisk layer\n",
    "    ! ogr2ogr -f \"GPKG\" -nln \"ar50_terrestisk\" -sql \"$sql_terrestisk\" -append {out_gpkg} {in_gpkg}"
   ]
  },
  {
   "cell_type": "code",
   "execution_count": null,
   "metadata": {},
   "outputs": [],
   "source": [
    "run_cell = False\n",
    "\n",
    "if run_cell:\n",
    "\n",
    "    # AR50 into duckdb\n",
    "    # if Test is True, import test gpkg otherwise import the original gpkg\n",
    "    study_area = True\n",
    "\n",
    "    if study_area:\n",
    "        in_gpkg = os.path.join(data_path, \"tmp\", \"bevaring_25833_bbox.gpkg\")\n",
    "        db_path = os.path.join(data_path, \"tmp\", \"verg_og_bevaring_tmp.db\")\n",
    "        load_gpkg_layers(db_path, in_gpkg, \"ar50_flate\")\n",
    "        load_gpkg_layers(db_path, in_gpkg, \"ar50_flate_msk\")\n",
    "    else:\n",
    "        in_gpkg = os.path.join(data_path, \"interim\", \"bevaring_25833.gpkg\")\n",
    "        db_path = os.path.join(data_path, \"interim\", \"verg_og_bevaring.db\")\n",
    "        load_gpkg_layers(db_path, in_gpkg, \"ar50_flate\")"
   ]
  },
  {
   "cell_type": "markdown",
   "metadata": {},
   "source": [
    "### Protected Areas\n",
    "\n",
    "Divide the protected areas into terrestrial and marine areas\n",
    "\n",
    "Bonitet = 17 (Hav) are considered as marine areas, all other areas are considered as terrestrial areas.\n",
    "ARealtype = 82 (Hav)"
   ]
  },
  {
   "cell_type": "code",
   "execution_count": null,
   "metadata": {},
   "outputs": [],
   "source": [
    "# import protected areas into DuckDB\n",
    "\n",
    "# if Test is True, import test gpkg otherwise import the original gpkg\n",
    "study_area = True\n",
    "\n",
    "if study_area:\n",
    "    in_gpkg = os.path.join(data_path, \"tmp\", \"vern_25833_bbox.gpkg\")\n",
    "    db_path = os.path.join(data_path, \"tmp\", \"verg_og_bevaring_tmp.db\")\n",
    "    load_gpkg_layers(db_path, in_gpkg, \"naturvernomrade\")\n",
    "    load_gpkg_layers(db_path, in_gpkg, \"foreslatt_vern\")\n",
    "else:\n",
    "    in_gpkg = os.path.join(data_path, \"interim\", \"vern_25833.gpkg\")\n",
    "    db_path = os.path.join(data_path, \"interim\", \"verg_og_bevaring.db\")\n",
    "    load_gpkg_layers(db_path, in_gpkg, \"naturvernomrade\")\n",
    "    load_gpkg_layers(db_path, in_gpkg, \"foreslatt_vern\")"
   ]
  },
  {
   "cell_type": "markdown",
   "metadata": {},
   "source": [
    "### Infrastructure index\n",
    "\n",
    "- Calculate and display the distribution of the infrastructure index for the whole of norway \n",
    "- Calculate and display the distribution of the infrastructure index per region\n",
    "- Calculate and display the distribution of the infrastructure index per protected area\n",
    "- Define the infrastructure index classes\n"
   ]
  },
  {
   "cell_type": "code",
   "execution_count": null,
   "metadata": {},
   "outputs": [],
   "source": []
  },
  {
   "cell_type": "markdown",
   "metadata": {},
   "source": [
    "### Topographic height\n",
    "\n",
    "Classify the topographic height into 4 classes:\n",
    "- 0-300m\n",
    "- 301-600m\n",
    "- 601-900m\n",
    "- over 900m"
   ]
  },
  {
   "cell_type": "markdown",
   "metadata": {},
   "source": [
    "### Prepare DuckDB tables"
   ]
  },
  {
   "cell_type": "code",
   "execution_count": null,
   "metadata": {},
   "outputs": [],
   "source": [
    "import duckdb\n",
    "\n",
    "\n",
    "con = duckdb.connect(db_path)\n",
    "con.install_extension('spatial')\n",
    "con.load_extension('spatial')"
   ]
  },
  {
   "cell_type": "code",
   "execution_count": null,
   "metadata": {},
   "outputs": [],
   "source": [
    "# print_duckdb_info(db_path)\n",
    "con.sql(\"SHOW TABLES;\")\n"
   ]
  },
  {
   "cell_type": "code",
   "execution_count": null,
   "metadata": {},
   "outputs": [],
   "source": []
  },
  {
   "cell_type": "code",
   "execution_count": null,
   "metadata": {},
   "outputs": [],
   "source": [
    "# duckdb tables names to list\n",
    "tables = con.execute(\"SHOW TABLES;\").fetchdf()\n",
    "tables = tables[\"name\"].to_list()\n",
    "print(tables)"
   ]
  },
  {
   "cell_type": "code",
   "execution_count": null,
   "metadata": {},
   "outputs": [],
   "source": [
    "# close\n",
    "con.close()"
   ]
  },
  {
   "cell_type": "markdown",
   "metadata": {},
   "source": [
    "**Convert BLOB columns to GEOM columns**"
   ]
  },
  {
   "cell_type": "code",
   "execution_count": null,
   "metadata": {},
   "outputs": [],
   "source": [
    "run_cell = False\n",
    "\n",
    "if run_cell:\n",
    "    # cast BLOB (Binary Large OBject) to geometry for spatial operations\n",
    "    for table in ['foreslatt_vern']:\n",
    "        \n",
    "        # TODO add check if geom field exists\n",
    "        \n",
    "        blob_to_geom(\n",
    "            db_path=db_path,\n",
    "            tbl_name=table,\n",
    "            blob_field=\"geometry\",\n",
    "            geom_field=\"geom\",   \n",
    "        )"
   ]
  },
  {
   "cell_type": "code",
   "execution_count": null,
   "metadata": {},
   "outputs": [],
   "source": [
    "con.sql(f\"SELECT * FROM foreslatt_vern LIMIT 5\")\n"
   ]
  },
  {
   "cell_type": "code",
   "execution_count": null,
   "metadata": {},
   "outputs": [],
   "source": [
    "for table in tables:\n",
    "    # print first 5 rows of each table\n",
    "    \n",
    "    break"
   ]
  },
  {
   "cell_type": "markdown",
   "metadata": {},
   "source": [
    "## Methods\n",
    "### 1. Geometry variables for protected areas\n",
    "\n",
    "| Protected area | Total area (km2) | Perimeter (km) | Land area (km2) | Perimeter land area (km) |\n",
    "|----------------|------------|----------------|-----------------|-------------------------|\n",
    "| *NaturvernId* | *areal_km2* | *omkrets_km* | *landareal_km2* | *landomkrets_km*|\n",
    "| area A         |    *        |                |                 |                         |"
   ]
  },
  {
   "cell_type": "code",
   "execution_count": null,
   "metadata": {},
   "outputs": [],
   "source": [
    "# calc. landareal = area that overlaps with ar50_terrestrial\n",
    "# calc. marineareal = area that overlaps with ar50_marine\n",
    "\n"
   ]
  },
  {
   "cell_type": "markdown",
   "metadata": {},
   "source": [
    "***\n",
    "$\\mathbf{\\text{Shape Index}}$<br>\n",
    "***\n",
    "The shape index is a measure of how compact the shape is compared to a circle with the same area. The shape index is calculated for the entire protected area and the land area. The shape index is a value between 0 and 1, where 0 is a perfect circle and 1 is a long and narrow shape.\n",
    "\n",
    "- $P$ = perimeter\n",
    "- $r$ = radius\n",
    "- $A$ = area\n",
    "\n",
    "\n",
    "**Shape Index:**&emsp;      $SI = \\frac{P}{2\\pi r}$\n",
    "\n",
    "**Radius:**&emsp; $r = \\sqrt{\\frac{A}{\\pi}}$"
   ]
  },
  {
   "cell_type": "code",
   "execution_count": null,
   "metadata": {},
   "outputs": [],
   "source": [
    "# calc formindex"
   ]
  },
  {
   "cell_type": "markdown",
   "metadata": {},
   "source": [
    "### 2. Area overlay statistics for the protected area and the following datasets:\n",
    "\n"
   ]
  },
  {
   "cell_type": "markdown",
   "metadata": {},
   "source": [
    "\n",
    "\n",
    "**AR50 - Bonitet**\n",
    "\n",
    "| Protected area | Fulldyrka og overflatedyrka jord (%) | Innmarksbeite (%) | Skog, høg og særs høg bonitet (%) | ... |\n",
    "|----------------|--------------------------------------|-------------------|-----------------------------------|-----|\n",
    "| *NaturvernId*  |*AR50_bon_1*|*AR50_bon_2*|*AR50_bon_3*|...|\n",
    "| area A         |                                      |                   |                                   |     |\n"
   ]
  },
  {
   "cell_type": "code",
   "execution_count": null,
   "metadata": {},
   "outputs": [],
   "source": []
  },
  {
   "cell_type": "code",
   "execution_count": null,
   "metadata": {},
   "outputs": [],
   "source": [
    "tbl_study_area = \"foreslatt_vern\"\n",
    "id = \"identifikasjon_lokalId\"\n",
    "tbl_ar50 = \"ar50_flate_msk\"\n",
    "ar50_field = \"ar50_bonitet\"\n",
    "area_class = 17\n",
    "new_field = \"ar50_bon17\"\n",
    "\n",
    "\n",
    "ar50_area_class(db_path, tbl_study_area, id, tbl_ar50, ar50_field, area_class, new_field)"
   ]
  },
  {
   "cell_type": "code",
   "execution_count": null,
   "metadata": {},
   "outputs": [],
   "source": [
    "# print first 5 rows of the table \"foreslatt_vern\"\n",
    "with duckdb.connect(db_path) as con:\n",
    "    df = con.execute(\"SELECT * FROM foreslatt_vern\").fetchdf()\n",
    "    display(df.head())"
   ]
  },
  {
   "cell_type": "markdown",
   "metadata": {},
   "source": [
    "**Bioklimatiske soner**\n",
    "\n",
    "| Protected area | Sone 1 (%) | Sone 2 (%) | Sone 3 (%) | ... |\n",
    "|----------------|------------|------------|------------|-----|\n",
    "| *NaturvernId*  |*bioklima_1*|*bioklima_2*|*bioklima_3*|...  |\n",
    "| area A         |            |            |            |     |"
   ]
  },
  {
   "cell_type": "code",
   "execution_count": null,
   "metadata": {},
   "outputs": [],
   "source": []
  },
  {
   "cell_type": "markdown",
   "metadata": {},
   "source": [
    "**Infrastrukturindeks**\n",
    "\n",
    "| Protected area | Mean value | Lav (%) | Middels (%) | Høy (%) | ... |\n",
    "|----------------|------------|---------|-------------|---------|-----|\n",
    "| area A         |            |         |             |         |     |\n"
   ]
  },
  {
   "cell_type": "code",
   "execution_count": null,
   "metadata": {},
   "outputs": [],
   "source": []
  },
  {
   "cell_type": "markdown",
   "metadata": {},
   "source": [
    "**Høydelag**\n",
    "\n",
    "| Protected area | 0-300 m (%) | 301-600 m (%) | 601-900 m (%) | over 900 m (%) |\n",
    "|----------------|-------------|---------------|---------------|----------------|\n",
    "| area A         |             |               |               |                |\n"
   ]
  },
  {
   "cell_type": "code",
   "execution_count": null,
   "metadata": {},
   "outputs": [],
   "source": []
  },
  {
   "cell_type": "markdown",
   "metadata": {},
   "source": [
    "### 3. Regional Statistics\n"
   ]
  },
  {
   "cell_type": "markdown",
   "metadata": {},
   "source": [
    "Administrative regions:\n",
    "- Municipalities\n",
    "- Counties\n",
    "- Regions \n",
    "    - **Nord**: Finnmark, Troms, Nordland\n",
    "    - **Midt**: Trøndelag, Møre og Romsdal\n",
    "    - **Sør**: Agder, Vestfold, Telemark\n",
    "    - **Øst**: Østfold, Akershus, Oslo, Innlandet, Buskerud\n",
    "    - **Vest**: Vestland, Rogaland\n",
    "\n",
    "\n",
    "| Protected area | Municipality | County | Region |\n",
    "|----------------|---------|-------|--------|\n",
    "| *NaturvernId*  |*kommune*|*fylke*|*region*|\n",
    "| area A         |         |       |        |\n",
    "\n",
    "*Regional datasett*:\n",
    "\n",
    "| Region | Area | Protected Area | Land Protected Area | Marine Protected Area |\n",
    "|--------|------|----------------|---------------------|-----------------------|\n",
    "| *Region* | *areal* | *a_vern* | *a_landvern* | *a_marinvern* |\n",
    "| Nord ||||||\n"
   ]
  },
  {
   "cell_type": "code",
   "execution_count": null,
   "metadata": {},
   "outputs": [],
   "source": []
  },
  {
   "cell_type": "markdown",
   "metadata": {},
   "source": [
    "###  4. Grid Statistics (10x10 km2)\n",
    "\n",
    "**Rutenettstatistikk:**\n",
    "\n",
    "| SSB grid cell | area | Density (land + marine) | Density (land) | \n",
    "| --------------|------|-------------------------|----------------|\n",
    "| *grid_ID* | *grid_areal* | *tetthet_tot_vern* | *tetthet_landvern* | \n",
    "| cell 1| 100 km2 | ||\n",
    "\n",
    "\n",
    "\n"
   ]
  },
  {
   "cell_type": "markdown",
   "metadata": {},
   "source": [
    "***\n",
    "$\\mathbf{\\text{Density}}$<br>\n",
    "***\n",
    "The density of protected area per 10x10km (SSB grid) is calculated by dividing the area of the protected area by 100 km^2.\n",
    "\n",
    "**Density:**&emsp;      $Density = \\frac{A}{100 km^2}$\n",
    "\n"
   ]
  },
  {
   "cell_type": "code",
   "execution_count": null,
   "metadata": {},
   "outputs": [],
   "source": [
    "# code for density calculation here\n",
    "# check land cover fraction notebook\n"
   ]
  }
 ],
 "metadata": {
  "kernelspec": {
   "display_name": "Python 3 (ipykernel)",
   "language": "python",
   "name": "python3"
  },
  "language_info": {
   "codemirror_mode": {
    "name": "ipython",
    "version": 3
   },
   "file_extension": ".py",
   "mimetype": "text/x-python",
   "name": "python",
   "nbconvert_exporter": "python",
   "pygments_lexer": "ipython3",
   "version": "3.10.12"
  }
 },
 "nbformat": 4,
 "nbformat_minor": 2
}
